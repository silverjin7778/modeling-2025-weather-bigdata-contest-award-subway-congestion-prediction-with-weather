{
 "cells": [
  {
   "cell_type": "code",
   "execution_count": 1,
   "id": "e0556a30-7651-4238-b9bb-b331bbba1b40",
   "metadata": {
    "executionInfo": {
     "elapsed": 14268,
     "status": "ok",
     "timestamp": 1749081754860,
     "user": {
      "displayName": "전은진",
      "userId": "09881883516805701170"
     },
     "user_tz": -540
    },
    "id": "e0556a30-7651-4238-b9bb-b331bbba1b40"
   },
   "outputs": [
    {
     "name": "stdout",
     "output_type": "stream",
     "text": [
      "WARNING:tensorflow:From C:\\Users\\campus4D035\\anaconda3\\Lib\\site-packages\\tf_keras\\src\\losses.py:2976: The name tf.losses.sparse_softmax_cross_entropy is deprecated. Please use tf.compat.v1.losses.sparse_softmax_cross_entropy instead.\n",
      "\n"
     ]
    }
   ],
   "source": [
    "# 📦 라이브러리 불러오기\n",
    "import numpy as np\n",
    "import pandas as pd\n",
    "import matplotlib.pyplot as plt\n",
    "import seaborn as sns\n",
    "from sklearn.preprocessing import StandardScaler, MinMaxScaler, LabelEncoder\n",
    "from tensorflow.keras.models import Sequential\n",
    "from tensorflow.keras.layers import LSTM, Dense, Dropout, BatchNormalization, Input\n",
    "from tensorflow.keras.callbacks import ReduceLROnPlateau, EarlyStopping\n",
    "from tensorflow.keras.optimizers import Adam\n",
    "from sklearn.metrics import mean_squared_error, r2_score\n",
    "from tensorflow.keras.preprocessing.sequence import TimeseriesGenerator\n",
    "\n",
    "# 📁 데이터 불러오기\n",
    "df = pd.read_parquet('prepro_data.parquet')"
   ]
  },
  {
   "cell_type": "code",
   "execution_count": null,
   "id": "018857f9-3e9b-4826-b818-48662fcb8f2a",
   "metadata": {
    "id": "018857f9-3e9b-4826-b818-48662fcb8f2a",
    "scrolled": true
   },
   "outputs": [],
   "source": [
    "# 추가 학습 코드\n",
    "# history_Line2_batch128 = Line2_model_batch128.fit(\n",
    "#     train_gen,\n",
    "#     validation_data=val_gen,\n",
    "#     epochs=50,                 # 총 학습 epoch. 이미 14번 했으므로 여기선 15~30까지 실행됨\n",
    "#     initial_epoch=,         # 14번째까지 학습했다면 여기서 이어서 시작\n",
    "#     callbacks=[early_stop, reduce_lr, checkpoint]\n",
    "# )"
   ]
  },
  {
   "cell_type": "markdown",
   "id": "ef2394a7-49dc-48a9-99f8-ea8fa76f770c",
   "metadata": {
    "id": "ef2394a7-49dc-48a9-99f8-ea8fa76f770c",
    "jp-MarkdownHeadingCollapsed": true
   },
   "source": [
    "# 1호선"
   ]
  },
  {
   "cell_type": "markdown",
   "id": "eiOCYpscWcYs",
   "metadata": {
    "id": "eiOCYpscWcYs",
    "jp-MarkdownHeadingCollapsed": true
   },
   "source": [
    "## 1호선 데이터 불러오기"
   ]
  },
  {
   "cell_type": "code",
   "execution_count": 2,
   "id": "yYQ_6kVNPyVY",
   "metadata": {
    "colab": {
     "base_uri": "https://localhost:8080/"
    },
    "executionInfo": {
     "elapsed": 35007,
     "status": "ok",
     "timestamp": 1749009348957,
     "user": {
      "displayName": "전은진",
      "userId": "09881883516805701170"
     },
     "user_tz": -540
    },
    "id": "yYQ_6kVNPyVY",
    "outputId": "cc0356ec-8c14-4b1a-90e6-2a2676c84c00"
   },
   "outputs": [
    {
     "name": "stdout",
     "output_type": "stream",
     "text": [
      "<class 'pandas.core.frame.DataFrame'>\n",
      "Index: 2732122 entries, 0 to 11364138\n",
      "Data columns (total 27 columns):\n",
      " #   Column    Dtype         \n",
      "---  ------    -----         \n",
      " 0   시간        datetime64[ns]\n",
      " 1   호선        category      \n",
      " 2   역번호       int32         \n",
      " 3   역명        category      \n",
      " 4   상하구분      category      \n",
      " 5   AWS지점코드   category      \n",
      " 6   기온        float32       \n",
      " 7   풍향        float32       \n",
      " 8   풍속        float32       \n",
      " 9   일강수량      float32       \n",
      " 10  시간강수량     float32       \n",
      " 11  상대습도      float32       \n",
      " 12  체감온도      float32       \n",
      " 13  혼잡도       float32       \n",
      " 14  승차총승객수    float32       \n",
      " 15  하차총승객수    float32       \n",
      " 16  미세먼지      float32       \n",
      " 17  연도        category      \n",
      " 18  월         int32         \n",
      " 19  일         int32         \n",
      " 20  주말        int32         \n",
      " 21  공휴일       int32         \n",
      " 22  일사량_측정여부  int32         \n",
      " 23  시_sin     float32       \n",
      " 24  시_cos     float32       \n",
      " 25  요일_sin    float32       \n",
      " 26  요일_cos    float32       \n",
      "dtypes: category(5), datetime64[ns](1), float32(15), int32(6)\n",
      "memory usage: 276.2 MB\n"
     ]
    }
   ],
   "source": [
    "df1 = df[df['호선'] == 1].copy()\n",
    "cols = ['연도', '호선','상하구분','AWS지점코드']\n",
    "for col in cols:\n",
    "    df1[col] = df1[col].astype('category')\n",
    "\n",
    "# 시 (0~23 기준)\n",
    "df1['시_sin'] = np.sin(2 * np.pi * df1['시'] / 24)\n",
    "df1['시_cos'] = np.cos(2 * np.pi * df1['시'] / 24)\n",
    "\n",
    "# 요일 (0~6 기준, 월~일)\n",
    "df1['요일_sin'] = np.sin(2 * np.pi * df1['요일'] / 7)\n",
    "df1['요일_cos'] = np.cos(2 * np.pi * df1['요일'] / 7)\n",
    "\n",
    "# 월, 일 (1~12, 1~31 기준)\n",
    "le = LabelEncoder()\n",
    "df1['월'] = le.fit_transform(df1['월'])\n",
    "df1['일'] = le.fit_transform(df1['일'])\n",
    "\n",
    "# 1. float64 → float32\n",
    "float_cols = df1.select_dtypes(include=['float64']).columns\n",
    "df1[float_cols] = df1[float_cols].astype('float32')\n",
    "\n",
    "# 2. int64 → int32\n",
    "int_cols = df1.select_dtypes(include=['int64']).columns\n",
    "df1[int_cols] = df1[int_cols].astype('int32')\n",
    "\n",
    "# 3. object(문자열) → category\n",
    "obj_cols = df1.select_dtypes(include=['object']).columns\n",
    "df1[obj_cols] = df1[obj_cols].astype('category')\n",
    "\n",
    "df1 = df1.drop(['시', '요일'], axis=1)\n",
    "df1.info()\n",
    "\n",
    "# ✅ [1] 피처 구성 및 전처리 --------------------------------------------------------\n",
    "\n",
    "# 🎯 타겟 변수 '혼잡도' 제거하여 X 생성\n",
    "X = df1.drop(['혼잡도', '시간'], axis=1)\n",
    "\n",
    "# 🔤 범주형 변수 원-핫 인코딩 (첫 번째 카테고리는 drop)\n",
    "o_h_e_x = pd.get_dummies(X, columns=['연도', '역명', '호선', '상하구분', 'AWS지점코드'], drop_first=True)\n",
    "\n",
    "# 🔢 X 정규화 (0~1 범위로 스케일링)\n",
    "mm = MinMaxScaler()\n",
    "mm_x = mm.fit_transform(o_h_e_x)\n",
    "\n",
    "# 🎯 y 정규화 (표준화: 평균 0, 표준편차 1)\n",
    "y = df1[['혼잡도']]  # 2D로 유지\n",
    "ss = StandardScaler()\n",
    "ss_y = ss.fit_transform(y)\n",
    "\n",
    "# ✅ [2] 시계열 학습/검증 데이터 분할 --------------------------------------------------\n",
    "\n",
    "# 전체의 80%를 학습용, 나머지 20%를 검증용으로 사용\n",
    "split_index = int(len(mm_x) * 0.8)\n",
    "\n",
    "train_x = mm_x[:split_index]\n",
    "train_y = ss_y[:split_index]\n",
    "\n",
    "val_x = mm_x[split_index:]\n",
    "val_y = ss_y[split_index:]"
   ]
  },
  {
   "cell_type": "markdown",
   "id": "06f8eafa-447b-437c-8e72-1919721e40ed",
   "metadata": {
    "id": "06f8eafa-447b-437c-8e72-1919721e40ed"
   },
   "source": [
    "## 배치사이즈 128"
   ]
  },
  {
   "cell_type": "markdown",
   "id": "5e3e7a7e-3e90-4d12-8fc8-688d1f827044",
   "metadata": {
    "jp-MarkdownHeadingCollapsed": true
   },
   "source": [
    "# 드롭아웃 0.25"
   ]
  },
  {
   "cell_type": "code",
   "execution_count": 17,
   "id": "a841a589-3dfe-4ded-8fb9-0a492ae98bba",
   "metadata": {},
   "outputs": [
    {
     "name": "stdout",
     "output_type": "stream",
     "text": [
      "WARNING:tensorflow:From C:\\Users\\campus4D035\\anaconda3\\Lib\\site-packages\\tf_keras\\src\\backend.py:1400: The name tf.executing_eagerly_outside_functions is deprecated. Please use tf.compat.v1.executing_eagerly_outside_functions instead.\n",
      "\n",
      "Epoch 1/300\n",
      "WARNING:tensorflow:From C:\\Users\\campus4D035\\anaconda3\\Lib\\site-packages\\tf_keras\\src\\utils\\tf_utils.py:492: The name tf.ragged.RaggedTensorValue is deprecated. Please use tf.compat.v1.ragged.RaggedTensorValue instead.\n",
      "\n",
      "17075/17076 [============================>.] - ETA: 0s - loss: 0.1797\n",
      "Epoch 1: val_loss improved from inf to 0.23314, saving model to ./models\\Dropout0.25_Line1.h5\n",
      "17076/17076 [==============================] - 558s 32ms/step - loss: 0.1797 - val_loss: 0.2331 - lr: 0.0010\n",
      "Epoch 2/300\n",
      "    1/17076 [..............................] - ETA: 23:44 - loss: 0.0360"
     ]
    },
    {
     "name": "stderr",
     "output_type": "stream",
     "text": [
      "C:\\Users\\campus4D035\\anaconda3\\Lib\\site-packages\\tf_keras\\src\\engine\\training.py:3098: UserWarning: You are saving your model as an HDF5 file via `model.save()`. This file format is considered legacy. We recommend using instead the native TF-Keras format, e.g. `model.save('my_model.keras')`.\n",
      "  saving_api.save_model(\n"
     ]
    },
    {
     "name": "stdout",
     "output_type": "stream",
     "text": [
      "17075/17076 [============================>.] - ETA: 0s - loss: 0.0937\n",
      "Epoch 2: val_loss improved from 0.23314 to 0.15234, saving model to ./models\\Dropout0.25_Line1.h5\n",
      "17076/17076 [==============================] - 612s 36ms/step - loss: 0.0937 - val_loss: 0.1523 - lr: 0.0010\n",
      "Epoch 3/300\n",
      "17076/17076 [==============================] - ETA: 0s - loss: 0.0758\n",
      "Epoch 3: val_loss improved from 0.15234 to 0.11074, saving model to ./models\\Dropout0.25_Line1.h5\n",
      "17076/17076 [==============================] - 668s 39ms/step - loss: 0.0758 - val_loss: 0.1107 - lr: 0.0010\n",
      "Epoch 4/300\n",
      "17076/17076 [==============================] - ETA: 0s - loss: 0.0668\n",
      "Epoch 4: val_loss improved from 0.11074 to 0.10950, saving model to ./models\\Dropout0.25_Line1.h5\n",
      "17076/17076 [==============================] - 642s 38ms/step - loss: 0.0668 - val_loss: 0.1095 - lr: 0.0010\n",
      "Epoch 5/300\n",
      "17076/17076 [==============================] - ETA: 0s - loss: 0.0620\n",
      "Epoch 5: val_loss did not improve from 0.10950\n",
      "17076/17076 [==============================] - 648s 38ms/step - loss: 0.0620 - val_loss: 0.1108 - lr: 0.0010\n",
      "Epoch 6/300\n",
      "17076/17076 [==============================] - ETA: 0s - loss: 0.0575\n",
      "Epoch 6: val_loss improved from 0.10950 to 0.09700, saving model to ./models\\Dropout0.25_Line1.h5\n",
      "17076/17076 [==============================] - 651s 38ms/step - loss: 0.0575 - val_loss: 0.0970 - lr: 0.0010\n",
      "Epoch 7/300\n",
      "17076/17076 [==============================] - ETA: 0s - loss: 0.0543\n",
      "Epoch 7: val_loss improved from 0.09700 to 0.08223, saving model to ./models\\Dropout0.25_Line1.h5\n",
      "17076/17076 [==============================] - 656s 38ms/step - loss: 0.0543 - val_loss: 0.0822 - lr: 0.0010\n",
      "Epoch 8/300\n",
      "17075/17076 [============================>.] - ETA: 0s - loss: 0.0520\n",
      "Epoch 8: val_loss did not improve from 0.08223\n",
      "17076/17076 [==============================] - 653s 38ms/step - loss: 0.0520 - val_loss: 0.0927 - lr: 0.0010\n",
      "Epoch 9/300\n",
      "17075/17076 [============================>.] - ETA: 0s - loss: 0.0497\n",
      "Epoch 9: val_loss did not improve from 0.08223\n",
      "17076/17076 [==============================] - 658s 39ms/step - loss: 0.0497 - val_loss: 0.1003 - lr: 0.0010\n",
      "Epoch 10/300\n",
      "17075/17076 [============================>.] - ETA: 0s - loss: 0.0445\n",
      "Epoch 10: val_loss did not improve from 0.08223\n",
      "17076/17076 [==============================] - 653s 38ms/step - loss: 0.0445 - val_loss: 0.0855 - lr: 5.0000e-04\n"
     ]
    },
    {
     "data": {
      "image/png": "[encoded data removed]",
      "text/plain": [
       "<Figure size 1000x500 with 1 Axes>"
      ]
     },
     "metadata": {},
     "output_type": "display_data"
    }
   ],
   "source": [
    "# ✅ [3] 시계열 데이터 생성 -----------------------------------------------------------\n",
    "from tensorflow.keras.callbacks import ModelCheckpoint\n",
    "\n",
    "line = 1\n",
    "dropout = 0.25\n",
    "batch_size = 128\n",
    "save_path = './models/Dropout{}_Line{}.h5'.format(dropout, line)\n",
    "graph_title = f'{line} / Dropout{dropout} - Training & Validation Loss'\n",
    "\n",
    "# ✅ ModelCheckpoint 콜백 추가 ---------------------------------------\n",
    "checkpoint = ModelCheckpoint(\n",
    "    filepath=save_path,         # 저장할 모델 파일명\n",
    "    monitor='val_loss',               # 검증 손실 기준\n",
    "    save_best_only=True,              # 가장 성능 좋은 모델만 저장\n",
    "    save_weights_only=False,          # 전체 모델 저장 (구조 + 가중치)\n",
    "    verbose=1                         # 저장될 때마다 메시지 출력\n",
    ")\n",
    "\n",
    "\n",
    "# 과거 21시간 데이터를 기반으로 예측\n",
    "sequence_length = 21\n",
    "\n",
    "# TimeseriesGenerator를 통해 시계열 학습/검증셋 생성\n",
    "train_gen = TimeseriesGenerator(train_x, train_y, length=sequence_length, batch_size=batch_size)\n",
    "val_gen   = TimeseriesGenerator(val_x, val_y, length=sequence_length, batch_size=batch_size)\n",
    "\n",
    "# ✅ [4] LSTM 모델 정의 및 학습 --------------------------------------------------------\n",
    "\n",
    "# 딥러닝 모델 구조 정의\n",
    "model_Dropout025_Line1 = Sequential([\n",
    "    Input(shape=(sequence_length, train_x.shape[1])),  # (timesteps, features)\n",
    "    LSTM(64, return_sequences=True),   # 첫 번째 LSTM: 시퀀스 출력 유지\n",
    "    Dropout(dropout),\n",
    "    LSTM(32),                          # 두 번째 LSTM: 최종 출력만 반환\n",
    "    Dropout(dropout),\n",
    "    Dense(1)                           # 예측값 하나 출력 (혼잡도)\n",
    "])\n",
    "\n",
    "# 모델 컴파일\n",
    "model_Dropout025_Line1.compile(loss='mse', optimizer=Adam(0.001))\n",
    "\n",
    "# 콜백 설정\n",
    "early_stop = EarlyStopping(monitor='val_loss', patience=3, restore_best_weights=True)\n",
    "reduce_lr = ReduceLROnPlateau(monitor='val_loss', patience=2, factor=0.5)\n",
    "\n",
    "# 모델 학습\n",
    "History_Dropout025_Line1 = model_Dropout025_Line1.fit(train_gen, validation_data=val_gen, epochs=300, callbacks=[\n",
    "                                                                              early_stop,\n",
    "                                                                              reduce_lr\n",
    "                                                                            ,checkpoint])\n",
    "\n",
    "# 📊 학습 및 검증 손실 시각화\n",
    "plt.figure(figsize=(10, 5))\n",
    "plt.plot(History_Dropout025_Line1.history['loss'], label='Train Loss')\n",
    "plt.plot(History_Dropout025_Line1.history['val_loss'], label='Validation Loss')\n",
    "plt.title(graph_title)\n",
    "plt.xlabel('Epoch')\n",
    "plt.ylabel('Loss (MSE)')\n",
    "plt.legend()\n",
    "plt.grid(True)\n",
    "plt.show()"
   ]
  },
  {
   "cell_type": "markdown",
   "id": "a1a6db3e-d091-4077-9de1-12278b185460",
   "metadata": {
    "jp-MarkdownHeadingCollapsed": true
   },
   "source": [
    "# 드롭아웃 0.30"
   ]
  },
  {
   "cell_type": "code",
   "execution_count": 19,
   "id": "e52fa4b1-2f12-45da-8008-13173eec98c6",
   "metadata": {},
   "outputs": [
    {
     "name": "stdout",
     "output_type": "stream",
     "text": [
      "Epoch 1/300\n",
      "17076/17076 [==============================] - ETA: 0s - loss: 0.1867\n",
      "Epoch 1: val_loss improved from inf to 0.15203, saving model to ./models\\Dropout0.3_Line1.h5\n",
      "17076/17076 [==============================] - 500s 29ms/step - loss: 0.1867 - val_loss: 0.1520 - lr: 0.0010\n",
      "Epoch 2/300\n",
      "17076/17076 [==============================] - ETA: 0s - loss: 0.0959\n",
      "Epoch 2: val_loss improved from 0.15203 to 0.13235, saving model to ./models\\Dropout0.3_Line1.h5\n",
      "17076/17076 [==============================] - 564s 33ms/step - loss: 0.0959 - val_loss: 0.1323 - lr: 0.0010\n",
      "Epoch 3/300\n",
      "17074/17076 [============================>.] - ETA: 0s - loss: 0.0773\n",
      "Epoch 3: val_loss improved from 0.13235 to 0.12451, saving model to ./models\\Dropout0.3_Line1.h5\n",
      "17076/17076 [==============================] - 569s 33ms/step - loss: 0.0773 - val_loss: 0.1245 - lr: 0.0010\n",
      "Epoch 4/300\n",
      "17076/17076 [==============================] - ETA: 0s - loss: 0.0693\n",
      "Epoch 4: val_loss did not improve from 0.12451\n",
      "17076/17076 [==============================] - 573s 34ms/step - loss: 0.0693 - val_loss: 0.1269 - lr: 0.0010\n",
      "Epoch 5/300\n",
      "17075/17076 [============================>.] - ETA: 0s - loss: 0.0633\n",
      "Epoch 5: val_loss improved from 0.12451 to 0.09307, saving model to ./models\\Dropout0.3_Line1.h5\n",
      "17076/17076 [==============================] - 577s 34ms/step - loss: 0.0633 - val_loss: 0.0931 - lr: 0.0010\n",
      "Epoch 6/300\n",
      "17076/17076 [==============================] - ETA: 0s - loss: 0.0594\n",
      "Epoch 6: val_loss did not improve from 0.09307\n",
      "17076/17076 [==============================] - 580s 34ms/step - loss: 0.0594 - val_loss: 0.1085 - lr: 0.0010\n",
      "Epoch 7/300\n",
      "17076/17076 [==============================] - ETA: 0s - loss: 0.0565\n",
      "Epoch 7: val_loss did not improve from 0.09307\n",
      "17076/17076 [==============================] - 582s 34ms/step - loss: 0.0565 - val_loss: 0.1107 - lr: 0.0010\n",
      "Epoch 8/300\n",
      "17076/17076 [==============================] - ETA: 0s - loss: 0.0503\n",
      "Epoch 8: val_loss did not improve from 0.09307\n",
      "17076/17076 [==============================] - 585s 34ms/step - loss: 0.0503 - val_loss: 0.1042 - lr: 5.0000e-04\n"
     ]
    },
    {
     "data": {
      "image/png": "[encoded data removed]",
      "text/plain": [
       "<Figure size 1000x500 with 1 Axes>"
      ]
     },
     "metadata": {},
     "output_type": "display_data"
    }
   ],
   "source": [
    "# ✅ [3] 시계열 데이터 생성 -----------------------------------------------------------\n",
    "from tensorflow.keras.callbacks import ModelCheckpoint\n",
    "\n",
    "line = 1\n",
    "dropout = 0.30\n",
    "batch_size = 128\n",
    "save_path = './models/Dropout{}_Line{}.h5'.format(dropout, line)\n",
    "graph_title = f'{line} / Dropout{dropout} - Training & Validation Loss'\n",
    "\n",
    "# ✅ ModelCheckpoint 콜백 추가 ---------------------------------------\n",
    "checkpoint = ModelCheckpoint(\n",
    "    filepath=save_path,         # 저장할 모델 파일명\n",
    "    monitor='val_loss',               # 검증 손실 기준\n",
    "    save_best_only=True,              # 가장 성능 좋은 모델만 저장\n",
    "    save_weights_only=False,          # 전체 모델 저장 (구조 + 가중치)\n",
    "    verbose=1                         # 저장될 때마다 메시지 출력\n",
    ")\n",
    "\n",
    "\n",
    "# 과거 21시간 데이터를 기반으로 예측\n",
    "sequence_length = 21\n",
    "\n",
    "# TimeseriesGenerator를 통해 시계열 학습/검증셋 생성\n",
    "train_gen = TimeseriesGenerator(train_x, train_y, length=sequence_length, batch_size=batch_size)\n",
    "val_gen   = TimeseriesGenerator(val_x, val_y, length=sequence_length, batch_size=batch_size)\n",
    "\n",
    "# ✅ [4] LSTM 모델 정의 및 학습 --------------------------------------------------------\n",
    "\n",
    "# 딥러닝 모델 구조 정의\n",
    "model_Dropout030_Line1 = Sequential([\n",
    "    Input(shape=(sequence_length, train_x.shape[1])),  # (timesteps, features)\n",
    "    LSTM(64, return_sequences=True),   # 첫 번째 LSTM: 시퀀스 출력 유지\n",
    "    Dropout(dropout),\n",
    "    LSTM(32),                          # 두 번째 LSTM: 최종 출력만 반환\n",
    "    Dropout(dropout),\n",
    "    Dense(1)                           # 예측값 하나 출력 (혼잡도)\n",
    "])\n",
    "\n",
    "# 모델 컴파일\n",
    "model_Dropout030_Line1.compile(loss='mse', optimizer=Adam(0.001))\n",
    "\n",
    "# 콜백 설정\n",
    "early_stop = EarlyStopping(monitor='val_loss', patience=3, restore_best_weights=True)\n",
    "reduce_lr = ReduceLROnPlateau(monitor='val_loss', patience=2, factor=0.5)\n",
    "\n",
    "# 모델 학습\n",
    "History_Dropout030_Line1 = model_Dropout030_Line1.fit(train_gen, validation_data=val_gen, epochs=300, callbacks=[\n",
    "                                                                              early_stop,\n",
    "                                                                              reduce_lr\n",
    "                                                                            ,checkpoint])\n",
    "\n",
    "# 📊 학습 및 검증 손실 시각화\n",
    "plt.figure(figsize=(10, 5))\n",
    "plt.plot(History_Dropout030_Line1.history['loss'], label='Train Loss')\n",
    "plt.plot(History_Dropout030_Line1.history['val_loss'], label='Validation Loss')\n",
    "plt.title(graph_title)\n",
    "plt.xlabel('Epoch')\n",
    "plt.ylabel('Loss (MSE)')\n",
    "plt.legend()\n",
    "plt.grid(True)\n",
    "plt.show()"
   ]
  },
  {
   "cell_type": "markdown",
   "id": "c1a5ecc0-edae-4cca-b522-b517366735f4",
   "metadata": {
    "jp-MarkdownHeadingCollapsed": true
   },
   "source": [
    "# 드롭아웃 0.35"
   ]
  },
  {
   "cell_type": "code",
   "execution_count": 20,
   "id": "b02178a1-5d8d-42a4-9d1a-0818f44aea90",
   "metadata": {},
   "outputs": [
    {
     "name": "stdout",
     "output_type": "stream",
     "text": [
      "Epoch 1/300\n",
      "17075/17076 [============================>.] - ETA: 0s - loss: 0.1932\n",
      "Epoch 1: val_loss improved from inf to 0.14777, saving model to ./models\\Dropout0.35_Line1.h5\n",
      "17076/17076 [==============================] - 594s 35ms/step - loss: 0.1932 - val_loss: 0.1478 - lr: 0.0010\n",
      "Epoch 2/300\n",
      "17076/17076 [==============================] - ETA: 0s - loss: 0.1010\n",
      "Epoch 2: val_loss did not improve from 0.14777\n",
      "17076/17076 [==============================] - 587s 34ms/step - loss: 0.1010 - val_loss: 0.1717 - lr: 0.0010\n",
      "Epoch 3/300\n",
      "17076/17076 [==============================] - ETA: 0s - loss: 0.0846\n",
      "Epoch 3: val_loss improved from 0.14777 to 0.11173, saving model to ./models\\Dropout0.35_Line1.h5\n",
      "17076/17076 [==============================] - 589s 34ms/step - loss: 0.0846 - val_loss: 0.1117 - lr: 0.0010\n",
      "Epoch 4/300\n",
      "17075/17076 [============================>.] - ETA: 0s - loss: 0.0747\n",
      "Epoch 4: val_loss improved from 0.11173 to 0.09763, saving model to ./models\\Dropout0.35_Line1.h5\n",
      "17076/17076 [==============================] - 600s 35ms/step - loss: 0.0747 - val_loss: 0.0976 - lr: 0.0010\n",
      "Epoch 5/300\n",
      "17076/17076 [==============================] - ETA: 0s - loss: 0.0694\n",
      "Epoch 5: val_loss did not improve from 0.09763\n",
      "17076/17076 [==============================] - 599s 35ms/step - loss: 0.0694 - val_loss: 0.1237 - lr: 0.0010\n",
      "Epoch 6/300\n",
      "17076/17076 [==============================] - ETA: 0s - loss: 0.0659\n",
      "Epoch 6: val_loss improved from 0.09763 to 0.09466, saving model to ./models\\Dropout0.35_Line1.h5\n",
      "17076/17076 [==============================] - 609s 36ms/step - loss: 0.0659 - val_loss: 0.0947 - lr: 0.0010\n",
      "Epoch 7/300\n",
      "17076/17076 [==============================] - ETA: 0s - loss: 0.0634\n",
      "Epoch 7: val_loss did not improve from 0.09466\n",
      "17076/17076 [==============================] - 611s 36ms/step - loss: 0.0634 - val_loss: 0.0979 - lr: 0.0010\n",
      "Epoch 8/300\n",
      "17075/17076 [============================>.] - ETA: 0s - loss: 0.0605\n",
      "Epoch 8: val_loss improved from 0.09466 to 0.08027, saving model to ./models\\Dropout0.35_Line1.h5\n",
      "17076/17076 [==============================] - 614s 36ms/step - loss: 0.0605 - val_loss: 0.0803 - lr: 0.0010\n",
      "Epoch 9/300\n",
      "17075/17076 [============================>.] - ETA: 0s - loss: 0.0585\n",
      "Epoch 9: val_loss did not improve from 0.08027\n",
      "17076/17076 [==============================] - 619s 36ms/step - loss: 0.0585 - val_loss: 0.0946 - lr: 0.0010\n",
      "Epoch 10/300\n",
      "17076/17076 [==============================] - ETA: 0s - loss: 0.0567\n",
      "Epoch 10: val_loss did not improve from 0.08027\n",
      "17076/17076 [==============================] - 620s 36ms/step - loss: 0.0567 - val_loss: 0.0922 - lr: 0.0010\n",
      "Epoch 11/300\n",
      "17075/17076 [============================>.] - ETA: 0s - loss: 0.0516\n",
      "Epoch 11: val_loss did not improve from 0.08027\n",
      "17076/17076 [==============================] - 623s 37ms/step - loss: 0.0516 - val_loss: 0.0902 - lr: 5.0000e-04\n"
     ]
    },
    {
     "data": {
      "image/png": "[encoded data removed]",
      "text/plain": [
       "<Figure size 1000x500 with 1 Axes>"
      ]
     },
     "metadata": {},
     "output_type": "display_data"
    }
   ],
   "source": [
    "# ✅ [3] 시계열 데이터 생성 -----------------------------------------------------------\n",
    "from tensorflow.keras.callbacks import ModelCheckpoint\n",
    "\n",
    "line = 1\n",
    "dropout = 0.35\n",
    "batch_size = 128\n",
    "save_path = './models/Dropout{}_Line{}.h5'.format(dropout, line)\n",
    "graph_title = f'{line} / Dropout{dropout} - Training & Validation Loss'\n",
    "\n",
    "# ✅ ModelCheckpoint 콜백 추가 ---------------------------------------\n",
    "checkpoint = ModelCheckpoint(\n",
    "    filepath=save_path,         # 저장할 모델 파일명\n",
    "    monitor='val_loss',               # 검증 손실 기준\n",
    "    save_best_only=True,              # 가장 성능 좋은 모델만 저장\n",
    "    save_weights_only=False,          # 전체 모델 저장 (구조 + 가중치)\n",
    "    verbose=1                         # 저장될 때마다 메시지 출력\n",
    ")\n",
    "\n",
    "\n",
    "# 과거 21시간 데이터를 기반으로 예측\n",
    "sequence_length = 21\n",
    "\n",
    "# TimeseriesGenerator를 통해 시계열 학습/검증셋 생성\n",
    "train_gen = TimeseriesGenerator(train_x, train_y, length=sequence_length, batch_size=batch_size)\n",
    "val_gen   = TimeseriesGenerator(val_x, val_y, length=sequence_length, batch_size=batch_size)\n",
    "\n",
    "# ✅ [4] LSTM 모델 정의 및 학습 --------------------------------------------------------\n",
    "\n",
    "# 딥러닝 모델 구조 정의\n",
    "model_Dropout035_Line1 = Sequential([\n",
    "    Input(shape=(sequence_length, train_x.shape[1])),  # (timesteps, features)\n",
    "    LSTM(64, return_sequences=True),   # 첫 번째 LSTM: 시퀀스 출력 유지\n",
    "    Dropout(dropout),\n",
    "    LSTM(32),                          # 두 번째 LSTM: 최종 출력만 반환\n",
    "    Dropout(dropout),\n",
    "    Dense(1)                           # 예측값 하나 출력 (혼잡도)\n",
    "])\n",
    "\n",
    "# 모델 컴파일\n",
    "model_Dropout035_Line1.compile(loss='mse', optimizer=Adam(0.001))\n",
    "\n",
    "# 콜백 설정\n",
    "early_stop = EarlyStopping(monitor='val_loss', patience=3, restore_best_weights=True)\n",
    "reduce_lr = ReduceLROnPlateau(monitor='val_loss', patience=2, factor=0.5)\n",
    "\n",
    "# 모델 학습\n",
    "History_Dropout035_Line1 = model_Dropout035_Line1.fit(train_gen, validation_data=val_gen, epochs=300, callbacks=[\n",
    "                                                                              early_stop,\n",
    "                                                                              reduce_lr\n",
    "                                                                            ,checkpoint])\n",
    "\n",
    "# 📊 학습 및 검증 손실 시각화\n",
    "plt.figure(figsize=(10, 5))\n",
    "plt.plot(History_Dropout035_Line1.history['loss'], label='Train Loss')\n",
    "plt.plot(History_Dropout035_Line1.history['val_loss'], label='Validation Loss')\n",
    "plt.title(graph_title)\n",
    "plt.xlabel('Epoch')\n",
    "plt.ylabel('Loss (MSE)')\n",
    "plt.legend()\n",
    "plt.grid(True)\n",
    "plt.show()"
   ]
  },
  {
   "cell_type": "markdown",
   "id": "a59ecbba-688e-4da1-bad2-08cbb3aea5ef",
   "metadata": {
    "jp-MarkdownHeadingCollapsed": true
   },
   "source": [
    "# 드롭아웃 0.40"
   ]
  },
  {
   "cell_type": "code",
   "execution_count": 23,
   "id": "33b60171-c52b-4f90-9ebe-ce692156e85c",
   "metadata": {},
   "outputs": [
    {
     "name": "stdout",
     "output_type": "stream",
     "text": [
      "Epoch 1/300\n",
      "17075/17076 [============================>.] - ETA: 0s - loss: 0.1956\n",
      "Epoch 1: val_loss improved from inf to 0.20935, saving model to ./models\\Dropout0.4_Line1.h5\n",
      "17076/17076 [==============================] - 489s 29ms/step - loss: 0.1956 - val_loss: 0.2093 - lr: 0.0010\n",
      "Epoch 2/300\n",
      "17075/17076 [============================>.] - ETA: 0s - loss: 0.1015\n",
      "Epoch 2: val_loss improved from 0.20935 to 0.10900, saving model to ./models\\Dropout0.4_Line1.h5\n",
      "17076/17076 [==============================] - 520s 30ms/step - loss: 0.1015 - val_loss: 0.1090 - lr: 0.0010\n",
      "Epoch 3/300\n",
      "17076/17076 [==============================] - ETA: 0s - loss: 0.0848\n",
      "Epoch 3: val_loss did not improve from 0.10900\n",
      "17076/17076 [==============================] - 516s 30ms/step - loss: 0.0848 - val_loss: 0.1309 - lr: 0.0010\n",
      "Epoch 4/300\n",
      "17075/17076 [============================>.] - ETA: 0s - loss: 0.0760\n",
      "Epoch 4: val_loss did not improve from 0.10900\n",
      "17076/17076 [==============================] - 509s 30ms/step - loss: 0.0760 - val_loss: 0.1193 - lr: 0.0010\n",
      "Epoch 5/300\n",
      "17075/17076 [============================>.] - ETA: 0s - loss: 0.0666\n",
      "Epoch 5: val_loss improved from 0.10900 to 0.08634, saving model to ./models\\Dropout0.4_Line1.h5\n",
      "17076/17076 [==============================] - 512s 30ms/step - loss: 0.0666 - val_loss: 0.0863 - lr: 5.0000e-04\n",
      "Epoch 6/300\n",
      "17075/17076 [============================>.] - ETA: 0s - loss: 0.0641\n",
      "Epoch 6: val_loss did not improve from 0.08634\n",
      "17076/17076 [==============================] - 508s 30ms/step - loss: 0.0641 - val_loss: 0.0952 - lr: 5.0000e-04\n",
      "Epoch 7/300\n",
      "17076/17076 [==============================] - ETA: 0s - loss: 0.0620\n",
      "Epoch 7: val_loss did not improve from 0.08634\n",
      "17076/17076 [==============================] - 573s 34ms/step - loss: 0.0620 - val_loss: 0.0969 - lr: 5.0000e-04\n",
      "Epoch 8/300\n",
      "17076/17076 [==============================] - ETA: 0s - loss: 0.0584\n",
      "Epoch 8: val_loss improved from 0.08634 to 0.08078, saving model to ./models\\Dropout0.4_Line1.h5\n",
      "17076/17076 [==============================] - 630s 37ms/step - loss: 0.0584 - val_loss: 0.0808 - lr: 2.5000e-04\n",
      "Epoch 9/300\n",
      "17076/17076 [==============================] - ETA: 0s - loss: 0.0576\n",
      "Epoch 9: val_loss did not improve from 0.08078\n",
      "17076/17076 [==============================] - 741s 43ms/step - loss: 0.0576 - val_loss: 0.0811 - lr: 2.5000e-04\n",
      "Epoch 10/300\n",
      "17076/17076 [==============================] - ETA: 0s - loss: 0.0566\n",
      "Epoch 10: val_loss improved from 0.08078 to 0.07681, saving model to ./models\\Dropout0.4_Line1.h5\n",
      "17076/17076 [==============================] - 841s 49ms/step - loss: 0.0566 - val_loss: 0.0768 - lr: 2.5000e-04\n",
      "Epoch 11/300\n",
      "17075/17076 [============================>.] - ETA: 0s - loss: 0.0560\n",
      "Epoch 11: val_loss did not improve from 0.07681\n",
      "17076/17076 [==============================] - 846s 50ms/step - loss: 0.0560 - val_loss: 0.0832 - lr: 2.5000e-04\n",
      "Epoch 12/300\n",
      "17076/17076 [==============================] - ETA: 0s - loss: 0.0554\n",
      "Epoch 12: val_loss improved from 0.07681 to 0.07675, saving model to ./models\\Dropout0.4_Line1.h5\n",
      "17076/17076 [==============================] - 941s 55ms/step - loss: 0.0554 - val_loss: 0.0768 - lr: 2.5000e-04\n",
      "Epoch 13/300\n",
      "17075/17076 [============================>.] - ETA: 0s - loss: 0.0538\n",
      "Epoch 13: val_loss did not improve from 0.07675\n",
      "17076/17076 [==============================] - 858s 50ms/step - loss: 0.0538 - val_loss: 0.0808 - lr: 1.2500e-04\n",
      "Epoch 14/300\n",
      "17075/17076 [============================>.] - ETA: 0s - loss: 0.0534\n",
      "Epoch 14: val_loss did not improve from 0.07675\n",
      "17076/17076 [==============================] - 894s 52ms/step - loss: 0.0534 - val_loss: 0.0840 - lr: 1.2500e-04\n",
      "Epoch 15/300\n",
      "17076/17076 [==============================] - ETA: 0s - loss: 0.0524\n",
      "Epoch 15: val_loss did not improve from 0.07675\n",
      "17076/17076 [==============================] - 788s 46ms/step - loss: 0.0524 - val_loss: 0.0804 - lr: 6.2500e-05\n"
     ]
    },
    {
     "data": {
      "image/png": "[encoded data removed]",
      "text/plain": [
       "<Figure size 1000x500 with 1 Axes>"
      ]
     },
     "metadata": {},
     "output_type": "display_data"
    }
   ],
   "source": [
    "# ✅ [3] 시계열 데이터 생성 -----------------------------------------------------------\n",
    "from tensorflow.keras.callbacks import ModelCheckpoint\n",
    "\n",
    "line = 1\n",
    "dropout = 0.40\n",
    "batch_size = 128\n",
    "save_path = './models/Dropout{}_Line{}.h5'.format(dropout, line)\n",
    "graph_title = f'{line} / Dropout{dropout} - Training & Validation Loss'\n",
    "\n",
    "# ✅ ModelCheckpoint 콜백 추가 ---------------------------------------\n",
    "checkpoint = ModelCheckpoint(\n",
    "    filepath=save_path,         # 저장할 모델 파일명\n",
    "    monitor='val_loss',               # 검증 손실 기준\n",
    "    save_best_only=True,              # 가장 성능 좋은 모델만 저장\n",
    "    save_weights_only=False,          # 전체 모델 저장 (구조 + 가중치)\n",
    "    verbose=1                         # 저장될 때마다 메시지 출력\n",
    ")\n",
    "\n",
    "\n",
    "# 과거 21시간 데이터를 기반으로 예측\n",
    "sequence_length = 21\n",
    "\n",
    "# TimeseriesGenerator를 통해 시계열 학습/검증셋 생성\n",
    "train_gen = TimeseriesGenerator(train_x, train_y, length=sequence_length, batch_size=batch_size)\n",
    "val_gen   = TimeseriesGenerator(val_x, val_y, length=sequence_length, batch_size=batch_size)\n",
    "\n",
    "# ✅ [4] LSTM 모델 정의 및 학습 --------------------------------------------------------\n",
    "\n",
    "# 딥러닝 모델 구조 정의\n",
    "model_Dropout040_Line1 = Sequential([\n",
    "    Input(shape=(sequence_length, train_x.shape[1])),  # (timesteps, features)\n",
    "    LSTM(64, return_sequences=True),   # 첫 번째 LSTM: 시퀀스 출력 유지\n",
    "    Dropout(dropout),\n",
    "    LSTM(32),                          # 두 번째 LSTM: 최종 출력만 반환\n",
    "    Dropout(dropout),\n",
    "    Dense(1)                           # 예측값 하나 출력 (혼잡도)\n",
    "])\n",
    "\n",
    "# 모델 컴파일\n",
    "model_Dropout040_Line1.compile(loss='mse', optimizer=Adam(0.001))\n",
    "\n",
    "# 콜백 설정\n",
    "early_stop = EarlyStopping(monitor='val_loss', patience=3, restore_best_weights=True)\n",
    "reduce_lr = ReduceLROnPlateau(monitor='val_loss', patience=2, factor=0.5)\n",
    "\n",
    "# 모델 학습\n",
    "History_Dropout040_Line1 = model_Dropout040_Line1.fit(train_gen, validation_data=val_gen, epochs=300, callbacks=[\n",
    "                                                                              early_stop,\n",
    "                                                                              reduce_lr\n",
    "                                                                            ,checkpoint])\n",
    "\n",
    "# 📊 학습 및 검증 손실 시각화\n",
    "plt.figure(figsize=(10, 5))\n",
    "plt.plot(History_Dropout040_Line1.history['loss'], label='Train Loss')\n",
    "plt.plot(History_Dropout040_Line1.history['val_loss'], label='Validation Loss')\n",
    "plt.title(graph_title)\n",
    "plt.xlabel('Epoch')\n",
    "plt.ylabel('Loss (MSE)')\n",
    "plt.legend()\n",
    "plt.grid(True)\n",
    "plt.show()"
   ]
  },
  {
   "cell_type": "markdown",
   "id": "27fb5f8e-f747-4203-b3e8-48da355439ec",
   "metadata": {
    "jp-MarkdownHeadingCollapsed": true
   },
   "source": [
    "# 드롭아웃 0.45"
   ]
  },
  {
   "cell_type": "code",
   "execution_count": 24,
   "id": "7867ec12-7107-4559-94a6-6d4e1842353e",
   "metadata": {},
   "outputs": [
    {
     "name": "stdout",
     "output_type": "stream",
     "text": [
      "Epoch 1/300\n",
      "17076/17076 [==============================] - ETA: 0s - loss: 0.2009\n",
      "Epoch 1: val_loss improved from inf to 0.26064, saving model to ./models\\Dropout0.45_Line1.h5\n",
      "17076/17076 [==============================] - 717s 42ms/step - loss: 0.2009 - val_loss: 0.2606 - lr: 0.0010\n",
      "Epoch 2/300\n",
      "17075/17076 [============================>.] - ETA: 0s - loss: 0.1101\n",
      "Epoch 2: val_loss improved from 0.26064 to 0.11840, saving model to ./models\\Dropout0.45_Line1.h5\n",
      "17076/17076 [==============================] - 709s 42ms/step - loss: 0.1101 - val_loss: 0.1184 - lr: 0.0010\n",
      "Epoch 3/300\n",
      "17075/17076 [============================>.] - ETA: 0s - loss: 0.0928\n",
      "Epoch 3: val_loss did not improve from 0.11840\n",
      "17076/17076 [==============================] - 707s 41ms/step - loss: 0.0928 - val_loss: 0.1205 - lr: 0.0010\n",
      "Epoch 4/300\n",
      "17076/17076 [==============================] - ETA: 0s - loss: 0.0842\n",
      "Epoch 4: val_loss improved from 0.11840 to 0.10385, saving model to ./models\\Dropout0.45_Line1.h5\n",
      "17076/17076 [==============================] - 718s 42ms/step - loss: 0.0842 - val_loss: 0.1039 - lr: 0.0010\n",
      "Epoch 5/300\n",
      "17075/17076 [============================>.] - ETA: 0s - loss: 0.0785\n",
      "Epoch 5: val_loss did not improve from 0.10385\n",
      "17076/17076 [==============================] - 724s 42ms/step - loss: 0.0785 - val_loss: 0.1079 - lr: 0.0010\n",
      "Epoch 6/300\n",
      "17075/17076 [============================>.] - ETA: 0s - loss: 0.0753\n",
      "Epoch 6: val_loss improved from 0.10385 to 0.09778, saving model to ./models\\Dropout0.45_Line1.h5\n",
      "17076/17076 [==============================] - 659s 39ms/step - loss: 0.0753 - val_loss: 0.0978 - lr: 0.0010\n",
      "Epoch 7/300\n",
      "17075/17076 [============================>.] - ETA: 0s - loss: 0.0722\n",
      "Epoch 7: val_loss improved from 0.09778 to 0.08720, saving model to ./models\\Dropout0.45_Line1.h5\n",
      "17076/17076 [==============================] - 608s 36ms/step - loss: 0.0722 - val_loss: 0.0872 - lr: 0.0010\n",
      "Epoch 8/300\n",
      "17076/17076 [==============================] - ETA: 0s - loss: 0.0696\n",
      "Epoch 8: val_loss did not improve from 0.08720\n",
      "17076/17076 [==============================] - 620s 36ms/step - loss: 0.0696 - val_loss: 0.0946 - lr: 0.0010\n",
      "Epoch 9/300\n",
      "17076/17076 [==============================] - ETA: 0s - loss: 0.0677\n",
      "Epoch 9: val_loss did not improve from 0.08720\n",
      "17076/17076 [==============================] - 616s 36ms/step - loss: 0.0677 - val_loss: 0.0923 - lr: 0.0010\n",
      "Epoch 10/300\n",
      "17076/17076 [==============================] - ETA: 0s - loss: 0.0620\n",
      "Epoch 10: val_loss improved from 0.08720 to 0.07982, saving model to ./models\\Dropout0.45_Line1.h5\n",
      "17076/17076 [==============================] - 620s 36ms/step - loss: 0.0620 - val_loss: 0.0798 - lr: 5.0000e-04\n",
      "Epoch 11/300\n",
      "17075/17076 [============================>.] - ETA: 0s - loss: 0.0603\n",
      "Epoch 11: val_loss improved from 0.07982 to 0.07620, saving model to ./models\\Dropout0.45_Line1.h5\n",
      "17076/17076 [==============================] - 626s 37ms/step - loss: 0.0603 - val_loss: 0.0762 - lr: 5.0000e-04\n",
      "Epoch 12/300\n",
      "17075/17076 [============================>.] - ETA: 0s - loss: 0.0599\n",
      "Epoch 12: val_loss did not improve from 0.07620\n",
      "17076/17076 [==============================] - 669s 39ms/step - loss: 0.0599 - val_loss: 0.0880 - lr: 5.0000e-04\n",
      "Epoch 13/300\n",
      "17076/17076 [==============================] - ETA: 0s - loss: 0.0588\n",
      "Epoch 13: val_loss did not improve from 0.07620\n",
      "17076/17076 [==============================] - 665s 39ms/step - loss: 0.0588 - val_loss: 0.0899 - lr: 5.0000e-04\n",
      "Epoch 14/300\n",
      "17076/17076 [==============================] - ETA: 0s - loss: 0.0562\n",
      "Epoch 14: val_loss did not improve from 0.07620\n",
      "17076/17076 [==============================] - 667s 39ms/step - loss: 0.0562 - val_loss: 0.0768 - lr: 2.5000e-04\n"
     ]
    },
    {
     "data": {
      "image/png": "[encoded data removed]",
      "text/plain": [
       "<Figure size 1000x500 with 1 Axes>"
      ]
     },
     "metadata": {},
     "output_type": "display_data"
    }
   ],
   "source": [
    "# ✅ [3] 시계열 데이터 생성 -----------------------------------------------------------\n",
    "from tensorflow.keras.callbacks import ModelCheckpoint\n",
    "\n",
    "line = 1\n",
    "dropout = 0.45\n",
    "batch_size = 128\n",
    "save_path = './models/Dropout{}_Line{}.h5'.format(dropout, line)\n",
    "graph_title = f'{line} / Dropout{dropout} - Training & Validation Loss'\n",
    "\n",
    "# ✅ ModelCheckpoint 콜백 추가 ---------------------------------------\n",
    "checkpoint = ModelCheckpoint(\n",
    "    filepath=save_path,         # 저장할 모델 파일명\n",
    "    monitor='val_loss',               # 검증 손실 기준\n",
    "    save_best_only=True,              # 가장 성능 좋은 모델만 저장\n",
    "    save_weights_only=False,          # 전체 모델 저장 (구조 + 가중치)\n",
    "    verbose=1                         # 저장될 때마다 메시지 출력\n",
    ")\n",
    "\n",
    "\n",
    "# 과거 21시간 데이터를 기반으로 예측\n",
    "sequence_length = 21\n",
    "\n",
    "# TimeseriesGenerator를 통해 시계열 학습/검증셋 생성\n",
    "train_gen = TimeseriesGenerator(train_x, train_y, length=sequence_length, batch_size=batch_size)\n",
    "val_gen   = TimeseriesGenerator(val_x, val_y, length=sequence_length, batch_size=batch_size)\n",
    "\n",
    "# ✅ [4] LSTM 모델 정의 및 학습 --------------------------------------------------------\n",
    "\n",
    "# 딥러닝 모델 구조 정의\n",
    "model_Dropout045_Line1 = Sequential([\n",
    "    Input(shape=(sequence_length, train_x.shape[1])),  # (timesteps, features)\n",
    "    LSTM(64, return_sequences=True),   # 첫 번째 LSTM: 시퀀스 출력 유지\n",
    "    Dropout(dropout),\n",
    "    LSTM(32),                          # 두 번째 LSTM: 최종 출력만 반환\n",
    "    Dropout(dropout),\n",
    "    Dense(1)                           # 예측값 하나 출력 (혼잡도)\n",
    "])\n",
    "\n",
    "# 모델 컴파일\n",
    "model_Dropout045_Line1.compile(loss='mse', optimizer=Adam(0.001))\n",
    "\n",
    "# 콜백 설정\n",
    "early_stop = EarlyStopping(monitor='val_loss', patience=3, restore_best_weights=True)\n",
    "reduce_lr = ReduceLROnPlateau(monitor='val_loss', patience=2, factor=0.5)\n",
    "\n",
    "# 모델 학습\n",
    "History_Dropout045_Line1 = model_Dropout045_Line1.fit(train_gen, validation_data=val_gen, epochs=300, callbacks=[\n",
    "                                                                              early_stop,\n",
    "                                                                              reduce_lr\n",
    "                                                                            ,checkpoint])\n",
    "\n",
    "# 📊 학습 및 검증 손실 시각화\n",
    "plt.figure(figsize=(10, 5))\n",
    "plt.plot(History_Dropout045_Line1.history['loss'], label='Train Loss')\n",
    "plt.plot(History_Dropout045_Line1.history['val_loss'], label='Validation Loss')\n",
    "plt.title(graph_title)\n",
    "plt.xlabel('Epoch')\n",
    "plt.ylabel('Loss (MSE)')\n",
    "plt.legend()\n",
    "plt.grid(True)\n",
    "plt.show()"
   ]
  },
  {
   "cell_type": "markdown",
   "id": "50d7e86f-fb2c-4b75-9497-91eaa1a3c6b0",
   "metadata": {
    "id": "50d7e86f-fb2c-4b75-9497-91eaa1a3c6b0"
   },
   "source": [
    "## 1호선 모델 성능 테스트"
   ]
  },
  {
   "cell_type": "code",
   "execution_count": 25,
   "id": "eab08b25-e953-45b3-ae0c-db69f30e63ba",
   "metadata": {
    "id": "eab08b25-e953-45b3-ae0c-db69f30e63ba"
   },
   "outputs": [],
   "source": [
    "plt.rcParams['font.family']='Malgun Gothic'"
   ]
  },
  {
   "cell_type": "code",
   "execution_count": 29,
   "id": "34f2cba7-2f9d-4aa0-a906-14541c3da5bb",
   "metadata": {},
   "outputs": [
    {
     "data": {
      "text/plain": [
       "['Dropout025_Line1.h5',\n",
       " 'Dropout035_Line1.h5',\n",
       " 'Dropout03_Line1.h5',\n",
       " 'Dropout045_Line1.h5',\n",
       " 'Dropout04_Line1.h5',\n",
       " 'Line1_batch32.h5',\n",
       " 'Line1_batch64.h5',\n",
       " 'Line2_transfer.h5',\n",
       " 'Line2_transfer_1024.h5']"
      ]
     },
     "execution_count": 29,
     "metadata": {},
     "output_type": "execute_result"
    }
   ],
   "source": [
    "import os\n",
    "os.listdir('./models')"
   ]
  },
  {
   "cell_type": "code",
   "execution_count": 30,
   "id": "3486fc3b-02b3-49ca-ae97-d0c850d7ad96",
   "metadata": {
    "colab": {
     "base_uri": "https://localhost:8080/"
    },
    "executionInfo": {
     "elapsed": 98481,
     "status": "ok",
     "timestamp": 1749014863722,
     "user": {
      "displayName": "전은진",
      "userId": "09881883516805701170"
     },
     "user_tz": -540
    },
    "id": "3486fc3b-02b3-49ca-ae97-d0c850d7ad96",
    "outputId": "b794e217-4c54-4ead-d48f-53589bc60214"
   },
   "outputs": [
    {
     "name": "stdout",
     "output_type": "stream",
     "text": [
      "4269/4269 [==============================] - 54s 12ms/step\n",
      "4269/4269 [==============================] - 55s 13ms/step\n",
      "4269/4269 [==============================] - 60s 14ms/step\n",
      "4269/4269 [==============================] - 68s 16ms/step\n",
      "4269/4269 [==============================] - 74s 17ms/step\n"
     ]
    }
   ],
   "source": [
    "# ✅ [5] 예측 및 평가 ---------------------------------------------------------------\n",
    "from tensorflow.keras.models import load_model\n",
    "Dropout25 = load_model('./models/Dropout025_Line1.h5', compile=False)\n",
    "Dropout25.compile(loss='mse', optimizer=Adam(0.001))\n",
    "\n",
    "Dropout30 = load_model('./models/Dropout03_Line1.h5', compile=False)\n",
    "Dropout30.compile(loss='mse', optimizer=Adam(0.001))\n",
    "\n",
    "Dropout35 = load_model('./models/Dropout035_Line1.h5', compile=False)\n",
    "Dropout35.compile(loss='mse', optimizer=Adam(0.001))\n",
    "\n",
    "Dropout40 = load_model('./models/Dropout04_Line1.h5', compile=False)\n",
    "Dropout40.compile(loss='mse', optimizer=Adam(0.001))\n",
    "\n",
    "Dropout45 = load_model('./models/Dropout045_Line1.h5', compile=False)\n",
    "Dropout45.compile(loss='mse', optimizer=Adam(0.001))\n",
    "\n",
    "# 검증셋에 대해 예측 수행\n",
    "pred_scaled_25 = Dropout25.predict(val_gen)\n",
    "pred_scaled_30 = Dropout30.predict(val_gen)\n",
    "pred_scaled_35 = Dropout35.predict(val_gen)\n",
    "pred_scaled_40 = Dropout40.predict(val_gen)\n",
    "pred_scaled_45 = Dropout45.predict(val_gen)\n",
    "\n",
    "# 정규화 해제 (역정규화) → 실제 혼잡도 단위로 복원\n",
    "pred_25 = ss.inverse_transform(pred_scaled_25)\n",
    "pred_30 = ss.inverse_transform(pred_scaled_30)\n",
    "pred_35 = ss.inverse_transform(pred_scaled_35)\n",
    "pred_40 = ss.inverse_transform(pred_scaled_40)\n",
    "pred_45 = ss.inverse_transform(pred_scaled_45)\n",
    "\n",
    "# 실제 y도 시계열 슬라이싱 기준에 맞게 자르기\n",
    "true = ss.inverse_transform(val_y[sequence_length:])"
   ]
  },
  {
   "cell_type": "code",
   "execution_count": 32,
   "id": "4358d400-c1a5-40a3-98fc-26842c5a636d",
   "metadata": {
    "colab": {
     "base_uri": "https://localhost:8080/"
    },
    "executionInfo": {
     "elapsed": 22,
     "status": "ok",
     "timestamp": 1749014863749,
     "user": {
      "displayName": "전은진",
      "userId": "09881883516805701170"
     },
     "user_tz": -540
    },
    "id": "4358d400-c1a5-40a3-98fc-26842c5a636d",
    "outputId": "e63eb0c6-583f-4584-c2d9-bb917bca3397"
   },
   "outputs": [
    {
     "name": "stdout",
     "output_type": "stream",
     "text": [
      "✅Line1 Dropout = 0.25\n",
      " 검증 RMSE: 5.3196\n",
      " R² Score: 0.9488\n",
      "\n",
      "✅Line1 Dropout = 0.30\n",
      " 검증 RMSE: 5.6594\n",
      " R² Score: 0.9420\n",
      "\n",
      "✅Line1 Dropout = 0.35\n",
      " 검증 RMSE: 5.2559\n",
      " R² Score: 0.9500\n",
      "\n",
      "✅Line1 Dropout = 0.40\n",
      " 검증 RMSE: 5.1395\n",
      " R² Score: 0.9522\n",
      "\n",
      "✅Line1 Dropout = 0.45\n",
      " 검증 RMSE: 5.1210\n",
      " R² Score: 0.9525\n",
      "\n"
     ]
    }
   ],
   "source": [
    "# 평가 지표 계산\n",
    "from sklearn.metrics import mean_squared_error, r2_score\n",
    "import numpy as np\n",
    "\n",
    "# RMSE 계산 (squared=False는 MSE 계산에서만 유효한 인자임)\n",
    "rmse_1 = np.sqrt(mean_squared_error(true, pred_25))\n",
    "r2_1 = r2_score(true, pred_25)\n",
    "\n",
    "rmse_2 = np.sqrt(mean_squared_error(true, pred_30))\n",
    "r2_2 = r2_score(true, pred_30)\n",
    "\n",
    "rmse_3 = np.sqrt(mean_squared_error(true, pred_35))\n",
    "r2_3 = r2_score(true, pred_35)\n",
    "\n",
    "rmse_4 = np.sqrt(mean_squared_error(true, pred_40))\n",
    "r2_4 = r2_score(true, pred_40)\n",
    "\n",
    "rmse_5 = np.sqrt(mean_squared_error(true, pred_45))\n",
    "r2_5 = r2_score(true, pred_45)\n",
    "                          # R² Score\n",
    "\n",
    "# 결과 출력\n",
    "print('✅Line1 Dropout = 0.25')\n",
    "print(f\" 검증 RMSE: {rmse_1:.4f}\")\n",
    "print(f\" R² Score: {r2_1:.4f}\")\n",
    "print()\n",
    "print('✅Line1 Dropout = 0.30')\n",
    "print(f\" 검증 RMSE: {rmse_2:.4f}\")\n",
    "print(f\" R² Score: {r2_2:.4f}\")\n",
    "print()\n",
    "print('✅Line1 Dropout = 0.35')\n",
    "print(f\" 검증 RMSE: {rmse_3:.4f}\")\n",
    "print(f\" R² Score: {r2_3:.4f}\")\n",
    "print()\n",
    "print('✅Line1 Dropout = 0.40')\n",
    "print(f\" 검증 RMSE: {rmse_4:.4f}\")\n",
    "print(f\" R² Score: {r2_4:.4f}\")\n",
    "print()\n",
    "print('✅Line1 Dropout = 0.45')\n",
    "print(f\" 검증 RMSE: {rmse_5:.4f}\")\n",
    "print(f\" R² Score: {r2_5:.4f}\")\n",
    "print()"
   ]
  },
  {
   "cell_type": "code",
   "execution_count": 33,
   "id": "aafa711a-44eb-4439-bbc6-a04aea57c8eb",
   "metadata": {},
   "outputs": [],
   "source": [
    "org_rmse = 4.8583\n",
    "org_r2 = 0.9573\n",
    "\n",
    "# 조건에 따라 출력\n",
    "results = [\n",
    "    (\"✅Line1 Dropout = 0.25\", rmse_1, r2_1),\n",
    "    (\"✅Line1 Dropout = 0.30\", rmse_2, r2_2),\n",
    "    (\"✅Line1 Dropout = 0.35\", rmse_3, r2_3),\n",
    "    (\"✅Line1 Dropout = 0.40\", rmse_4, r2_4),\n",
    "    (\"✅Line1 Dropout = 0.45\", rmse_5, r2_5),\n",
    "]\n",
    "\n",
    "for label, rmse, r2 in results:\n",
    "    if (rmse < org_rmse) and (r2 > org_r2):\n",
    "        print(label)\n",
    "        print(f\" 검증 RMSE: {rmse:.4f}\")\n",
    "        print(f\" R² Score: {r2:.4f}\")\n",
    "        print()"
   ]
  },
  {
   "cell_type": "markdown",
   "id": "01KyM_IpYSae",
   "metadata": {
    "id": "01KyM_IpYSae",
    "jp-MarkdownHeadingCollapsed": true
   },
   "source": [
    "# 2호선"
   ]
  },
  {
   "cell_type": "markdown",
   "id": "NHqgWA-OYnNB",
   "metadata": {
    "id": "NHqgWA-OYnNB"
   },
   "source": [
    "## 2호선 데이터 불러오기"
   ]
  },
  {
   "cell_type": "code",
   "execution_count": 2,
   "id": "2aTrzVUOYnNB",
   "metadata": {
    "colab": {
     "base_uri": "https://localhost:8080/"
    },
    "executionInfo": {
     "elapsed": 23169,
     "status": "ok",
     "timestamp": 1749034205558,
     "user": {
      "displayName": "전은진",
      "userId": "09881883516805701170"
     },
     "user_tz": -540
    },
    "id": "2aTrzVUOYnNB",
    "outputId": "0aeeebc9-effe-4151-a270-3697b6bcd9d8"
   },
   "outputs": [
    {
     "name": "stdout",
     "output_type": "stream",
     "text": [
      "<class 'pandas.core.frame.DataFrame'>\n",
      "Index: 1868722 entries, 950460 to 12006245\n",
      "Data columns (total 27 columns):\n",
      " #   Column    Dtype         \n",
      "---  ------    -----         \n",
      " 0   시간        datetime64[ns]\n",
      " 1   호선        category      \n",
      " 2   역번호       int32         \n",
      " 3   역명        category      \n",
      " 4   상하구분      category      \n",
      " 5   AWS지점코드   category      \n",
      " 6   기온        float32       \n",
      " 7   풍향        float32       \n",
      " 8   풍속        float32       \n",
      " 9   일강수량      float32       \n",
      " 10  시간강수량     float32       \n",
      " 11  상대습도      float32       \n",
      " 12  체감온도      float32       \n",
      " 13  혼잡도       float32       \n",
      " 14  승차총승객수    float32       \n",
      " 15  하차총승객수    float32       \n",
      " 16  미세먼지      float32       \n",
      " 17  연도        category      \n",
      " 18  월         int32         \n",
      " 19  일         int32         \n",
      " 20  주말        int32         \n",
      " 21  공휴일       int32         \n",
      " 22  일사량_측정여부  int32         \n",
      " 23  시_sin     float32       \n",
      " 24  시_cos     float32       \n",
      " 25  요일_sin    float32       \n",
      " 26  요일_cos    float32       \n",
      "dtypes: category(5), datetime64[ns](1), float32(15), int32(6)\n",
      "memory usage: 188.9 MB\n"
     ]
    }
   ],
   "source": [
    "df1 = df[df['호선'] == 2].copy()\n",
    "cols = ['연도', '호선','상하구분','AWS지점코드']\n",
    "for col in cols:\n",
    "    df1[col] = df1[col].astype('category')\n",
    "\n",
    "# 시 (0~23 기준)\n",
    "df1['시_sin'] = np.sin(2 * np.pi * df1['시'] / 24)\n",
    "df1['시_cos'] = np.cos(2 * np.pi * df1['시'] / 24)\n",
    "\n",
    "# 요일 (0~6 기준, 월~일)\n",
    "df1['요일_sin'] = np.sin(2 * np.pi * df1['요일'] / 7)\n",
    "df1['요일_cos'] = np.cos(2 * np.pi * df1['요일'] / 7)\n",
    "\n",
    "# 월, 일 (1~12, 1~31 기준)\n",
    "le = LabelEncoder()\n",
    "df1['월'] = le.fit_transform(df1['월'])\n",
    "df1['일'] = le.fit_transform(df1['일'])\n",
    "\n",
    "# 1. float64 → float32\n",
    "float_cols = df1.select_dtypes(include=['float64']).columns\n",
    "df1[float_cols] = df1[float_cols].astype('float32')\n",
    "\n",
    "# 2. int64 → int32\n",
    "int_cols = df1.select_dtypes(include=['int64']).columns\n",
    "df1[int_cols] = df1[int_cols].astype('int32')\n",
    "\n",
    "# 3. object(문자열) → category\n",
    "obj_cols = df1.select_dtypes(include=['object']).columns\n",
    "df1[obj_cols] = df1[obj_cols].astype('category')\n",
    "\n",
    "df1 = df1.drop(['시', '요일'], axis=1)\n",
    "df1.info()\n",
    "\n",
    "# ✅ [1] 피처 구성 및 전처리 --------------------------------------------------------\n",
    "\n",
    "# 🎯 타겟 변수 '혼잡도' 제거하여 X 생성\n",
    "X = df1.drop(['혼잡도', '시간'], axis=1)\n",
    "\n",
    "# 🔤 범주형 변수 원-핫 인코딩 (첫 번째 카테고리는 drop)\n",
    "o_h_e_x = pd.get_dummies(X, columns=['연도', '역명', '호선', '상하구분', 'AWS지점코드'], drop_first=True)\n",
    "\n",
    "# 🔢 X 정규화 (0~1 범위로 스케일링)\n",
    "mm = MinMaxScaler()\n",
    "mm_x = mm.fit_transform(o_h_e_x)\n",
    "\n",
    "# 🎯 y 정규화 (표준화: 평균 0, 표준편차 1)\n",
    "y = df1[['혼잡도']]  # 2D로 유지\n",
    "ss = StandardScaler()\n",
    "ss_y = ss.fit_transform(y)\n",
    "\n",
    "# ✅ [2] 시계열 학습/검증 데이터 분할 --------------------------------------------------\n",
    "\n",
    "# 전체의 80%를 학습용, 나머지 20%를 검증용으로 사용\n",
    "split_index = int(len(mm_x) * 0.8)\n",
    "\n",
    "train_x = mm_x[:split_index]\n",
    "train_y = ss_y[:split_index]\n",
    "\n",
    "val_x = mm_x[split_index:]\n",
    "val_y = ss_y[split_index:]"
   ]
  },
  {
   "cell_type": "markdown",
   "id": "8760e83a-89d9-4401-bf9a-0b70ef4a4e7c",
   "metadata": {
    "jp-MarkdownHeadingCollapsed": true
   },
   "source": [
    "# 드롭아웃 0.25"
   ]
  },
  {
   "cell_type": "code",
   "execution_count": 4,
   "id": "cb859e2a-9fbf-4643-8d33-0951a180cc33",
   "metadata": {},
   "outputs": [
    {
     "name": "stdout",
     "output_type": "stream",
     "text": [
      "Epoch 1/300\n",
      "WARNING:tensorflow:From C:\\Users\\campus4D035\\anaconda3\\Lib\\site-packages\\tf_keras\\src\\utils\\tf_utils.py:492: The name tf.ragged.RaggedTensorValue is deprecated. Please use tf.compat.v1.ragged.RaggedTensorValue instead.\n",
      "\n",
      "23358/23359 [============================>.] - ETA: 0s - loss: 0.1546\n",
      "Epoch 1: val_loss improved from inf to 0.10301, saving model to ./models\\Dropout0.25_Line2.h5\n",
      "23359/23359 [==============================] - 544s 23ms/step - loss: 0.1546 - val_loss: 0.1030 - lr: 0.0010\n",
      "Epoch 2/300\n",
      "    4/23359 [..............................] - ETA: 8:39 - loss: 0.0533 "
     ]
    },
    {
     "name": "stderr",
     "output_type": "stream",
     "text": [
      "C:\\Users\\campus4D035\\anaconda3\\Lib\\site-packages\\tf_keras\\src\\engine\\training.py:3098: UserWarning: You are saving your model as an HDF5 file via `model.save()`. This file format is considered legacy. We recommend using instead the native TF-Keras format, e.g. `model.save('my_model.keras')`.\n",
      "  saving_api.save_model(\n"
     ]
    },
    {
     "name": "stdout",
     "output_type": "stream",
     "text": [
      "23359/23359 [==============================] - ETA: 0s - loss: 0.0803\n",
      "Epoch 2: val_loss improved from 0.10301 to 0.09881, saving model to ./models\\Dropout0.25_Line2.h5\n",
      "23359/23359 [==============================] - 678s 29ms/step - loss: 0.0803 - val_loss: 0.0988 - lr: 0.0010\n",
      "Epoch 3/300\n",
      "23357/23359 [============================>.] - ETA: 0s - loss: 0.0666\n",
      "Epoch 3: val_loss improved from 0.09881 to 0.07812, saving model to ./models\\Dropout0.25_Line2.h5\n",
      "23359/23359 [==============================] - 606s 26ms/step - loss: 0.0666 - val_loss: 0.0781 - lr: 0.0010\n",
      "Epoch 4/300\n",
      "23358/23359 [============================>.] - ETA: 0s - loss: 0.0595\n",
      "Epoch 4: val_loss improved from 0.07812 to 0.06806, saving model to ./models\\Dropout0.25_Line2.h5\n",
      "23359/23359 [==============================] - 597s 26ms/step - loss: 0.0595 - val_loss: 0.0681 - lr: 0.0010\n",
      "Epoch 5/300\n",
      "23357/23359 [============================>.] - ETA: 0s - loss: 0.0549\n",
      "Epoch 5: val_loss improved from 0.06806 to 0.06645, saving model to ./models\\Dropout0.25_Line2.h5\n",
      "23359/23359 [==============================] - 604s 26ms/step - loss: 0.0549 - val_loss: 0.0665 - lr: 0.0010\n",
      "Epoch 6/300\n",
      "23358/23359 [============================>.] - ETA: 0s - loss: 0.0519\n",
      "Epoch 6: val_loss improved from 0.06645 to 0.06527, saving model to ./models\\Dropout0.25_Line2.h5\n",
      "23359/23359 [==============================] - 604s 26ms/step - loss: 0.0519 - val_loss: 0.0653 - lr: 0.0010\n",
      "Epoch 7/300\n",
      "23358/23359 [============================>.] - ETA: 0s - loss: 0.0495\n",
      "Epoch 7: val_loss did not improve from 0.06527\n",
      "23359/23359 [==============================] - 604s 26ms/step - loss: 0.0495 - val_loss: 0.0750 - lr: 0.0010\n",
      "Epoch 8/300\n",
      "23358/23359 [============================>.] - ETA: 0s - loss: 0.0474\n",
      "Epoch 8: val_loss did not improve from 0.06527\n",
      "23359/23359 [==============================] - 608s 26ms/step - loss: 0.0474 - val_loss: 0.0692 - lr: 0.0010\n",
      "Epoch 9/300\n",
      "23358/23359 [============================>.] - ETA: 0s - loss: 0.0407\n",
      "Epoch 9: val_loss improved from 0.06527 to 0.06054, saving model to ./models\\Dropout0.25_Line2.h5\n",
      "23359/23359 [==============================] - 601s 26ms/step - loss: 0.0407 - val_loss: 0.0605 - lr: 5.0000e-04\n",
      "Epoch 10/300\n",
      "23359/23359 [==============================] - ETA: 0s - loss: 0.0392\n",
      "Epoch 10: val_loss improved from 0.06054 to 0.05669, saving model to ./models\\Dropout0.25_Line2.h5\n",
      "23359/23359 [==============================] - 593s 25ms/step - loss: 0.0392 - val_loss: 0.0567 - lr: 5.0000e-04\n",
      "Epoch 11/300\n",
      "23357/23359 [============================>.] - ETA: 0s - loss: 0.0378\n",
      "Epoch 11: val_loss did not improve from 0.05669\n",
      "23359/23359 [==============================] - 614s 26ms/step - loss: 0.0378 - val_loss: 0.0579 - lr: 5.0000e-04\n",
      "Epoch 12/300\n",
      "23359/23359 [==============================] - ETA: 0s - loss: 0.0369\n",
      "Epoch 12: val_loss did not improve from 0.05669\n",
      "23359/23359 [==============================] - 616s 26ms/step - loss: 0.0369 - val_loss: 0.0635 - lr: 5.0000e-04\n",
      "Epoch 13/300\n",
      "23359/23359 [==============================] - ETA: 0s - loss: 0.0349\n",
      "Epoch 13: val_loss did not improve from 0.05669\n",
      "23359/23359 [==============================] - 620s 27ms/step - loss: 0.0349 - val_loss: 0.0616 - lr: 2.5000e-04\n"
     ]
    },
    {
     "data": {
      "image/png": "[encoded data removed]",
      "text/plain": [
       "<Figure size 1000x500 with 1 Axes>"
      ]
     },
     "metadata": {},
     "output_type": "display_data"
    }
   ],
   "source": [
    "# ✅ [3] 시계열 데이터 생성 -----------------------------------------------------------\n",
    "from tensorflow.keras.callbacks import ModelCheckpoint\n",
    "\n",
    "line = 2\n",
    "dropout = 0.25\n",
    "batch_size = 64\n",
    "save_path = './models/Dropout{}_Line{}.h5'.format(dropout, line)\n",
    "graph_title = f'{line} / Dropout{dropout} - Training & Validation Loss'\n",
    "\n",
    "# ✅ ModelCheckpoint 콜백 추가 ---------------------------------------\n",
    "checkpoint = ModelCheckpoint(\n",
    "    filepath=save_path,         # 저장할 모델 파일명\n",
    "    monitor='val_loss',               # 검증 손실 기준\n",
    "    save_best_only=True,              # 가장 성능 좋은 모델만 저장\n",
    "    save_weights_only=False,          # 전체 모델 저장 (구조 + 가중치)\n",
    "    verbose=1                         # 저장될 때마다 메시지 출력\n",
    ")\n",
    "\n",
    "\n",
    "# 과거 21시간 데이터를 기반으로 예측\n",
    "sequence_length = 21\n",
    "\n",
    "# TimeseriesGenerator를 통해 시계열 학습/검증셋 생성\n",
    "train_gen = TimeseriesGenerator(train_x, train_y, length=sequence_length, batch_size=batch_size)\n",
    "val_gen   = TimeseriesGenerator(val_x, val_y, length=sequence_length, batch_size=batch_size)\n",
    "\n",
    "# ✅ [4] LSTM 모델 정의 및 학습 --------------------------------------------------------\n",
    "\n",
    "# 딥러닝 모델 구조 정의\n",
    "model_Dropout025_Line2 = Sequential([\n",
    "    Input(shape=(sequence_length, train_x.shape[1])),  # (timesteps, features)\n",
    "    LSTM(64, return_sequences=True),   # 첫 번째 LSTM: 시퀀스 출력 유지\n",
    "    Dropout(dropout),\n",
    "    LSTM(32),                          # 두 번째 LSTM: 최종 출력만 반환\n",
    "    Dropout(dropout),\n",
    "    Dense(1)                           # 예측값 하나 출력 (혼잡도)\n",
    "])\n",
    "\n",
    "# 모델 컴파일\n",
    "model_Dropout025_Line2.compile(loss='mse', optimizer=Adam(0.001))\n",
    "\n",
    "# 콜백 설정\n",
    "early_stop = EarlyStopping(monitor='val_loss', patience=3, restore_best_weights=True)\n",
    "reduce_lr = ReduceLROnPlateau(monitor='val_loss', patience=2, factor=0.5)\n",
    "\n",
    "# 모델 학습\n",
    "History_Dropout025_Line2 = model_Dropout025_Line2.fit(train_gen, validation_data=val_gen, epochs=300, callbacks=[\n",
    "                                                                              early_stop,\n",
    "                                                                              reduce_lr\n",
    "                                                                            ,checkpoint])\n",
    "\n",
    "# 📊 학습 및 검증 손실 시각화\n",
    "plt.figure(figsize=(10, 5))\n",
    "plt.plot(History_Dropout025_Line2.history['loss'], label='Train Loss')\n",
    "plt.plot(History_Dropout025_Line2.history['val_loss'], label='Validation Loss')\n",
    "plt.title(graph_title)\n",
    "plt.xlabel('Epoch')\n",
    "plt.ylabel('Loss (MSE)')\n",
    "plt.legend()\n",
    "plt.grid(True)\n",
    "plt.show()"
   ]
  },
  {
   "cell_type": "markdown",
   "id": "aff4f667-3546-4a50-a793-d14974fd8e9d",
   "metadata": {
    "jp-MarkdownHeadingCollapsed": true
   },
   "source": [
    "# 드롭아웃 0.30"
   ]
  },
  {
   "cell_type": "code",
   "execution_count": 5,
   "id": "41e65ef2-cab6-417d-b0c0-a7474b191267",
   "metadata": {},
   "outputs": [
    {
     "name": "stdout",
     "output_type": "stream",
     "text": [
      "Epoch 1/300\n",
      "23358/23359 [============================>.] - ETA: 0s - loss: 0.1615\n",
      "Epoch 1: val_loss improved from inf to 0.10176, saving model to ./models\\Dropout0.3_Line2.h5\n",
      "23359/23359 [==============================] - 577s 25ms/step - loss: 0.1615 - val_loss: 0.1018 - lr: 0.0010\n",
      "Epoch 2/300\n",
      "23359/23359 [==============================] - ETA: 0s - loss: 0.0858\n",
      "Epoch 2: val_loss improved from 0.10176 to 0.07918, saving model to ./models\\Dropout0.3_Line2.h5\n",
      "23359/23359 [==============================] - 571s 24ms/step - loss: 0.0858 - val_loss: 0.0792 - lr: 0.0010\n",
      "Epoch 3/300\n",
      "23359/23359 [==============================] - ETA: 0s - loss: 0.0715\n",
      "Epoch 3: val_loss improved from 0.07918 to 0.07396, saving model to ./models\\Dropout0.3_Line2.h5\n",
      "23359/23359 [==============================] - 574s 25ms/step - loss: 0.0715 - val_loss: 0.0740 - lr: 0.0010\n",
      "Epoch 4/300\n",
      "23357/23359 [============================>.] - ETA: 0s - loss: 0.0643\n",
      "Epoch 4: val_loss improved from 0.07396 to 0.06976, saving model to ./models\\Dropout0.3_Line2.h5\n",
      "23359/23359 [==============================] - 579s 25ms/step - loss: 0.0643 - val_loss: 0.0698 - lr: 0.0010\n",
      "Epoch 5/300\n",
      "23359/23359 [==============================] - ETA: 0s - loss: 0.0591\n",
      "Epoch 5: val_loss improved from 0.06976 to 0.06950, saving model to ./models\\Dropout0.3_Line2.h5\n",
      "23359/23359 [==============================] - 577s 25ms/step - loss: 0.0591 - val_loss: 0.0695 - lr: 0.0010\n",
      "Epoch 6/300\n",
      "23359/23359 [==============================] - ETA: 0s - loss: 0.0554\n",
      "Epoch 6: val_loss improved from 0.06950 to 0.06076, saving model to ./models\\Dropout0.3_Line2.h5\n",
      "23359/23359 [==============================] - 583s 25ms/step - loss: 0.0554 - val_loss: 0.0608 - lr: 0.0010\n",
      "Epoch 7/300\n",
      "23358/23359 [============================>.] - ETA: 0s - loss: 0.0525\n",
      "Epoch 7: val_loss did not improve from 0.06076\n",
      "23359/23359 [==============================] - 588s 25ms/step - loss: 0.0525 - val_loss: 0.0625 - lr: 0.0010\n",
      "Epoch 8/300\n",
      "23358/23359 [============================>.] - ETA: 0s - loss: 0.0498\n",
      "Epoch 8: val_loss did not improve from 0.06076\n",
      "23359/23359 [==============================] - 582s 25ms/step - loss: 0.0498 - val_loss: 0.0654 - lr: 0.0010\n",
      "Epoch 9/300\n",
      "23357/23359 [============================>.] - ETA: 0s - loss: 0.0434\n",
      "Epoch 9: val_loss improved from 0.06076 to 0.05978, saving model to ./models\\Dropout0.3_Line2.h5\n",
      "23359/23359 [==============================] - 584s 25ms/step - loss: 0.0434 - val_loss: 0.0598 - lr: 5.0000e-04\n",
      "Epoch 10/300\n",
      "23359/23359 [==============================] - ETA: 0s - loss: 0.0420\n",
      "Epoch 10: val_loss improved from 0.05978 to 0.05678, saving model to ./models\\Dropout0.3_Line2.h5\n",
      "23359/23359 [==============================] - 588s 25ms/step - loss: 0.0420 - val_loss: 0.0568 - lr: 5.0000e-04\n",
      "Epoch 11/300\n",
      "23358/23359 [============================>.] - ETA: 0s - loss: 0.0411\n",
      "Epoch 11: val_loss improved from 0.05678 to 0.05250, saving model to ./models\\Dropout0.3_Line2.h5\n",
      "23359/23359 [==============================] - 590s 25ms/step - loss: 0.0411 - val_loss: 0.0525 - lr: 5.0000e-04\n",
      "Epoch 12/300\n",
      "23357/23359 [============================>.] - ETA: 0s - loss: 0.0405\n",
      "Epoch 12: val_loss did not improve from 0.05250\n",
      "23359/23359 [==============================] - 593s 25ms/step - loss: 0.0405 - val_loss: 0.0555 - lr: 5.0000e-04\n",
      "Epoch 13/300\n",
      "23359/23359 [==============================] - ETA: 0s - loss: 0.0397\n",
      "Epoch 13: val_loss did not improve from 0.05250\n",
      "23359/23359 [==============================] - 595s 25ms/step - loss: 0.0397 - val_loss: 0.0554 - lr: 5.0000e-04\n",
      "Epoch 14/300\n",
      "23357/23359 [============================>.] - ETA: 0s - loss: 0.0374\n",
      "Epoch 14: val_loss did not improve from 0.05250\n",
      "23359/23359 [==============================] - 598s 26ms/step - loss: 0.0374 - val_loss: 0.0552 - lr: 2.5000e-04\n"
     ]
    },
    {
     "data": {
      "image/png": "[encoded data removed]",
      "text/plain": [
       "<Figure size 1000x500 with 1 Axes>"
      ]
     },
     "metadata": {},
     "output_type": "display_data"
    }
   ],
   "source": [
    "# ✅ [3] 시계열 데이터 생성 -----------------------------------------------------------\n",
    "from tensorflow.keras.callbacks import ModelCheckpoint\n",
    "\n",
    "line = 2\n",
    "dropout = 0.30\n",
    "batch_size = 64\n",
    "save_path = './models/Dropout{}_Line{}.h5'.format(dropout, line)\n",
    "graph_title = f'{line} / Dropout{dropout} - Training & Validation Loss'\n",
    "\n",
    "# ✅ ModelCheckpoint 콜백 추가 ---------------------------------------\n",
    "checkpoint = ModelCheckpoint(\n",
    "    filepath=save_path,         # 저장할 모델 파일명\n",
    "    monitor='val_loss',               # 검증 손실 기준\n",
    "    save_best_only=True,              # 가장 성능 좋은 모델만 저장\n",
    "    save_weights_only=False,          # 전체 모델 저장 (구조 + 가중치)\n",
    "    verbose=1                         # 저장될 때마다 메시지 출력\n",
    ")\n",
    "\n",
    "\n",
    "# 과거 21시간 데이터를 기반으로 예측\n",
    "sequence_length = 21\n",
    "\n",
    "# TimeseriesGenerator를 통해 시계열 학습/검증셋 생성\n",
    "train_gen = TimeseriesGenerator(train_x, train_y, length=sequence_length, batch_size=batch_size)\n",
    "val_gen   = TimeseriesGenerator(val_x, val_y, length=sequence_length, batch_size=batch_size)\n",
    "\n",
    "# ✅ [4] LSTM 모델 정의 및 학습 --------------------------------------------------------\n",
    "\n",
    "# 딥러닝 모델 구조 정의\n",
    "model_Dropout030_Line2 = Sequential([\n",
    "    Input(shape=(sequence_length, train_x.shape[1])),  # (timesteps, features)\n",
    "    LSTM(64, return_sequences=True),   # 첫 번째 LSTM: 시퀀스 출력 유지\n",
    "    Dropout(dropout),\n",
    "    LSTM(32),                          # 두 번째 LSTM: 최종 출력만 반환\n",
    "    Dropout(dropout),\n",
    "    Dense(1)                           # 예측값 하나 출력 (혼잡도)\n",
    "])\n",
    "\n",
    "# 모델 컴파일\n",
    "model_Dropout030_Line2.compile(loss='mse', optimizer=Adam(0.001))\n",
    "\n",
    "# 콜백 설정\n",
    "early_stop = EarlyStopping(monitor='val_loss', patience=3, restore_best_weights=True)\n",
    "reduce_lr = ReduceLROnPlateau(monitor='val_loss', patience=2, factor=0.5)\n",
    "\n",
    "# 모델 학습\n",
    "History_Dropout030_Line2 = model_Dropout030_Line2.fit(train_gen, validation_data=val_gen, epochs=300, callbacks=[\n",
    "                                                                              early_stop,\n",
    "                                                                              reduce_lr\n",
    "                                                                            ,checkpoint])\n",
    "\n",
    "# 📊 학습 및 검증 손실 시각화\n",
    "plt.figure(figsize=(10, 5))\n",
    "plt.plot(History_Dropout030_Line2.history['loss'], label='Train Loss')\n",
    "plt.plot(History_Dropout030_Line2.history['val_loss'], label='Validation Loss')\n",
    "plt.title(graph_title)\n",
    "plt.xlabel('Epoch')\n",
    "plt.ylabel('Loss (MSE)')\n",
    "plt.legend()\n",
    "plt.grid(True)\n",
    "plt.show()"
   ]
  },
  {
   "cell_type": "markdown",
   "id": "0aca8a92-e189-4f20-8bf8-4f49ff61f86d",
   "metadata": {
    "jp-MarkdownHeadingCollapsed": true
   },
   "source": [
    "# 드롭아웃 0.35"
   ]
  },
  {
   "cell_type": "code",
   "execution_count": 6,
   "id": "7e97076f-a7ed-4874-8a28-9eea7b13394a",
   "metadata": {},
   "outputs": [
    {
     "name": "stdout",
     "output_type": "stream",
     "text": [
      "Epoch 1/300\n",
      "23358/23359 [============================>.] - ETA: 0s - loss: 0.1691\n",
      "Epoch 1: val_loss improved from inf to 0.10461, saving model to ./models\\Dropout0.35_Line2.h5\n",
      "23359/23359 [==============================] - 580s 25ms/step - loss: 0.1691 - val_loss: 0.1046 - lr: 0.0010\n",
      "Epoch 2/300\n",
      "23357/23359 [============================>.] - ETA: 0s - loss: 0.0904\n",
      "Epoch 2: val_loss improved from 0.10461 to 0.09717, saving model to ./models\\Dropout0.35_Line2.h5\n",
      "23359/23359 [==============================] - 571s 24ms/step - loss: 0.0904 - val_loss: 0.0972 - lr: 0.0010\n",
      "Epoch 3/300\n",
      "23357/23359 [============================>.] - ETA: 0s - loss: 0.0745\n",
      "Epoch 3: val_loss improved from 0.09717 to 0.08284, saving model to ./models\\Dropout0.35_Line2.h5\n",
      "23359/23359 [==============================] - 576s 25ms/step - loss: 0.0745 - val_loss: 0.0828 - lr: 0.0010\n",
      "Epoch 4/300\n",
      "23359/23359 [==============================] - ETA: 0s - loss: 0.0678\n",
      "Epoch 4: val_loss improved from 0.08284 to 0.07650, saving model to ./models\\Dropout0.35_Line2.h5\n",
      "23359/23359 [==============================] - 575s 25ms/step - loss: 0.0678 - val_loss: 0.0765 - lr: 0.0010\n",
      "Epoch 5/300\n",
      "23359/23359 [==============================] - ETA: 0s - loss: 0.0631\n",
      "Epoch 5: val_loss improved from 0.07650 to 0.06860, saving model to ./models\\Dropout0.35_Line2.h5\n",
      "23359/23359 [==============================] - 578s 25ms/step - loss: 0.0631 - val_loss: 0.0686 - lr: 0.0010\n",
      "Epoch 6/300\n",
      "23357/23359 [============================>.] - ETA: 0s - loss: 0.0594\n",
      "Epoch 6: val_loss improved from 0.06860 to 0.06602, saving model to ./models\\Dropout0.35_Line2.h5\n",
      "23359/23359 [==============================] - 580s 25ms/step - loss: 0.0594 - val_loss: 0.0660 - lr: 0.0010\n",
      "Epoch 7/300\n",
      "23359/23359 [==============================] - ETA: 0s - loss: 0.0573\n",
      "Epoch 7: val_loss improved from 0.06602 to 0.06546, saving model to ./models\\Dropout0.35_Line2.h5\n",
      "23359/23359 [==============================] - 581s 25ms/step - loss: 0.0573 - val_loss: 0.0655 - lr: 0.0010\n",
      "Epoch 8/300\n",
      "23358/23359 [============================>.] - ETA: 0s - loss: 0.0548\n",
      "Epoch 8: val_loss improved from 0.06546 to 0.06353, saving model to ./models\\Dropout0.35_Line2.h5\n",
      "23359/23359 [==============================] - 583s 25ms/step - loss: 0.0548 - val_loss: 0.0635 - lr: 0.0010\n",
      "Epoch 9/300\n",
      "23358/23359 [============================>.] - ETA: 0s - loss: 0.0523\n",
      "Epoch 9: val_loss did not improve from 0.06353\n",
      "23359/23359 [==============================] - 587s 25ms/step - loss: 0.0523 - val_loss: 0.0649 - lr: 0.0010\n",
      "Epoch 10/300\n",
      "23358/23359 [============================>.] - ETA: 0s - loss: 0.0503\n",
      "Epoch 10: val_loss did not improve from 0.06353\n",
      "23359/23359 [==============================] - 586s 25ms/step - loss: 0.0503 - val_loss: 0.0682 - lr: 0.0010\n",
      "Epoch 11/300\n",
      "23357/23359 [============================>.] - ETA: 0s - loss: 0.0446\n",
      "Epoch 11: val_loss improved from 0.06353 to 0.05580, saving model to ./models\\Dropout0.35_Line2.h5\n",
      "23359/23359 [==============================] - 591s 25ms/step - loss: 0.0446 - val_loss: 0.0558 - lr: 5.0000e-04\n",
      "Epoch 12/300\n",
      "23359/23359 [==============================] - ETA: 0s - loss: 0.0432\n",
      "Epoch 12: val_loss did not improve from 0.05580\n",
      "23359/23359 [==============================] - 595s 25ms/step - loss: 0.0432 - val_loss: 0.0564 - lr: 5.0000e-04\n",
      "Epoch 13/300\n",
      "23357/23359 [============================>.] - ETA: 0s - loss: 0.0426\n",
      "Epoch 13: val_loss did not improve from 0.05580\n",
      "23359/23359 [==============================] - 595s 25ms/step - loss: 0.0426 - val_loss: 0.0565 - lr: 5.0000e-04\n",
      "Epoch 14/300\n",
      "23359/23359 [==============================] - ETA: 0s - loss: 0.0405\n",
      "Epoch 14: val_loss did not improve from 0.05580\n",
      "23359/23359 [==============================] - 600s 26ms/step - loss: 0.0405 - val_loss: 0.0562 - lr: 2.5000e-04\n"
     ]
    },
    {
     "data": {
      "image/png": "[encoded data removed]",
      "text/plain": [
       "<Figure size 1000x500 with 1 Axes>"
      ]
     },
     "metadata": {},
     "output_type": "display_data"
    }
   ],
   "source": [
    "# ✅ [3] 시계열 데이터 생성 -----------------------------------------------------------\n",
    "from tensorflow.keras.callbacks import ModelCheckpoint\n",
    "\n",
    "line = 2\n",
    "dropout = 0.35\n",
    "batch_size = 64\n",
    "save_path = './models/Dropout{}_Line{}.h5'.format(dropout, line)\n",
    "graph_title = f'{line} / Dropout{dropout} - Training & Validation Loss'\n",
    "\n",
    "# ✅ ModelCheckpoint 콜백 추가 ---------------------------------------\n",
    "checkpoint = ModelCheckpoint(\n",
    "    filepath=save_path,         # 저장할 모델 파일명\n",
    "    monitor='val_loss',               # 검증 손실 기준\n",
    "    save_best_only=True,              # 가장 성능 좋은 모델만 저장\n",
    "    save_weights_only=False,          # 전체 모델 저장 (구조 + 가중치)\n",
    "    verbose=1                         # 저장될 때마다 메시지 출력\n",
    ")\n",
    "\n",
    "\n",
    "# 과거 21시간 데이터를 기반으로 예측\n",
    "sequence_length = 21\n",
    "\n",
    "# TimeseriesGenerator를 통해 시계열 학습/검증셋 생성\n",
    "train_gen = TimeseriesGenerator(train_x, train_y, length=sequence_length, batch_size=batch_size)\n",
    "val_gen   = TimeseriesGenerator(val_x, val_y, length=sequence_length, batch_size=batch_size)\n",
    "\n",
    "# ✅ [4] LSTM 모델 정의 및 학습 --------------------------------------------------------\n",
    "\n",
    "# 딥러닝 모델 구조 정의\n",
    "model_Dropout035_Line2 = Sequential([\n",
    "    Input(shape=(sequence_length, train_x.shape[1])),  # (timesteps, features)\n",
    "    LSTM(64, return_sequences=True),   # 첫 번째 LSTM: 시퀀스 출력 유지\n",
    "    Dropout(dropout),\n",
    "    LSTM(32),                          # 두 번째 LSTM: 최종 출력만 반환\n",
    "    Dropout(dropout),\n",
    "    Dense(1)                           # 예측값 하나 출력 (혼잡도)\n",
    "])\n",
    "\n",
    "# 모델 컴파일\n",
    "model_Dropout035_Line2.compile(loss='mse', optimizer=Adam(0.001))\n",
    "\n",
    "# 콜백 설정\n",
    "early_stop = EarlyStopping(monitor='val_loss', patience=3, restore_best_weights=True)\n",
    "reduce_lr = ReduceLROnPlateau(monitor='val_loss', patience=2, factor=0.5)\n",
    "\n",
    "# 모델 학습\n",
    "History_Dropout035_Line2 = model_Dropout035_Line2.fit(train_gen, validation_data=val_gen, epochs=300, callbacks=[\n",
    "                                                                              early_stop,\n",
    "                                                                              reduce_lr\n",
    "                                                                            ,checkpoint])\n",
    "\n",
    "# 📊 학습 및 검증 손실 시각화\n",
    "plt.figure(figsize=(10, 5))\n",
    "plt.plot(History_Dropout035_Line2.history['loss'], label='Train Loss')\n",
    "plt.plot(History_Dropout035_Line2.history['val_loss'], label='Validation Loss')\n",
    "plt.title(graph_title)\n",
    "plt.xlabel('Epoch')\n",
    "plt.ylabel('Loss (MSE)')\n",
    "plt.legend()\n",
    "plt.grid(True)\n",
    "plt.show()"
   ]
  },
  {
   "cell_type": "markdown",
   "id": "8838bb32-2d69-415f-bf80-ab40331e9089",
   "metadata": {
    "jp-MarkdownHeadingCollapsed": true
   },
   "source": [
    "# 드롭아웃 0.40"
   ]
  },
  {
   "cell_type": "code",
   "execution_count": 7,
   "id": "cd7ac828-bc7a-4058-84cf-6c9cb3bdbf3c",
   "metadata": {},
   "outputs": [
    {
     "name": "stdout",
     "output_type": "stream",
     "text": [
      "Epoch 1/300\n",
      "23358/23359 [============================>.] - ETA: 0s - loss: 0.1751\n",
      "Epoch 1: val_loss improved from inf to 0.10781, saving model to ./models\\Dropout0.4_Line2.h5\n",
      "23359/23359 [==============================] - 580s 25ms/step - loss: 0.1751 - val_loss: 0.1078 - lr: 0.0010\n",
      "Epoch 2/300\n",
      "23357/23359 [============================>.] - ETA: 0s - loss: 0.0966\n",
      "Epoch 2: val_loss improved from 0.10781 to 0.09327, saving model to ./models\\Dropout0.4_Line2.h5\n",
      "23359/23359 [==============================] - 578s 25ms/step - loss: 0.0966 - val_loss: 0.0933 - lr: 0.0010\n",
      "Epoch 3/300\n",
      "23358/23359 [============================>.] - ETA: 0s - loss: 0.0808\n",
      "Epoch 3: val_loss improved from 0.09327 to 0.09116, saving model to ./models\\Dropout0.4_Line2.h5\n",
      "23359/23359 [==============================] - 530s 23ms/step - loss: 0.0808 - val_loss: 0.0912 - lr: 0.0010\n",
      "Epoch 4/300\n",
      "23357/23359 [============================>.] - ETA: 0s - loss: 0.0730\n",
      "Epoch 4: val_loss improved from 0.09116 to 0.08299, saving model to ./models\\Dropout0.4_Line2.h5\n",
      "23359/23359 [==============================] - 483s 21ms/step - loss: 0.0730 - val_loss: 0.0830 - lr: 0.0010\n",
      "Epoch 5/300\n",
      "23357/23359 [============================>.] - ETA: 0s - loss: 0.0676\n",
      "Epoch 5: val_loss did not improve from 0.08299\n",
      "23359/23359 [==============================] - 465s 20ms/step - loss: 0.0676 - val_loss: 0.0925 - lr: 0.0010\n",
      "Epoch 6/300\n",
      "23357/23359 [============================>.] - ETA: 0s - loss: 0.0642\n",
      "Epoch 6: val_loss did not improve from 0.08299\n",
      "23359/23359 [==============================] - 483s 21ms/step - loss: 0.0642 - val_loss: 0.0851 - lr: 0.0010\n",
      "Epoch 7/300\n",
      "23356/23359 [============================>.] - ETA: 0s - loss: 0.0568\n",
      "Epoch 7: val_loss improved from 0.08299 to 0.07126, saving model to ./models\\Dropout0.4_Line2.h5\n",
      "23359/23359 [==============================] - 507s 22ms/step - loss: 0.0568 - val_loss: 0.0713 - lr: 5.0000e-04\n",
      "Epoch 8/300\n",
      "23359/23359 [==============================] - ETA: 0s - loss: 0.0546\n",
      "Epoch 8: val_loss improved from 0.07126 to 0.06965, saving model to ./models\\Dropout0.4_Line2.h5\n",
      "23359/23359 [==============================] - 524s 22ms/step - loss: 0.0546 - val_loss: 0.0697 - lr: 5.0000e-04\n",
      "Epoch 9/300\n",
      "23359/23359 [==============================] - ETA: 0s - loss: 0.0532\n",
      "Epoch 9: val_loss did not improve from 0.06965\n",
      "23359/23359 [==============================] - 533s 23ms/step - loss: 0.0532 - val_loss: 0.0719 - lr: 5.0000e-04\n",
      "Epoch 10/300\n",
      "23357/23359 [============================>.] - ETA: 0s - loss: 0.0518\n",
      "Epoch 10: val_loss did not improve from 0.06965\n",
      "23359/23359 [==============================] - 545s 23ms/step - loss: 0.0517 - val_loss: 0.0707 - lr: 5.0000e-04\n",
      "Epoch 11/300\n",
      "23358/23359 [============================>.] - ETA: 0s - loss: 0.0485\n",
      "Epoch 11: val_loss did not improve from 0.06965\n",
      "23359/23359 [==============================] - 550s 24ms/step - loss: 0.0485 - val_loss: 0.0707 - lr: 2.5000e-04\n"
     ]
    },
    {
     "data": {
      "image/png": "[encoded data removed]",
      "text/plain": [
       "<Figure size 1000x500 with 1 Axes>"
      ]
     },
     "metadata": {},
     "output_type": "display_data"
    }
   ],
   "source": [
    "# ✅ [3] 시계열 데이터 생성 -----------------------------------------------------------\n",
    "from tensorflow.keras.callbacks import ModelCheckpoint\n",
    "\n",
    "line = 2\n",
    "dropout = 0.40\n",
    "batch_size = 64\n",
    "save_path = './models/Dropout{}_Line{}.h5'.format(dropout, line)\n",
    "graph_title = f'{line} / Dropout{dropout} - Training & Validation Loss'\n",
    "\n",
    "# ✅ ModelCheckpoint 콜백 추가 ---------------------------------------\n",
    "checkpoint = ModelCheckpoint(\n",
    "    filepath=save_path,         # 저장할 모델 파일명\n",
    "    monitor='val_loss',               # 검증 손실 기준\n",
    "    save_best_only=True,              # 가장 성능 좋은 모델만 저장\n",
    "    save_weights_only=False,          # 전체 모델 저장 (구조 + 가중치)\n",
    "    verbose=1                         # 저장될 때마다 메시지 출력\n",
    ")\n",
    "\n",
    "\n",
    "# 과거 21시간 데이터를 기반으로 예측\n",
    "sequence_length = 21\n",
    "\n",
    "# TimeseriesGenerator를 통해 시계열 학습/검증셋 생성\n",
    "train_gen = TimeseriesGenerator(train_x, train_y, length=sequence_length, batch_size=batch_size)\n",
    "val_gen   = TimeseriesGenerator(val_x, val_y, length=sequence_length, batch_size=batch_size)\n",
    "\n",
    "# ✅ [4] LSTM 모델 정의 및 학습 --------------------------------------------------------\n",
    "\n",
    "# 딥러닝 모델 구조 정의\n",
    "model_Dropout040_Line2 = Sequential([\n",
    "    Input(shape=(sequence_length, train_x.shape[1])),  # (timesteps, features)\n",
    "    LSTM(64, return_sequences=True),   # 첫 번째 LSTM: 시퀀스 출력 유지\n",
    "    Dropout(dropout),\n",
    "    LSTM(32),                          # 두 번째 LSTM: 최종 출력만 반환\n",
    "    Dropout(dropout),\n",
    "    Dense(1)                           # 예측값 하나 출력 (혼잡도)\n",
    "])\n",
    "\n",
    "# 모델 컴파일\n",
    "model_Dropout040_Line2.compile(loss='mse', optimizer=Adam(0.001))\n",
    "\n",
    "# 콜백 설정\n",
    "early_stop = EarlyStopping(monitor='val_loss', patience=3, restore_best_weights=True)\n",
    "reduce_lr = ReduceLROnPlateau(monitor='val_loss', patience=2, factor=0.5)\n",
    "\n",
    "# 모델 학습\n",
    "History_Dropout040_Line2 = model_Dropout040_Line2.fit(train_gen, validation_data=val_gen, epochs=300, callbacks=[\n",
    "                                                                              early_stop,\n",
    "                                                                              reduce_lr\n",
    "                                                                            ,checkpoint])\n",
    "\n",
    "# 📊 학습 및 검증 손실 시각화\n",
    "plt.figure(figsize=(10, 5))\n",
    "plt.plot(History_Dropout040_Line2.history['loss'], label='Train Loss')\n",
    "plt.plot(History_Dropout040_Line2.history['val_loss'], label='Validation Loss')\n",
    "plt.title(graph_title)\n",
    "plt.xlabel('Epoch')\n",
    "plt.ylabel('Loss (MSE)')\n",
    "plt.legend()\n",
    "plt.grid(True)\n",
    "plt.show()"
   ]
  },
  {
   "cell_type": "markdown",
   "id": "7772ab1f-5621-45c9-b5d1-69e6109625a9",
   "metadata": {
    "jp-MarkdownHeadingCollapsed": true
   },
   "source": [
    "# 드롭아웃 0.45"
   ]
  },
  {
   "cell_type": "code",
   "execution_count": null,
   "id": "3813526a-4a4b-48c9-8c03-d38d2c22fd1e",
   "metadata": {},
   "outputs": [
    {
     "name": "stdout",
     "output_type": "stream",
     "text": [
      "Epoch 1/300\n",
      "23356/23359 [============================>.] - ETA: 0s - loss: 0.1845\n",
      "Epoch 1: val_loss improved from inf to 0.11594, saving model to ./models\\Dropout0.45_Line2.h5\n",
      "23359/23359 [==============================] - 537s 23ms/step - loss: 0.1845 - val_loss: 0.1159 - lr: 0.0010\n",
      "Epoch 2/300\n",
      "23357/23359 [============================>.] - ETA: 0s - loss: 0.1049\n",
      "Epoch 2: val_loss improved from 0.11594 to 0.08742, saving model to ./models\\Dropout0.45_Line2.h5\n",
      "23359/23359 [==============================] - 482s 21ms/step - loss: 0.1048 - val_loss: 0.0874 - lr: 0.0010\n",
      "Epoch 3/300\n",
      "23357/23359 [============================>.] - ETA: 0s - loss: 0.0909\n",
      "Epoch 3: val_loss improved from 0.08742 to 0.08574, saving model to ./models\\Dropout0.45_Line2.h5\n",
      "23359/23359 [==============================] - 458s 20ms/step - loss: 0.0909 - val_loss: 0.0857 - lr: 0.0010\n",
      "Epoch 4/300\n",
      "23356/23359 [============================>.] - ETA: 0s - loss: 0.0836\n",
      "Epoch 4: val_loss improved from 0.08574 to 0.08363, saving model to ./models\\Dropout0.45_Line2.h5\n",
      "23359/23359 [==============================] - 485s 21ms/step - loss: 0.0836 - val_loss: 0.0836 - lr: 0.0010\n",
      "Epoch 5/300\n",
      "23358/23359 [============================>.] - ETA: 0s - loss: 0.0778\n",
      "Epoch 5: val_loss improved from 0.08363 to 0.06814, saving model to ./models\\Dropout0.45_Line2.h5\n",
      "23359/23359 [==============================] - 499s 21ms/step - loss: 0.0778 - val_loss: 0.0681 - lr: 0.0010\n",
      "Epoch 6/300\n",
      "23357/23359 [============================>.] - ETA: 0s - loss: 0.0739\n",
      "Epoch 6: val_loss did not improve from 0.06814\n",
      "23359/23359 [==============================] - 506s 22ms/step - loss: 0.0739 - val_loss: 0.0696 - lr: 0.0010\n",
      "Epoch 7/300\n",
      "23358/23359 [============================>.] - ETA: 0s - loss: 0.0700\n",
      "Epoch 7: val_loss did not improve from 0.06814\n",
      "23359/23359 [==============================] - 498s 21ms/step - loss: 0.0700 - val_loss: 0.0696 - lr: 0.0010\n",
      "Epoch 8/300\n",
      "23357/23359 [============================>.] - ETA: 0s - loss: 0.0626\n",
      "Epoch 8: val_loss improved from 0.06814 to 0.06057, saving model to ./models\\Dropout0.45_Line2.h5\n",
      "23359/23359 [==============================] - 546s 23ms/step - loss: 0.0626 - val_loss: 0.0606 - lr: 5.0000e-04\n",
      "Epoch 9/300\n",
      "23359/23359 [==============================] - ETA: 0s - loss: 0.0605\n",
      "Epoch 9: val_loss improved from 0.06057 to 0.05841, saving model to ./models\\Dropout0.45_Line2.h5\n",
      "23359/23359 [==============================] - 530s 23ms/step - loss: 0.0605 - val_loss: 0.0584 - lr: 5.0000e-04\n",
      "Epoch 10/300\n",
      "23359/23359 [==============================] - ETA: 0s - loss: 0.0590\n",
      "Epoch 10: val_loss did not improve from 0.05841\n",
      "23359/23359 [==============================] - 502s 21ms/step - loss: 0.0590 - val_loss: 0.0610 - lr: 5.0000e-04\n",
      "Epoch 11/300\n",
      "23357/23359 [============================>.] - ETA: 0s - loss: 0.0577\n",
      "Epoch 11: val_loss improved from 0.05841 to 0.05474, saving model to ./models\\Dropout0.45_Line2.h5\n",
      "23359/23359 [==============================] - 503s 22ms/step - loss: 0.0577 - val_loss: 0.0547 - lr: 5.0000e-04\n",
      "Epoch 12/300\n",
      "23358/23359 [============================>.] - ETA: 0s - loss: 0.0564\n",
      "Epoch 12: val_loss did not improve from 0.05474\n",
      "23359/23359 [==============================] - 498s 21ms/step - loss: 0.0564 - val_loss: 0.0601 - lr: 5.0000e-04\n",
      "Epoch 13/300\n",
      " 6415/23359 [=======>......................] - ETA: 6:27 - loss: 0.0552"
     ]
    }
   ],
   "source": [
    "# ✅ [3] 시계열 데이터 생성 -----------------------------------------------------------\n",
    "from tensorflow.keras.callbacks import ModelCheckpoint\n",
    "\n",
    "line = 2\n",
    "dropout = 0.45\n",
    "batch_size = 64\n",
    "save_path = './models/Dropout{}_Line{}.h5'.format(dropout, line)\n",
    "graph_title = f'{line} / Dropout{dropout} - Training & Validation Loss'\n",
    "\n",
    "# ✅ ModelCheckpoint 콜백 추가 ---------------------------------------\n",
    "checkpoint = ModelCheckpoint(\n",
    "    filepath=save_path,         # 저장할 모델 파일명\n",
    "    monitor='val_loss',               # 검증 손실 기준\n",
    "    save_best_only=True,              # 가장 성능 좋은 모델만 저장\n",
    "    save_weights_only=False,          # 전체 모델 저장 (구조 + 가중치)\n",
    "    verbose=1                         # 저장될 때마다 메시지 출력\n",
    ")\n",
    "\n",
    "\n",
    "# 과거 21시간 데이터를 기반으로 예측\n",
    "sequence_length = 21\n",
    "\n",
    "# TimeseriesGenerator를 통해 시계열 학습/검증셋 생성\n",
    "train_gen = TimeseriesGenerator(train_x, train_y, length=sequence_length, batch_size=batch_size)\n",
    "val_gen   = TimeseriesGenerator(val_x, val_y, length=sequence_length, batch_size=batch_size)\n",
    "\n",
    "# ✅ [4] LSTM 모델 정의 및 학습 --------------------------------------------------------\n",
    "\n",
    "# 딥러닝 모델 구조 정의\n",
    "model_Dropout045_Line2 = Sequential([\n",
    "    Input(shape=(sequence_length, train_x.shape[1])),  # (timesteps, features)\n",
    "    LSTM(64, return_sequences=True),   # 첫 번째 LSTM: 시퀀스 출력 유지\n",
    "    Dropout(dropout),\n",
    "    LSTM(32),                          # 두 번째 LSTM: 최종 출력만 반환\n",
    "    Dropout(dropout),\n",
    "    Dense(1)                           # 예측값 하나 출력 (혼잡도)\n",
    "])\n",
    "\n",
    "# 모델 컴파일\n",
    "model_Dropout045_Line2.compile(loss='mse', optimizer=Adam(0.001))\n",
    "\n",
    "# 콜백 설정\n",
    "early_stop = EarlyStopping(monitor='val_loss', patience=3, restore_best_weights=True)\n",
    "reduce_lr = ReduceLROnPlateau(monitor='val_loss', patience=2, factor=0.5)\n",
    "\n",
    "# 모델 학습\n",
    "History_Dropout045_Line2 = model_Dropout045_Line2.fit(train_gen, validation_data=val_gen, epochs=300, callbacks=[\n",
    "                                                                              early_stop,\n",
    "                                                                              reduce_lr\n",
    "                                                                            ,checkpoint])\n",
    "\n",
    "# 📊 학습 및 검증 손실 시각화\n",
    "plt.figure(figsize=(10, 5))\n",
    "plt.plot(History_Dropout045_Line2.history['loss'], label='Train Loss')\n",
    "plt.plot(History_Dropout045_Line2.history['val_loss'], label='Validation Loss')\n",
    "plt.title(graph_title)\n",
    "plt.xlabel('Epoch')\n",
    "plt.ylabel('Loss (MSE)')\n",
    "plt.legend()\n",
    "plt.grid(True)\n",
    "plt.show()"
   ]
  },
  {
   "cell_type": "markdown",
   "id": "faa2aee3-c6da-46d6-823e-ab8494e41c16",
   "metadata": {},
   "source": [
    "# 모델 성능 평가"
   ]
  },
  {
   "cell_type": "markdown",
   "id": "6931d475-8446-4b9e-bce3-52cb93a5b021",
   "metadata": {
    "id": "50d7e86f-fb2c-4b75-9497-91eaa1a3c6b0"
   },
   "source": [
    "## 2호선 모델 성능 테스트"
   ]
  },
  {
   "cell_type": "code",
   "execution_count": null,
   "id": "af564218-1ee1-41f4-99c7-be44af47f088",
   "metadata": {
    "colab": {
     "base_uri": "https://localhost:8080/"
    },
    "executionInfo": {
     "elapsed": 98481,
     "status": "ok",
     "timestamp": 1749014863722,
     "user": {
      "displayName": "전은진",
      "userId": "09881883516805701170"
     },
     "user_tz": -540
    },
    "id": "3486fc3b-02b3-49ca-ae97-d0c850d7ad96",
    "outputId": "b794e217-4c54-4ead-d48f-53589bc60214"
   },
   "outputs": [],
   "source": [
    "# ✅ [5] 예측 및 평가 ---------------------------------------------------------------\n",
    "from tensorflow.keras.models import load_model\n",
    "Dropout25 = load_model('./models/Dropout0.25_Line2.h5', compile=False)\n",
    "Dropout25.compile(loss='mse', optimizer=Adam(0.001))\n",
    "\n",
    "Dropout30 = load_model('./models/Dropout0.3_Line2.h5', compile=False)\n",
    "Dropout30.compile(loss='mse', optimizer=Adam(0.001))\n",
    "\n",
    "Dropout35 = load_model('./models/Dropout0.35_Line2.h5', compile=False)\n",
    "Dropout35.compile(loss='mse', optimizer=Adam(0.001))\n",
    "\n",
    "Dropout40 = load_model('./models/Dropout0.4_Line2.h5', compile=False)\n",
    "Dropout40.compile(loss='mse', optimizer=Adam(0.001))\n",
    "\n",
    "Dropout45 = load_model('./models/Dropout0.45_Line2.h5', compile=False)\n",
    "Dropout45.compile(loss='mse', optimizer=Adam(0.001))\n",
    "\n",
    "# 검증셋에 대해 예측 수행\n",
    "pred_scaled_25 = Dropout25.predict(val_gen)\n",
    "pred_scaled_30 = Dropout30.predict(val_gen)\n",
    "pred_scaled_35 = Dropout35.predict(val_gen)\n",
    "pred_scaled_40 = Dropout40.predict(val_gen)\n",
    "pred_scaled_45 = Dropout45.predict(val_gen)\n",
    "\n",
    "# 정규화 해제 (역정규화) → 실제 혼잡도 단위로 복원\n",
    "pred_25 = ss.inverse_transform(pred_scaled_25)\n",
    "pred_30 = ss.inverse_transform(pred_scaled_30)\n",
    "pred_35 = ss.inverse_transform(pred_scaled_35)\n",
    "pred_40 = ss.inverse_transform(pred_scaled_40)\n",
    "pred_45 = ss.inverse_transform(pred_scaled_45)\n",
    "\n",
    "# 실제 y도 시계열 슬라이싱 기준에 맞게 자르기\n",
    "true = ss.inverse_transform(val_y[sequence_length:])"
   ]
  },
  {
   "cell_type": "code",
   "execution_count": null,
   "id": "e82f9c72-4e33-4dee-8e48-3b132f469285",
   "metadata": {
    "colab": {
     "base_uri": "https://localhost:8080/"
    },
    "executionInfo": {
     "elapsed": 22,
     "status": "ok",
     "timestamp": 1749014863749,
     "user": {
      "displayName": "전은진",
      "userId": "09881883516805701170"
     },
     "user_tz": -540
    },
    "id": "4358d400-c1a5-40a3-98fc-26842c5a636d",
    "outputId": "e63eb0c6-583f-4584-c2d9-bb917bca3397"
   },
   "outputs": [],
   "source": [
    "# 평가 지표 계산\n",
    "from sklearn.metrics import mean_squared_error, r2_score\n",
    "import numpy as np\n",
    "\n",
    "# RMSE 계산 (squared=False는 MSE 계산에서만 유효한 인자임)\n",
    "rmse_1 = np.sqrt(mean_squared_error(true, pred_25))\n",
    "r2_1 = r2_score(true, pred_25)\n",
    "\n",
    "rmse_2 = np.sqrt(mean_squared_error(true, pred_30))\n",
    "r2_2 = r2_score(true, pred_30)\n",
    "\n",
    "rmse_3 = np.sqrt(mean_squared_error(true, pred_35))\n",
    "r2_3 = r2_score(true, pred_35)\n",
    "\n",
    "rmse_4 = np.sqrt(mean_squared_error(true, pred_40))\n",
    "r2_4 = r2_score(true, pred_40)\n",
    "\n",
    "rmse_5 = np.sqrt(mean_squared_error(true, pred_45))\n",
    "r2_5 = r2_score(true, pred_45)\n",
    "                          # R² Score\n",
    "\n",
    "# 결과 출력\n",
    "print('✅Line1 Dropout = 0.25')\n",
    "print(f\" 검증 RMSE: {rmse_1:.4f}\")\n",
    "print(f\" R² Score: {r2_1:.4f}\")\n",
    "print()\n",
    "print('✅Line1 Dropout = 0.30')\n",
    "print(f\" 검증 RMSE: {rmse_2:.4f}\")\n",
    "print(f\" R² Score: {r2_2:.4f}\")\n",
    "print()\n",
    "print('✅Line1 Dropout = 0.35')\n",
    "print(f\" 검증 RMSE: {rmse_3:.4f}\")\n",
    "print(f\" R² Score: {r2_3:.4f}\")\n",
    "print()\n",
    "print('✅Line1 Dropout = 0.40')\n",
    "print(f\" 검증 RMSE: {rmse_4:.4f}\")\n",
    "print(f\" R² Score: {r2_4:.4f}\")\n",
    "print()\n",
    "print('✅Line1 Dropout = 0.45')\n",
    "print(f\" 검증 RMSE: {rmse_5:.4f}\")\n",
    "print(f\" R² Score: {r2_5:.4f}\")\n",
    "print()"
   ]
  },
  {
   "cell_type": "code",
   "execution_count": null,
   "id": "b8b1a33b-7bd3-4b76-beb9-56918c1f2353",
   "metadata": {},
   "outputs": [],
   "source": [
    "org_rmse = 4.4308\n",
    "org_r2 = 0.9650\n",
    "\n",
    "# 조건에 따라 출력\n",
    "results = [\n",
    "    (\"✅Line1 Dropout = 0.25\", rmse_1, r2_1),\n",
    "    (\"✅Line1 Dropout = 0.30\", rmse_2, r2_2),\n",
    "    (\"✅Line1 Dropout = 0.35\", rmse_3, r2_3),\n",
    "    (\"✅Line1 Dropout = 0.40\", rmse_4, r2_4),\n",
    "    (\"✅Line1 Dropout = 0.45\", rmse_5, r2_5),\n",
    "]\n",
    "\n",
    "for label, rmse, r2 in results:\n",
    "    if (rmse < org_rmse) and (r2 > org_r2):\n",
    "        print(label)\n",
    "        print(f\" 검증 RMSE: {rmse:.4f}\")\n",
    "        print(f\" R² Score: {r2:.4f}\")\n",
    "        print()"
   ]
  },
  {
   "cell_type": "markdown",
   "id": "qIR1DBDXYT73",
   "metadata": {
    "id": "qIR1DBDXYT73"
   },
   "source": [
    "# 3호선"
   ]
  },
  {
   "cell_type": "markdown",
   "id": "l3dO_WXNYq1z",
   "metadata": {
    "id": "l3dO_WXNYq1z"
   },
   "source": [
    "## 3호선 데이터 불러오기"
   ]
  },
  {
   "cell_type": "code",
   "execution_count": null,
   "id": "O_Mb-4i8Yq1z",
   "metadata": {
    "colab": {
     "base_uri": "https://localhost:8080/"
    },
    "executionInfo": {
     "elapsed": 24413,
     "status": "ok",
     "timestamp": 1749081779276,
     "user": {
      "displayName": "전은진",
      "userId": "09881883516805701170"
     },
     "user_tz": -540
    },
    "id": "O_Mb-4i8Yq1z",
    "outputId": "b9cf5635-e8ea-4c63-c21e-57bf939f081b"
   },
   "outputs": [],
   "source": [
    "df1 = df[df['호선'] == 3].copy()\n",
    "cols = ['연도', '호선','상하구분','AWS지점코드']\n",
    "for col in cols:\n",
    "    df1[col] = df1[col].astype('category')\n",
    "\n",
    "# 시 (0~23 기준)\n",
    "df1['시_sin'] = np.sin(2 * np.pi * df1['시'] / 24)\n",
    "df1['시_cos'] = np.cos(2 * np.pi * df1['시'] / 24)\n",
    "\n",
    "# 요일 (0~6 기준, 월~일)\n",
    "df1['요일_sin'] = np.sin(2 * np.pi * df1['요일'] / 7)\n",
    "df1['요일_cos'] = np.cos(2 * np.pi * df1['요일'] / 7)\n",
    "\n",
    "# 월, 일 (1~12, 1~31 기준)\n",
    "le = LabelEncoder()\n",
    "df1['월'] = le.fit_transform(df1['월'])\n",
    "df1['일'] = le.fit_transform(df1['일'])\n",
    "\n",
    "# 1. float64 → float32\n",
    "float_cols = df1.select_dtypes(include=['float64']).columns\n",
    "df1[float_cols] = df1[float_cols].astype('float32')\n",
    "\n",
    "# 2. int64 → int32\n",
    "int_cols = df1.select_dtypes(include=['int64']).columns\n",
    "df1[int_cols] = df1[int_cols].astype('int32')\n",
    "\n",
    "# 3. object(문자열) → category\n",
    "obj_cols = df1.select_dtypes(include=['object']).columns\n",
    "df1[obj_cols] = df1[obj_cols].astype('category')\n",
    "\n",
    "df1 = df1.drop(['시', '요일'], axis=1)\n",
    "df1.info()\n",
    "\n",
    "# ✅ [1] 피처 구성 및 전처리 --------------------------------------------------------\n",
    "\n",
    "# 🎯 타겟 변수 '혼잡도' 제거하여 X 생성\n",
    "X = df1.drop(['혼잡도', '시간'], axis=1)\n",
    "\n",
    "# 🔤 범주형 변수 원-핫 인코딩 (첫 번째 카테고리는 drop)\n",
    "o_h_e_x = pd.get_dummies(X, columns=['연도', '역명', '호선', '상하구분', 'AWS지점코드'], drop_first=True)\n",
    "\n",
    "# 🔢 X 정규화 (0~1 범위로 스케일링)\n",
    "mm = MinMaxScaler()\n",
    "mm_x = mm.fit_transform(o_h_e_x)\n",
    "\n",
    "# 🎯 y 정규화 (표준화: 평균 0, 표준편차 1)\n",
    "y = df1[['혼잡도']]  # 2D로 유지\n",
    "ss = StandardScaler()\n",
    "ss_y = ss.fit_transform(y)\n",
    "\n",
    "# ✅ [2] 시계열 학습/검증 데이터 분할 --------------------------------------------------\n",
    "\n",
    "# 전체의 80%를 학습용, 나머지 20%를 검증용으로 사용\n",
    "split_index = int(len(mm_x) * 0.8)\n",
    "\n",
    "train_x = mm_x[:split_index]\n",
    "train_y = ss_y[:split_index]\n",
    "\n",
    "val_x = mm_x[split_index:]\n",
    "val_y = ss_y[split_index:]"
   ]
  },
  {
   "cell_type": "markdown",
   "id": "7e56ffaa-c7de-4dd0-b852-7332c8033980",
   "metadata": {},
   "source": [
    "# 드롭아웃 0.25"
   ]
  },
  {
   "cell_type": "code",
   "execution_count": null,
   "id": "9bbe1653-6b40-4846-99e0-6dc355fa64e8",
   "metadata": {},
   "outputs": [],
   "source": [
    "# ✅ [3] 시계열 데이터 생성 -----------------------------------------------------------\n",
    "from tensorflow.keras.callbacks import ModelCheckpoint\n",
    "\n",
    "line = 3\n",
    "dropout = 0.25\n",
    "batch_size = 128\n",
    "save_path = './models/Dropout{}_Line{}.h5'.format(dropout, line)\n",
    "graph_title = f'{line} / Dropout{dropout} - Training & Validation Loss'\n",
    "\n",
    "# ✅ ModelCheckpoint 콜백 추가 ---------------------------------------\n",
    "checkpoint = ModelCheckpoint(\n",
    "    filepath=save_path,         # 저장할 모델 파일명\n",
    "    monitor='val_loss',               # 검증 손실 기준\n",
    "    save_best_only=True,              # 가장 성능 좋은 모델만 저장\n",
    "    save_weights_only=False,          # 전체 모델 저장 (구조 + 가중치)\n",
    "    verbose=1                         # 저장될 때마다 메시지 출력\n",
    ")\n",
    "\n",
    "\n",
    "# 과거 21시간 데이터를 기반으로 예측\n",
    "sequence_length = 21\n",
    "\n",
    "# TimeseriesGenerator를 통해 시계열 학습/검증셋 생성\n",
    "train_gen = TimeseriesGenerator(train_x, train_y, length=sequence_length, batch_size=batch_size)\n",
    "val_gen   = TimeseriesGenerator(val_x, val_y, length=sequence_length, batch_size=batch_size)\n",
    "\n",
    "# ✅ [4] LSTM 모델 정의 및 학습 --------------------------------------------------------\n",
    "\n",
    "# 딥러닝 모델 구조 정의\n",
    "model_Dropout025_Line3 = Sequential([\n",
    "    Input(shape=(sequence_length, train_x.shape[1])),  # (timesteps, features)\n",
    "    LSTM(64, return_sequences=True),   # 첫 번째 LSTM: 시퀀스 출력 유지\n",
    "    Dropout(dropout),\n",
    "    LSTM(32),                          # 두 번째 LSTM: 최종 출력만 반환\n",
    "    Dropout(dropout),\n",
    "    Dense(1)                           # 예측값 하나 출력 (혼잡도)\n",
    "])\n",
    "\n",
    "# 모델 컴파일\n",
    "model_Dropout025_Line3.compile(loss='mse', optimizer=Adam(0.001))\n",
    "\n",
    "# 콜백 설정\n",
    "early_stop = EarlyStopping(monitor='val_loss', patience=3, restore_best_weights=True)\n",
    "reduce_lr = ReduceLROnPlateau(monitor='val_loss', patience=2, factor=0.5)\n",
    "\n",
    "# 모델 학습\n",
    "History_Dropout025_Line3 = model_Dropout025_Line3.fit(train_gen, validation_data=val_gen, epochs=300, callbacks=[\n",
    "                                                                              early_stop,\n",
    "                                                                              reduce_lr\n",
    "                                                                            ,checkpoint])\n",
    "\n",
    "# 📊 학습 및 검증 손실 시각화\n",
    "plt.figure(figsize=(10, 5))\n",
    "plt.plot(History_Dropout025_Line3.history['loss'], label='Train Loss')\n",
    "plt.plot(History_Dropout025_Line3.history['val_loss'], label='Validation Loss')\n",
    "plt.title(graph_title)\n",
    "plt.xlabel('Epoch')\n",
    "plt.ylabel('Loss (MSE)')\n",
    "plt.legend()\n",
    "plt.grid(True)\n",
    "plt.show()"
   ]
  },
  {
   "cell_type": "markdown",
   "id": "a41aae49-cf1f-414a-a85b-b5774f4c2791",
   "metadata": {},
   "source": [
    "# 드롭아웃 0.30"
   ]
  },
  {
   "cell_type": "code",
   "execution_count": null,
   "id": "04fb6db4-24bb-4ac1-ad74-140e305a50c3",
   "metadata": {},
   "outputs": [],
   "source": [
    "# ✅ [3] 시계열 데이터 생성 -----------------------------------------------------------\n",
    "from tensorflow.keras.callbacks import ModelCheckpoint\n",
    "\n",
    "line = 3\n",
    "dropout = 0.30\n",
    "batch_size = 128\n",
    "save_path = './models/Dropout{}_Line{}.h5'.format(dropout, line)\n",
    "graph_title = f'{line} / Dropout{dropout} - Training & Validation Loss'\n",
    "\n",
    "# ✅ ModelCheckpoint 콜백 추가 ---------------------------------------\n",
    "checkpoint = ModelCheckpoint(\n",
    "    filepath=save_path,         # 저장할 모델 파일명\n",
    "    monitor='val_loss',               # 검증 손실 기준\n",
    "    save_best_only=True,              # 가장 성능 좋은 모델만 저장\n",
    "    save_weights_only=False,          # 전체 모델 저장 (구조 + 가중치)\n",
    "    verbose=1                         # 저장될 때마다 메시지 출력\n",
    ")\n",
    "\n",
    "\n",
    "# 과거 21시간 데이터를 기반으로 예측\n",
    "sequence_length = 21\n",
    "\n",
    "# TimeseriesGenerator를 통해 시계열 학습/검증셋 생성\n",
    "train_gen = TimeseriesGenerator(train_x, train_y, length=sequence_length, batch_size=batch_size)\n",
    "val_gen   = TimeseriesGenerator(val_x, val_y, length=sequence_length, batch_size=batch_size)\n",
    "\n",
    "# ✅ [4] LSTM 모델 정의 및 학습 --------------------------------------------------------\n",
    "\n",
    "# 딥러닝 모델 구조 정의\n",
    "model_Dropout030_Line3 = Sequential([\n",
    "    Input(shape=(sequence_length, train_x.shape[1])),  # (timesteps, features)\n",
    "    LSTM(64, return_sequences=True),   # 첫 번째 LSTM: 시퀀스 출력 유지\n",
    "    Dropout(dropout),\n",
    "    LSTM(32),                          # 두 번째 LSTM: 최종 출력만 반환\n",
    "    Dropout(dropout),\n",
    "    Dense(1)                           # 예측값 하나 출력 (혼잡도)\n",
    "])\n",
    "\n",
    "# 모델 컴파일\n",
    "model_Dropout030_Line3.compile(loss='mse', optimizer=Adam(0.001))\n",
    "\n",
    "# 콜백 설정\n",
    "early_stop = EarlyStopping(monitor='val_loss', patience=3, restore_best_weights=True)\n",
    "reduce_lr = ReduceLROnPlateau(monitor='val_loss', patience=2, factor=0.5)\n",
    "\n",
    "# 모델 학습\n",
    "History_Dropout030_Line3 = model_Dropout030_Line3.fit(train_gen, validation_data=val_gen, epochs=300, callbacks=[\n",
    "                                                                              early_stop,\n",
    "                                                                              reduce_lr\n",
    "                                                                            ,checkpoint])\n",
    "\n",
    "# 📊 학습 및 검증 손실 시각화\n",
    "plt.figure(figsize=(10, 5))\n",
    "plt.plot(History_Dropout030_Line3.history['loss'], label='Train Loss')\n",
    "plt.plot(History_Dropout030_Line3.history['val_loss'], label='Validation Loss')\n",
    "plt.title(graph_title)\n",
    "plt.xlabel('Epoch')\n",
    "plt.ylabel('Loss (MSE)')\n",
    "plt.legend()\n",
    "plt.grid(True)\n",
    "plt.show()"
   ]
  },
  {
   "cell_type": "markdown",
   "id": "e66ae6d9-3cbc-4527-956b-6662f43eb6fb",
   "metadata": {},
   "source": [
    "# 드롭아웃 0.35"
   ]
  },
  {
   "cell_type": "code",
   "execution_count": null,
   "id": "dd0ddbf2-38c1-4ed9-b5c5-a324061e3993",
   "metadata": {},
   "outputs": [],
   "source": [
    "# ✅ [3] 시계열 데이터 생성 -----------------------------------------------------------\n",
    "from tensorflow.keras.callbacks import ModelCheckpoint\n",
    "\n",
    "line = 3\n",
    "dropout = 0.35\n",
    "batch_size = 128\n",
    "save_path = './models/Dropout{}_Line{}.h5'.format(dropout, line)\n",
    "graph_title = f'{line} / Dropout{dropout} - Training & Validation Loss'\n",
    "\n",
    "# ✅ ModelCheckpoint 콜백 추가 ---------------------------------------\n",
    "checkpoint = ModelCheckpoint(\n",
    "    filepath=save_path,         # 저장할 모델 파일명\n",
    "    monitor='val_loss',               # 검증 손실 기준\n",
    "    save_best_only=True,              # 가장 성능 좋은 모델만 저장\n",
    "    save_weights_only=False,          # 전체 모델 저장 (구조 + 가중치)\n",
    "    verbose=1                         # 저장될 때마다 메시지 출력\n",
    ")\n",
    "\n",
    "\n",
    "# 과거 21시간 데이터를 기반으로 예측\n",
    "sequence_length = 21\n",
    "\n",
    "# TimeseriesGenerator를 통해 시계열 학습/검증셋 생성\n",
    "train_gen = TimeseriesGenerator(train_x, train_y, length=sequence_length, batch_size=batch_size)\n",
    "val_gen   = TimeseriesGenerator(val_x, val_y, length=sequence_length, batch_size=batch_size)\n",
    "\n",
    "# ✅ [4] LSTM 모델 정의 및 학습 --------------------------------------------------------\n",
    "\n",
    "# 딥러닝 모델 구조 정의\n",
    "model_Dropout035_Line3 = Sequential([\n",
    "    Input(shape=(sequence_length, train_x.shape[1])),  # (timesteps, features)\n",
    "    LSTM(64, return_sequences=True),   # 첫 번째 LSTM: 시퀀스 출력 유지\n",
    "    Dropout(dropout),\n",
    "    LSTM(32),                          # 두 번째 LSTM: 최종 출력만 반환\n",
    "    Dropout(dropout),\n",
    "    Dense(1)                           # 예측값 하나 출력 (혼잡도)\n",
    "])\n",
    "\n",
    "# 모델 컴파일\n",
    "model_Dropout035_Line3.compile(loss='mse', optimizer=Adam(0.001))\n",
    "\n",
    "# 콜백 설정\n",
    "early_stop = EarlyStopping(monitor='val_loss', patience=3, restore_best_weights=True)\n",
    "reduce_lr = ReduceLROnPlateau(monitor='val_loss', patience=2, factor=0.5)\n",
    "\n",
    "# 모델 학습\n",
    "History_Dropout035_Line3 = model_Dropout035_Line3.fit(train_gen, validation_data=val_gen, epochs=300, callbacks=[\n",
    "                                                                              early_stop,\n",
    "                                                                              reduce_lr\n",
    "                                                                            ,checkpoint])\n",
    "\n",
    "# 📊 학습 및 검증 손실 시각화\n",
    "plt.figure(figsize=(10, 5))\n",
    "plt.plot(History_Dropout035_Line3.history['loss'], label='Train Loss')\n",
    "plt.plot(History_Dropout035_Line3.history['val_loss'], label='Validation Loss')\n",
    "plt.title(graph_title)\n",
    "plt.xlabel('Epoch')\n",
    "plt.ylabel('Loss (MSE)')\n",
    "plt.legend()\n",
    "plt.grid(True)\n",
    "plt.show()"
   ]
  },
  {
   "cell_type": "markdown",
   "id": "b759fe9f-896b-41eb-b230-2e5fc31c14e6",
   "metadata": {},
   "source": [
    "# 드롭아웃 0.40"
   ]
  },
  {
   "cell_type": "code",
   "execution_count": null,
   "id": "ee2eac4d-e41d-4653-93ad-49b440740dc6",
   "metadata": {},
   "outputs": [],
   "source": [
    "# ✅ [3] 시계열 데이터 생성 -----------------------------------------------------------\n",
    "from tensorflow.keras.callbacks import ModelCheckpoint\n",
    "\n",
    "line = 3\n",
    "dropout = 0.40\n",
    "batch_size = 128\n",
    "save_path = './models/Dropout{}_Line{}.h5'.format(dropout, line)\n",
    "graph_title = f'{line} / Dropout{dropout} - Training & Validation Loss'\n",
    "\n",
    "# ✅ ModelCheckpoint 콜백 추가 ---------------------------------------\n",
    "checkpoint = ModelCheckpoint(\n",
    "    filepath=save_path,         # 저장할 모델 파일명\n",
    "    monitor='val_loss',               # 검증 손실 기준\n",
    "    save_best_only=True,              # 가장 성능 좋은 모델만 저장\n",
    "    save_weights_only=False,          # 전체 모델 저장 (구조 + 가중치)\n",
    "    verbose=1                         # 저장될 때마다 메시지 출력\n",
    ")\n",
    "\n",
    "\n",
    "# 과거 21시간 데이터를 기반으로 예측\n",
    "sequence_length = 21\n",
    "\n",
    "# TimeseriesGenerator를 통해 시계열 학습/검증셋 생성\n",
    "train_gen = TimeseriesGenerator(train_x, train_y, length=sequence_length, batch_size=batch_size)\n",
    "val_gen   = TimeseriesGenerator(val_x, val_y, length=sequence_length, batch_size=batch_size)\n",
    "\n",
    "# ✅ [4] LSTM 모델 정의 및 학습 --------------------------------------------------------\n",
    "\n",
    "# 딥러닝 모델 구조 정의\n",
    "model_Dropout040_Line3 = Sequential([\n",
    "    Input(shape=(sequence_length, train_x.shape[1])),  # (timesteps, features)\n",
    "    LSTM(64, return_sequences=True),   # 첫 번째 LSTM: 시퀀스 출력 유지\n",
    "    Dropout(dropout),\n",
    "    LSTM(32),                          # 두 번째 LSTM: 최종 출력만 반환\n",
    "    Dropout(dropout),\n",
    "    Dense(1)                           # 예측값 하나 출력 (혼잡도)\n",
    "])\n",
    "\n",
    "# 모델 컴파일\n",
    "model_Dropout040_Line3.compile(loss='mse', optimizer=Adam(0.001))\n",
    "\n",
    "# 콜백 설정\n",
    "early_stop = EarlyStopping(monitor='val_loss', patience=3, restore_best_weights=True)\n",
    "reduce_lr = ReduceLROnPlateau(monitor='val_loss', patience=2, factor=0.5)\n",
    "\n",
    "# 모델 학습\n",
    "History_Dropout040_Line3 = model_Dropout040_Line3.fit(train_gen, validation_data=val_gen, epochs=300, callbacks=[\n",
    "                                                                              early_stop,\n",
    "                                                                              reduce_lr\n",
    "                                                                            ,checkpoint])\n",
    "\n",
    "# 📊 학습 및 검증 손실 시각화\n",
    "plt.figure(figsize=(10, 5))\n",
    "plt.plot(History_Dropout040_Line3.history['loss'], label='Train Loss')\n",
    "plt.plot(History_Dropout040_Line3.history['val_loss'], label='Validation Loss')\n",
    "plt.title(graph_title)\n",
    "plt.xlabel('Epoch')\n",
    "plt.ylabel('Loss (MSE)')\n",
    "plt.legend()\n",
    "plt.grid(True)\n",
    "plt.show()"
   ]
  },
  {
   "cell_type": "markdown",
   "id": "d723d87b-58c5-4eb2-9dc1-f187f68f4bac",
   "metadata": {},
   "source": [
    "# 드롭아웃 0.45"
   ]
  },
  {
   "cell_type": "code",
   "execution_count": null,
   "id": "0ac10b08-8b6f-480a-abe6-3c1beca8de90",
   "metadata": {},
   "outputs": [],
   "source": [
    "# ✅ [3] 시계열 데이터 생성 -----------------------------------------------------------\n",
    "from tensorflow.keras.callbacks import ModelCheckpoint\n",
    "\n",
    "line = 3\n",
    "dropout = 0.45\n",
    "batch_size = 128\n",
    "save_path = './models/Dropout{}_Line{}.h5'.format(dropout, line)\n",
    "graph_title = f'{line} / Dropout{dropout} - Training & Validation Loss'\n",
    "\n",
    "# ✅ ModelCheckpoint 콜백 추가 ---------------------------------------\n",
    "checkpoint = ModelCheckpoint(\n",
    "    filepath=save_path,         # 저장할 모델 파일명\n",
    "    monitor='val_loss',               # 검증 손실 기준\n",
    "    save_best_only=True,              # 가장 성능 좋은 모델만 저장\n",
    "    save_weights_only=False,          # 전체 모델 저장 (구조 + 가중치)\n",
    "    verbose=1                         # 저장될 때마다 메시지 출력\n",
    ")\n",
    "\n",
    "\n",
    "# 과거 21시간 데이터를 기반으로 예측\n",
    "sequence_length = 21\n",
    "\n",
    "# TimeseriesGenerator를 통해 시계열 학습/검증셋 생성\n",
    "train_gen = TimeseriesGenerator(train_x, train_y, length=sequence_length, batch_size=batch_size)\n",
    "val_gen   = TimeseriesGenerator(val_x, val_y, length=sequence_length, batch_size=batch_size)\n",
    "\n",
    "# ✅ [4] LSTM 모델 정의 및 학습 --------------------------------------------------------\n",
    "\n",
    "# 딥러닝 모델 구조 정의\n",
    "model_Dropout045_Lin3 = Sequential([\n",
    "    Input(shape=(sequence_length, train_x.shape[1])),  # (timesteps, features)\n",
    "    LSTM(64, return_sequences=True),   # 첫 번째 LSTM: 시퀀스 출력 유지\n",
    "    Dropout(dropout),\n",
    "    LSTM(32),                          # 두 번째 LSTM: 최종 출력만 반환\n",
    "    Dropout(dropout),\n",
    "    Dense(1)                           # 예측값 하나 출력 (혼잡도)\n",
    "])\n",
    "\n",
    "# 모델 컴파일\n",
    "model_Dropout045_Lin3.compile(loss='mse', optimizer=Adam(0.001))\n",
    "\n",
    "# 콜백 설정\n",
    "early_stop = EarlyStopping(monitor='val_loss', patience=3, restore_best_weights=True)\n",
    "reduce_lr = ReduceLROnPlateau(monitor='val_loss', patience=2, factor=0.5)\n",
    "\n",
    "# 모델 학습\n",
    "History_Dropout045_Lin3 = model_Dropout045_Lin3.fit(train_gen, validation_data=val_gen, epochs=300, callbacks=[\n",
    "                                                                              early_stop,\n",
    "                                                                              reduce_lr\n",
    "                                                                            ,checkpoint])\n",
    "\n",
    "# 📊 학습 및 검증 손실 시각화\n",
    "plt.figure(figsize=(10, 5))\n",
    "plt.plot(History_Dropout045_Lin3.history['loss'], label='Train Loss')\n",
    "plt.plot(History_Dropout045_Lin3.history['val_loss'], label='Validation Loss')\n",
    "plt.title(graph_title)\n",
    "plt.xlabel('Epoch')\n",
    "plt.ylabel('Loss (MSE)')\n",
    "plt.legend()\n",
    "plt.grid(True)\n",
    "plt.show()"
   ]
  },
  {
   "cell_type": "markdown",
   "id": "a6d689b1-e614-41cb-8d9b-d491b33dae28",
   "metadata": {
    "id": "50d7e86f-fb2c-4b75-9497-91eaa1a3c6b0"
   },
   "source": [
    "## 3호선 모델 성능 테스트"
   ]
  },
  {
   "cell_type": "code",
   "execution_count": null,
   "id": "a71941e5-a99e-4f85-87f4-124f0726d42f",
   "metadata": {
    "colab": {
     "base_uri": "https://localhost:8080/"
    },
    "executionInfo": {
     "elapsed": 98481,
     "status": "ok",
     "timestamp": 1749014863722,
     "user": {
      "displayName": "전은진",
      "userId": "09881883516805701170"
     },
     "user_tz": -540
    },
    "id": "3486fc3b-02b3-49ca-ae97-d0c850d7ad96",
    "outputId": "b794e217-4c54-4ead-d48f-53589bc60214"
   },
   "outputs": [],
   "source": [
    "# ✅ [5] 예측 및 평가 ---------------------------------------------------------------\n",
    "from tensorflow.keras.models import load_model\n",
    "Dropout25 = load_model('./models/Dropout0.25_Line3.h5', compile=False)\n",
    "Dropout25.compile(loss='mse', optimizer=Adam(0.001))\n",
    "\n",
    "Dropout30 = load_model('./models/Dropout0.3_Line3.h5', compile=False)\n",
    "Dropout30.compile(loss='mse', optimizer=Adam(0.001))\n",
    "\n",
    "Dropout35 = load_model('./models/Dropout0.35_Line3.h5', compile=False)\n",
    "Dropout35.compile(loss='mse', optimizer=Adam(0.001))\n",
    "\n",
    "Dropout40 = load_model('./models/Dropout0.4_Line3.h5', compile=False)\n",
    "Dropout40.compile(loss='mse', optimizer=Adam(0.001))\n",
    "\n",
    "Dropout45 = load_model('./models/Dropout0.45_Line3.h5', compile=False)\n",
    "Dropout45.compile(loss='mse', optimizer=Adam(0.001))\n",
    "\n",
    "# 검증셋에 대해 예측 수행\n",
    "pred_scaled_25 = Dropout25.predict(val_gen)\n",
    "pred_scaled_30 = Dropout30.predict(val_gen)\n",
    "pred_scaled_35 = Dropout35.predict(val_gen)\n",
    "pred_scaled_40 = Dropout40.predict(val_gen)\n",
    "pred_scaled_45 = Dropout45.predict(val_gen)\n",
    "\n",
    "# 정규화 해제 (역정규화) → 실제 혼잡도 단위로 복원\n",
    "pred_25 = ss.inverse_transform(pred_scaled_25)\n",
    "pred_30 = ss.inverse_transform(pred_scaled_30)\n",
    "pred_35 = ss.inverse_transform(pred_scaled_35)\n",
    "pred_40 = ss.inverse_transform(pred_scaled_40)\n",
    "pred_45 = ss.inverse_transform(pred_scaled_45)\n",
    "\n",
    "# 실제 y도 시계열 슬라이싱 기준에 맞게 자르기\n",
    "true = ss.inverse_transform(val_y[sequence_length:])"
   ]
  },
  {
   "cell_type": "code",
   "execution_count": null,
   "id": "f3205440-a340-4c4c-9e7c-a1198cb17fed",
   "metadata": {
    "colab": {
     "base_uri": "https://localhost:8080/"
    },
    "executionInfo": {
     "elapsed": 22,
     "status": "ok",
     "timestamp": 1749014863749,
     "user": {
      "displayName": "전은진",
      "userId": "09881883516805701170"
     },
     "user_tz": -540
    },
    "id": "4358d400-c1a5-40a3-98fc-26842c5a636d",
    "outputId": "e63eb0c6-583f-4584-c2d9-bb917bca3397"
   },
   "outputs": [],
   "source": [
    "# 평가 지표 계산\n",
    "from sklearn.metrics import mean_squared_error, r2_score\n",
    "import numpy as np\n",
    "\n",
    "# RMSE 계산 (squared=False는 MSE 계산에서만 유효한 인자임)\n",
    "rmse_1 = np.sqrt(mean_squared_error(true, pred_25))\n",
    "r2_1 = r2_score(true, pred_25)\n",
    "\n",
    "rmse_2 = np.sqrt(mean_squared_error(true, pred_30))\n",
    "r2_2 = r2_score(true, pred_30)\n",
    "\n",
    "rmse_3 = np.sqrt(mean_squared_error(true, pred_35))\n",
    "r2_3 = r2_score(true, pred_35)\n",
    "\n",
    "rmse_4 = np.sqrt(mean_squared_error(true, pred_40))\n",
    "r2_4 = r2_score(true, pred_40)\n",
    "\n",
    "rmse_5 = np.sqrt(mean_squared_error(true, pred_45))\n",
    "r2_5 = r2_score(true, pred_45)\n",
    "                          # R² Score\n",
    "\n",
    "# 결과 출력\n",
    "print('✅Line1 Dropout = 0.25')\n",
    "print(f\" 검증 RMSE: {rmse_1:.4f}\")\n",
    "print(f\" R² Score: {r2_1:.4f}\")\n",
    "print()\n",
    "print('✅Line1 Dropout = 0.30')\n",
    "print(f\" 검증 RMSE: {rmse_2:.4f}\")\n",
    "print(f\" R² Score: {r2_2:.4f}\")\n",
    "print()\n",
    "print('✅Line1 Dropout = 0.35')\n",
    "print(f\" 검증 RMSE: {rmse_3:.4f}\")\n",
    "print(f\" R² Score: {r2_3:.4f}\")\n",
    "print()\n",
    "print('✅Line1 Dropout = 0.40')\n",
    "print(f\" 검증 RMSE: {rmse_4:.4f}\")\n",
    "print(f\" R² Score: {r2_4:.4f}\")\n",
    "print()\n",
    "print('✅Line1 Dropout = 0.45')\n",
    "print(f\" 검증 RMSE: {rmse_5:.4f}\")\n",
    "print(f\" R² Score: {r2_5:.4f}\")\n",
    "print()"
   ]
  },
  {
   "cell_type": "code",
   "execution_count": null,
   "id": "d4a20131-d81a-4e13-a68b-0005457bd18a",
   "metadata": {},
   "outputs": [],
   "source": [
    "org_rmse = 3.1487\n",
    "org_r2 = 0.9572\n",
    "\n",
    "# 조건에 따라 출력\n",
    "results = [\n",
    "    (\"✅Line1 Dropout = 0.25\", rmse_1, r2_1),\n",
    "    (\"✅Line1 Dropout = 0.30\", rmse_2, r2_2),\n",
    "    (\"✅Line1 Dropout = 0.35\", rmse_3, r2_3),\n",
    "    (\"✅Line1 Dropout = 0.40\", rmse_4, r2_4),\n",
    "    (\"✅Line1 Dropout = 0.45\", rmse_5, r2_5),\n",
    "]\n",
    "\n",
    "for label, rmse, r2 in results:\n",
    "    if (rmse < org_rmse) and (r2 > org_r2):\n",
    "        print(label)\n",
    "        print(f\" 검증 RMSE: {rmse:.4f}\")\n",
    "        print(f\" R² Score: {r2:.4f}\")\n",
    "        print()"
   ]
  },
  {
   "cell_type": "markdown",
   "id": "wGLER5zhYTzi",
   "metadata": {
    "id": "wGLER5zhYTzi"
   },
   "source": [
    "# 4호선"
   ]
  },
  {
   "cell_type": "code",
   "execution_count": null,
   "id": "0cf64401-49a9-4721-ace0-b41eceb7eef4",
   "metadata": {},
   "outputs": [],
   "source": [
    "org_rmse = 0.8955\n",
    "org_r2 = 8.2487\n",
    "line = 4\n",
    "batch_size = 128"
   ]
  },
  {
   "cell_type": "markdown",
   "id": "978047d5-76d9-4c4a-816e-1f89aa94a852",
   "metadata": {
    "id": "l3dO_WXNYq1z",
    "jp-MarkdownHeadingCollapsed": true
   },
   "source": [
    "## 4호선 데이터 불러오기"
   ]
  },
  {
   "cell_type": "code",
   "execution_count": null,
   "id": "a0a5804e-48c5-456d-a290-dd2f1fc4a90f",
   "metadata": {
    "colab": {
     "base_uri": "https://localhost:8080/"
    },
    "executionInfo": {
     "elapsed": 24413,
     "status": "ok",
     "timestamp": 1749081779276,
     "user": {
      "displayName": "전은진",
      "userId": "09881883516805701170"
     },
     "user_tz": -540
    },
    "id": "O_Mb-4i8Yq1z",
    "outputId": "b9cf5635-e8ea-4c63-c21e-57bf939f081b"
   },
   "outputs": [],
   "source": [
    "df1 = df[df['호선'] == 4].copy()\n",
    "cols = ['연도', '호선','상하구분','AWS지점코드']\n",
    "for col in cols:\n",
    "    df1[col] = df1[col].astype('category')\n",
    "\n",
    "# 시 (0~23 기준)\n",
    "df1['시_sin'] = np.sin(2 * np.pi * df1['시'] / 24)\n",
    "df1['시_cos'] = np.cos(2 * np.pi * df1['시'] / 24)\n",
    "\n",
    "# 요일 (0~6 기준, 월~일)\n",
    "df1['요일_sin'] = np.sin(2 * np.pi * df1['요일'] / 7)\n",
    "df1['요일_cos'] = np.cos(2 * np.pi * df1['요일'] / 7)\n",
    "\n",
    "# 월, 일 (1~12, 1~31 기준)\n",
    "le = LabelEncoder()\n",
    "df1['월'] = le.fit_transform(df1['월'])\n",
    "df1['일'] = le.fit_transform(df1['일'])\n",
    "\n",
    "# 1. float64 → float32\n",
    "float_cols = df1.select_dtypes(include=['float64']).columns\n",
    "df1[float_cols] = df1[float_cols].astype('float32')\n",
    "\n",
    "# 2. int64 → int32\n",
    "int_cols = df1.select_dtypes(include=['int64']).columns\n",
    "df1[int_cols] = df1[int_cols].astype('int32')\n",
    "\n",
    "# 3. object(문자열) → category\n",
    "obj_cols = df1.select_dtypes(include=['object']).columns\n",
    "df1[obj_cols] = df1[obj_cols].astype('category')\n",
    "\n",
    "df1 = df1.drop(['시', '요일'], axis=1)\n",
    "df1.info()\n",
    "\n",
    "# ✅ [1] 피처 구성 및 전처리 --------------------------------------------------------\n",
    "\n",
    "# 🎯 타겟 변수 '혼잡도' 제거하여 X 생성\n",
    "X = df1.drop(['혼잡도', '시간'], axis=1)\n",
    "\n",
    "# 🔤 범주형 변수 원-핫 인코딩 (첫 번째 카테고리는 drop)\n",
    "o_h_e_x = pd.get_dummies(X, columns=['연도', '역명', '호선', '상하구분', 'AWS지점코드'], drop_first=True)\n",
    "\n",
    "# 🔢 X 정규화 (0~1 범위로 스케일링)\n",
    "mm = MinMaxScaler()\n",
    "mm_x = mm.fit_transform(o_h_e_x)\n",
    "\n",
    "# 🎯 y 정규화 (표준화: 평균 0, 표준편차 1)\n",
    "y = df1[['혼잡도']]  # 2D로 유지\n",
    "ss = StandardScaler()\n",
    "ss_y = ss.fit_transform(y)\n",
    "\n",
    "# ✅ [2] 시계열 학습/검증 데이터 분할 --------------------------------------------------\n",
    "\n",
    "# 전체의 80%를 학습용, 나머지 20%를 검증용으로 사용\n",
    "split_index = int(len(mm_x) * 0.8)\n",
    "\n",
    "train_x = mm_x[:split_index]\n",
    "train_y = ss_y[:split_index]\n",
    "\n",
    "val_x = mm_x[split_index:]\n",
    "val_y = ss_y[split_index:]"
   ]
  },
  {
   "cell_type": "markdown",
   "id": "415b4ac4-8d80-4603-aee6-3ad62750c206",
   "metadata": {},
   "source": [
    "# 드롭아웃 0.25"
   ]
  },
  {
   "cell_type": "code",
   "execution_count": null,
   "id": "c518336a-0d09-4090-addf-bfa1b9713f93",
   "metadata": {},
   "outputs": [],
   "source": [
    "# ✅ [3] 시계열 데이터 생성 -----------------------------------------------------------\n",
    "from tensorflow.keras.callbacks import ModelCheckpoint\n",
    "\n",
    "dropout = 0.25\n",
    "line=4\n",
    "save_path = './models/Dropout{}_Line{}.h5'.format(dropout, line)\n",
    "graph_title = f'{line} / Dropout{dropout} - Training & Validation Loss'\n",
    "\n",
    "# ✅ ModelCheckpoint 콜백 추가 ---------------------------------------\n",
    "checkpoint = ModelCheckpoint(\n",
    "    filepath=save_path,         # 저장할 모델 파일명\n",
    "    monitor='val_loss',               # 검증 손실 기준\n",
    "    save_best_only=True,              # 가장 성능 좋은 모델만 저장\n",
    "    save_weights_only=False,          # 전체 모델 저장 (구조 + 가중치)\n",
    "    verbose=1                         # 저장될 때마다 메시지 출력\n",
    ")\n",
    "\n",
    "\n",
    "# 과거 21시간 데이터를 기반으로 예측\n",
    "sequence_length = 21\n",
    "\n",
    "# TimeseriesGenerator를 통해 시계열 학습/검증셋 생성\n",
    "train_gen = TimeseriesGenerator(train_x, train_y, length=sequence_length, batch_size=batch_size)\n",
    "val_gen   = TimeseriesGenerator(val_x, val_y, length=sequence_length, batch_size=batch_size)\n",
    "\n",
    "# ✅ [4] LSTM 모델 정의 및 학습 --------------------------------------------------------\n",
    "\n",
    "# 딥러닝 모델 구조 정의\n",
    "model_Dropout025_Line4 = Sequential([\n",
    "    Input(shape=(sequence_length, train_x.shape[1])),  # (timesteps, features)\n",
    "    LSTM(64, return_sequences=True),   # 첫 번째 LSTM: 시퀀스 출력 유지\n",
    "    Dropout(dropout),\n",
    "    LSTM(32),                          # 두 번째 LSTM: 최종 출력만 반환\n",
    "    Dropout(dropout),\n",
    "    Dense(1)                           # 예측값 하나 출력 (혼잡도)\n",
    "])\n",
    "\n",
    "# 모델 컴파일\n",
    "model_Dropout025_Line4.compile(loss='mse', optimizer=Adam(0.001))\n",
    "\n",
    "# 콜백 설정\n",
    "early_stop = EarlyStopping(monitor='val_loss', patience=3, restore_best_weights=True)\n",
    "reduce_lr = ReduceLROnPlateau(monitor='val_loss', patience=2, factor=0.5)\n",
    "\n",
    "# 모델 학습\n",
    "History_Dropout025_Line4 = model_Dropout025_Line4.fit(train_gen, validation_data=val_gen, epochs=300, callbacks=[\n",
    "                                                                              early_stop,\n",
    "                                                                              reduce_lr\n",
    "                                                                            ,checkpoint])\n",
    "\n",
    "# 📊 학습 및 검증 손실 시각화\n",
    "plt.figure(figsize=(10, 5))\n",
    "plt.plot(History_Dropout025_Line4.history['loss'], label='Train Loss')\n",
    "plt.plot(History_Dropout025_Line4.history['val_loss'], label='Validation Loss')\n",
    "plt.title(graph_title)\n",
    "plt.xlabel('Epoch')\n",
    "plt.ylabel('Loss (MSE)')\n",
    "plt.legend()\n",
    "plt.grid(True)\n",
    "plt.show()"
   ]
  },
  {
   "cell_type": "markdown",
   "id": "38555190-1422-45f3-88c4-c1332a4bea25",
   "metadata": {},
   "source": [
    "# 드롭아웃 0.30"
   ]
  },
  {
   "cell_type": "code",
   "execution_count": null,
   "id": "a09b7c13-d122-428c-9f2d-ff0c6879aecf",
   "metadata": {},
   "outputs": [],
   "source": [
    "# ✅ [3] 시계열 데이터 생성 -----------------------------------------------------------\n",
    "from tensorflow.keras.callbacks import ModelCheckpoint\n",
    "\n",
    "dropout = 0.30\n",
    "line=4\n",
    "save_path = './models/Dropout{}_Line{}.h5'.format(dropout, line)\n",
    "graph_title = f'{line} / Dropout{dropout} - Training & Validation Loss'\n",
    "\n",
    "# ✅ ModelCheckpoint 콜백 추가 ---------------------------------------\n",
    "checkpoint = ModelCheckpoint(\n",
    "    filepath=save_path,         # 저장할 모델 파일명\n",
    "    monitor='val_loss',               # 검증 손실 기준\n",
    "    save_best_only=True,              # 가장 성능 좋은 모델만 저장\n",
    "    save_weights_only=False,          # 전체 모델 저장 (구조 + 가중치)\n",
    "    verbose=1                         # 저장될 때마다 메시지 출력\n",
    ")\n",
    "\n",
    "\n",
    "# 과거 21시간 데이터를 기반으로 예측\n",
    "sequence_length = 21\n",
    "\n",
    "# TimeseriesGenerator를 통해 시계열 학습/검증셋 생성\n",
    "train_gen = TimeseriesGenerator(train_x, train_y, length=sequence_length, batch_size=batch_size)\n",
    "val_gen   = TimeseriesGenerator(val_x, val_y, length=sequence_length, batch_size=batch_size)\n",
    "\n",
    "# ✅ [4] LSTM 모델 정의 및 학습 --------------------------------------------------------\n",
    "\n",
    "# 딥러닝 모델 구조 정의\n",
    "model_Dropout030_Lin4 = Sequential([\n",
    "    Input(shape=(sequence_length, train_x.shape[1])),  # (timesteps, features)\n",
    "    LSTM(64, return_sequences=True),   # 첫 번째 LSTM: 시퀀스 출력 유지\n",
    "    Dropout(dropout),\n",
    "    LSTM(32),                          # 두 번째 LSTM: 최종 출력만 반환\n",
    "    Dropout(dropout),\n",
    "    Dense(1)                           # 예측값 하나 출력 (혼잡도)\n",
    "])\n",
    "\n",
    "# 모델 컴파일\n",
    "model_Dropout030_Lin4.compile(loss='mse', optimizer=Adam(0.001))\n",
    "\n",
    "# 콜백 설정\n",
    "early_stop = EarlyStopping(monitor='val_loss', patience=3, restore_best_weights=True)\n",
    "reduce_lr = ReduceLROnPlateau(monitor='val_loss', patience=2, factor=0.5)\n",
    "\n",
    "# 모델 학습\n",
    "History_Dropout030_Lin4 = model_Dropout030_Lin4.fit(train_gen, validation_data=val_gen, epochs=300, callbacks=[\n",
    "                                                                              early_stop,\n",
    "                                                                              reduce_lr\n",
    "                                                                            ,checkpoint])\n",
    "\n",
    "# 📊 학습 및 검증 손실 시각화\n",
    "plt.figure(figsize=(10, 5))\n",
    "plt.plot(History_Dropout030_Lin4.history['loss'], label='Train Loss')\n",
    "plt.plot(History_Dropout030_Lin4.history['val_loss'], label='Validation Loss')\n",
    "plt.title(graph_title)\n",
    "plt.xlabel('Epoch')\n",
    "plt.ylabel('Loss (MSE)')\n",
    "plt.legend()\n",
    "plt.grid(True)\n",
    "plt.show()"
   ]
  },
  {
   "cell_type": "markdown",
   "id": "c1fe6e6b-06b5-432f-acbc-011737ba7f43",
   "metadata": {},
   "source": [
    "# 드롭아웃 0.35"
   ]
  },
  {
   "cell_type": "code",
   "execution_count": null,
   "id": "418d3d01-30aa-4a2f-af32-f6b69aa634c9",
   "metadata": {},
   "outputs": [],
   "source": [
    "# ✅ [3] 시계열 데이터 생성 -----------------------------------------------------------\n",
    "from tensorflow.keras.callbacks import ModelCheckpoint\n",
    "\n",
    "dropout = 0.35\n",
    "line=4\n",
    "save_path = './models/Dropout{}_Line{}.h5'.format(dropout, line)\n",
    "graph_title = f'{line} / Dropout{dropout} - Training & Validation Loss'\n",
    "\n",
    "# ✅ ModelCheckpoint 콜백 추가 ---------------------------------------\n",
    "checkpoint = ModelCheckpoint(\n",
    "    filepath=save_path,         # 저장할 모델 파일명\n",
    "    monitor='val_loss',               # 검증 손실 기준\n",
    "    save_best_only=True,              # 가장 성능 좋은 모델만 저장\n",
    "    save_weights_only=False,          # 전체 모델 저장 (구조 + 가중치)\n",
    "    verbose=1                         # 저장될 때마다 메시지 출력\n",
    ")\n",
    "\n",
    "\n",
    "# 과거 21시간 데이터를 기반으로 예측\n",
    "sequence_length = 21\n",
    "\n",
    "# TimeseriesGenerator를 통해 시계열 학습/검증셋 생성\n",
    "train_gen = TimeseriesGenerator(train_x, train_y, length=sequence_length, batch_size=batch_size)\n",
    "val_gen   = TimeseriesGenerator(val_x, val_y, length=sequence_length, batch_size=batch_size)\n",
    "\n",
    "# ✅ [4] LSTM 모델 정의 및 학습 --------------------------------------------------------\n",
    "\n",
    "# 딥러닝 모델 구조 정의\n",
    "model_Dropout035_Lin4 = Sequential([\n",
    "    Input(shape=(sequence_length, train_x.shape[1])),  # (timesteps, features)\n",
    "    LSTM(64, return_sequences=True),   # 첫 번째 LSTM: 시퀀스 출력 유지\n",
    "    Dropout(dropout),\n",
    "    LSTM(32),                          # 두 번째 LSTM: 최종 출력만 반환\n",
    "    Dropout(dropout),\n",
    "    Dense(1)                           # 예측값 하나 출력 (혼잡도)\n",
    "])\n",
    "\n",
    "# 모델 컴파일\n",
    "model_Dropout035_Lin4.compile(loss='mse', optimizer=Adam(0.001))\n",
    "\n",
    "# 콜백 설정\n",
    "early_stop = EarlyStopping(monitor='val_loss', patience=3, restore_best_weights=True)\n",
    "reduce_lr = ReduceLROnPlateau(monitor='val_loss', patience=2, factor=0.5)\n",
    "\n",
    "# 모델 학습\n",
    "History_Dropout035_Lin4 = model_Dropout035_Lin4.fit(train_gen, validation_data=val_gen, epochs=300, callbacks=[\n",
    "                                                                              early_stop,\n",
    "                                                                              reduce_lr\n",
    "                                                                            ,checkpoint])\n",
    "\n",
    "# 📊 학습 및 검증 손실 시각화\n",
    "plt.figure(figsize=(10, 5))\n",
    "plt.plot(History_Dropout035_Lin4.history['loss'], label='Train Loss')\n",
    "plt.plot(History_Dropout035_Lin4.history['val_loss'], label='Validation Loss')\n",
    "plt.title(graph_title)\n",
    "plt.xlabel('Epoch')\n",
    "plt.ylabel('Loss (MSE)')\n",
    "plt.legend()\n",
    "plt.grid(True)\n",
    "plt.show()"
   ]
  },
  {
   "cell_type": "markdown",
   "id": "d86076a4-2e37-419e-a9ae-198774bf89d9",
   "metadata": {},
   "source": [
    "# 드롭아웃 0.40"
   ]
  },
  {
   "cell_type": "code",
   "execution_count": null,
   "id": "069be16c-f952-41e1-aa88-21cfae2a75aa",
   "metadata": {},
   "outputs": [],
   "source": [
    "# ✅ [3] 시계열 데이터 생성 -----------------------------------------------------------\n",
    "from tensorflow.keras.callbacks import ModelCheckpoint\n",
    "\n",
    "dropout = 0.40\n",
    "line=4\n",
    "save_path = './models/Dropout{}_Line{}.h5'.format(dropout, line)\n",
    "graph_title = f'{line} / Dropout{dropout} - Training & Validation Loss'\n",
    "\n",
    "# ✅ ModelCheckpoint 콜백 추가 ---------------------------------------\n",
    "checkpoint = ModelCheckpoint(\n",
    "    filepath=save_path,         # 저장할 모델 파일명\n",
    "    monitor='val_loss',               # 검증 손실 기준\n",
    "    save_best_only=True,              # 가장 성능 좋은 모델만 저장\n",
    "    save_weights_only=False,          # 전체 모델 저장 (구조 + 가중치)\n",
    "    verbose=1                         # 저장될 때마다 메시지 출력\n",
    ")\n",
    "\n",
    "\n",
    "# 과거 21시간 데이터를 기반으로 예측\n",
    "sequence_length = 21\n",
    "\n",
    "# TimeseriesGenerator를 통해 시계열 학습/검증셋 생성\n",
    "train_gen = TimeseriesGenerator(train_x, train_y, length=sequence_length, batch_size=batch_size)\n",
    "val_gen   = TimeseriesGenerator(val_x, val_y, length=sequence_length, batch_size=batch_size)\n",
    "\n",
    "# ✅ [4] LSTM 모델 정의 및 학습 --------------------------------------------------------\n",
    "\n",
    "# 딥러닝 모델 구조 정의\n",
    "model_Dropout040_Lin4 = Sequential([\n",
    "    Input(shape=(sequence_length, train_x.shape[1])),  # (timesteps, features)\n",
    "    LSTM(64, return_sequences=True),   # 첫 번째 LSTM: 시퀀스 출력 유지\n",
    "    Dropout(dropout),\n",
    "    LSTM(32),                          # 두 번째 LSTM: 최종 출력만 반환\n",
    "    Dropout(dropout),\n",
    "    Dense(1)                           # 예측값 하나 출력 (혼잡도)\n",
    "])\n",
    "\n",
    "# 모델 컴파일\n",
    "model_Dropout040_Lin4.compile(loss='mse', optimizer=Adam(0.001))\n",
    "\n",
    "# 콜백 설정\n",
    "early_stop = EarlyStopping(monitor='val_loss', patience=3, restore_best_weights=True)\n",
    "reduce_lr = ReduceLROnPlateau(monitor='val_loss', patience=2, factor=0.5)\n",
    "\n",
    "# 모델 학습\n",
    "History_Dropout040_Lin4 = model_Dropout040_Lin4.fit(train_gen, validation_data=val_gen, epochs=300, callbacks=[\n",
    "                                                                              early_stop,\n",
    "                                                                              reduce_lr\n",
    "                                                                            ,checkpoint])\n",
    "\n",
    "# 📊 학습 및 검증 손실 시각화\n",
    "plt.figure(figsize=(10, 5))\n",
    "plt.plot(History_Dropout040_Lin4.history['loss'], label='Train Loss')\n",
    "plt.plot(History_Dropout040_Lin4.history['val_loss'], label='Validation Loss')\n",
    "plt.title(graph_title)\n",
    "plt.xlabel('Epoch')\n",
    "plt.ylabel('Loss (MSE)')\n",
    "plt.legend()\n",
    "plt.grid(True)\n",
    "plt.show()"
   ]
  },
  {
   "cell_type": "markdown",
   "id": "d25a5d48-7fa5-418f-be64-951ba51a2b23",
   "metadata": {},
   "source": [
    "# 드롭아웃 0.45"
   ]
  },
  {
   "cell_type": "code",
   "execution_count": null,
   "id": "c2b30c24-5cf6-4a6d-9024-f75334d078ce",
   "metadata": {},
   "outputs": [],
   "source": [
    "# ✅ [3] 시계열 데이터 생성 -----------------------------------------------------------\n",
    "from tensorflow.keras.callbacks import ModelCheckpoint\n",
    "\n",
    "dropout = 0.45\n",
    "line=4\n",
    "save_path = './models/Dropout{}_Line{}.h5'.format(dropout, line)\n",
    "graph_title = f'{line} / Dropout{dropout} - Training & Validation Loss'\n",
    "\n",
    "# ✅ ModelCheckpoint 콜백 추가 ---------------------------------------\n",
    "checkpoint = ModelCheckpoint(\n",
    "    filepath=save_path,         # 저장할 모델 파일명\n",
    "    monitor='val_loss',               # 검증 손실 기준\n",
    "    save_best_only=True,              # 가장 성능 좋은 모델만 저장\n",
    "    save_weights_only=False,          # 전체 모델 저장 (구조 + 가중치)\n",
    "    verbose=1                         # 저장될 때마다 메시지 출력\n",
    ")\n",
    "\n",
    "\n",
    "# 과거 21시간 데이터를 기반으로 예측\n",
    "sequence_length = 21\n",
    "\n",
    "# TimeseriesGenerator를 통해 시계열 학습/검증셋 생성\n",
    "train_gen = TimeseriesGenerator(train_x, train_y, length=sequence_length, batch_size=batch_size)\n",
    "val_gen   = TimeseriesGenerator(val_x, val_y, length=sequence_length, batch_size=batch_size)\n",
    "\n",
    "# ✅ [4] LSTM 모델 정의 및 학습 --------------------------------------------------------\n",
    "\n",
    "# 딥러닝 모델 구조 정의\n",
    "model_Dropout045_Lin4 = Sequential([\n",
    "    Input(shape=(sequence_length, train_x.shape[1])),  # (timesteps, features)\n",
    "    LSTM(64, return_sequences=True),   # 첫 번째 LSTM: 시퀀스 출력 유지\n",
    "    Dropout(dropout),\n",
    "    LSTM(32),                          # 두 번째 LSTM: 최종 출력만 반환\n",
    "    Dropout(dropout),\n",
    "    Dense(1)                           # 예측값 하나 출력 (혼잡도)\n",
    "])\n",
    "\n",
    "# 모델 컴파일\n",
    "model_Dropout045_Lin4.compile(loss='mse', optimizer=Adam(0.001))\n",
    "\n",
    "# 콜백 설정\n",
    "early_stop = EarlyStopping(monitor='val_loss', patience=3, restore_best_weights=True)\n",
    "reduce_lr = ReduceLROnPlateau(monitor='val_loss', patience=2, factor=0.5)\n",
    "\n",
    "# 모델 학습\n",
    "History_Dropout045_Lin4 = model_Dropout045_Lin4.fit(train_gen, validation_data=val_gen, epochs=300, callbacks=[\n",
    "                                                                              early_stop,\n",
    "                                                                              reduce_lr\n",
    "                                                                            ,checkpoint])\n",
    "\n",
    "# 📊 학습 및 검증 손실 시각화\n",
    "plt.figure(figsize=(10, 5))\n",
    "plt.plot(History_Dropout045_Lin4.history['loss'], label='Train Loss')\n",
    "plt.plot(History_Dropout045_Lin4.history['val_loss'], label='Validation Loss')\n",
    "plt.title(graph_title)\n",
    "plt.xlabel('Epoch')\n",
    "plt.ylabel('Loss (MSE)')\n",
    "plt.legend()\n",
    "plt.grid(True)\n",
    "plt.show()"
   ]
  },
  {
   "cell_type": "markdown",
   "id": "704a4882-fe60-4ea1-a85f-eb57f9e6ab38",
   "metadata": {
    "id": "50d7e86f-fb2c-4b75-9497-91eaa1a3c6b0"
   },
   "source": [
    "## 4호선 모델 성능 테스트"
   ]
  },
  {
   "cell_type": "code",
   "execution_count": null,
   "id": "a73df6db-ac56-4252-bd7a-895a5efec903",
   "metadata": {
    "colab": {
     "base_uri": "https://localhost:8080/"
    },
    "executionInfo": {
     "elapsed": 98481,
     "status": "ok",
     "timestamp": 1749014863722,
     "user": {
      "displayName": "전은진",
      "userId": "09881883516805701170"
     },
     "user_tz": -540
    },
    "id": "3486fc3b-02b3-49ca-ae97-d0c850d7ad96",
    "outputId": "b794e217-4c54-4ead-d48f-53589bc60214"
   },
   "outputs": [],
   "source": [
    "# ✅ [5] 예측 및 평가 ---------------------------------------------------------------\n",
    "from tensorflow.keras.models import load_model\n",
    "Dropout25 = load_model('./models/Dropout0.25_Line4.h5', compile=False)\n",
    "Dropout25.compile(loss='mse', optimizer=Adam(0.001))\n",
    "\n",
    "Dropout30 = load_model('./models/Dropout0.3_Lin4.h5', compile=False)\n",
    "Dropout30.compile(loss='mse', optimizer=Adam(0.001))\n",
    "\n",
    "Dropout35 = load_model('./models/Dropout0.35_Lin4.h5', compile=False)\n",
    "Dropout35.compile(loss='mse', optimizer=Adam(0.001))\n",
    "\n",
    "Dropout40 = load_model('./models/Dropout0.4_Lin4.h5', compile=False)\n",
    "Dropout40.compile(loss='mse', optimizer=Adam(0.001))\n",
    "\n",
    "Dropout45 = load_model('./models/Dropout0.45_Lin4.h5', compile=False)\n",
    "Dropout45.compile(loss='mse', optimizer=Adam(0.001))\n",
    "\n",
    "# 검증셋에 대해 예측 수행\n",
    "pred_scaled_25 = Dropout25.predict(val_gen)\n",
    "pred_scaled_30 = Dropout30.predict(val_gen)\n",
    "pred_scaled_35 = Dropout35.predict(val_gen)\n",
    "pred_scaled_40 = Dropout40.predict(val_gen)\n",
    "pred_scaled_45 = Dropout45.predict(val_gen)\n",
    "\n",
    "# 정규화 해제 (역정규화) → 실제 혼잡도 단위로 복원\n",
    "pred_25 = ss.inverse_transform(pred_scaled_25)\n",
    "pred_30 = ss.inverse_transform(pred_scaled_30)\n",
    "pred_35 = ss.inverse_transform(pred_scaled_35)\n",
    "pred_40 = ss.inverse_transform(pred_scaled_40)\n",
    "pred_45 = ss.inverse_transform(pred_scaled_45)\n",
    "\n",
    "# 실제 y도 시계열 슬라이싱 기준에 맞게 자르기\n",
    "true = ss.inverse_transform(val_y[sequence_length:])"
   ]
  },
  {
   "cell_type": "code",
   "execution_count": null,
   "id": "76f7a16a-f113-4756-82c7-d29d9eb5af26",
   "metadata": {
    "colab": {
     "base_uri": "https://localhost:8080/"
    },
    "executionInfo": {
     "elapsed": 22,
     "status": "ok",
     "timestamp": 1749014863749,
     "user": {
      "displayName": "전은진",
      "userId": "09881883516805701170"
     },
     "user_tz": -540
    },
    "id": "4358d400-c1a5-40a3-98fc-26842c5a636d",
    "outputId": "e63eb0c6-583f-4584-c2d9-bb917bca3397"
   },
   "outputs": [],
   "source": [
    "# 평가 지표 계산\n",
    "from sklearn.metrics import mean_squared_error, r2_score\n",
    "import numpy as np\n",
    "\n",
    "# RMSE 계산 (squared=False는 MSE 계산에서만 유효한 인자임)\n",
    "rmse_1 = np.sqrt(mean_squared_error(true, pred_25))\n",
    "r2_1 = r2_score(true, pred_25)\n",
    "\n",
    "rmse_2 = np.sqrt(mean_squared_error(true, pred_30))\n",
    "r2_2 = r2_score(true, pred_30)\n",
    "\n",
    "rmse_3 = np.sqrt(mean_squared_error(true, pred_35))\n",
    "r2_3 = r2_score(true, pred_35)\n",
    "\n",
    "rmse_4 = np.sqrt(mean_squared_error(true, pred_40))\n",
    "r2_4 = r2_score(true, pred_40)\n",
    "\n",
    "rmse_5 = np.sqrt(mean_squared_error(true, pred_45))\n",
    "r2_5 = r2_score(true, pred_45)\n",
    "                          # R² Score\n",
    "\n",
    "# 결과 출력\n",
    "print('✅Line1 Dropout = 0.25')\n",
    "print(f\" 검증 RMSE: {rmse_1:.4f}\")\n",
    "print(f\" R² Score: {r2_1:.4f}\")\n",
    "print()\n",
    "print('✅Line1 Dropout = 0.30')\n",
    "print(f\" 검증 RMSE: {rmse_2:.4f}\")\n",
    "print(f\" R² Score: {r2_2:.4f}\")\n",
    "print()\n",
    "print('✅Line1 Dropout = 0.35')\n",
    "print(f\" 검증 RMSE: {rmse_3:.4f}\")\n",
    "print(f\" R² Score: {r2_3:.4f}\")\n",
    "print()\n",
    "print('✅Line1 Dropout = 0.40')\n",
    "print(f\" 검증 RMSE: {rmse_4:.4f}\")\n",
    "print(f\" R² Score: {r2_4:.4f}\")\n",
    "print()\n",
    "print('✅Line1 Dropout = 0.45')\n",
    "print(f\" 검증 RMSE: {rmse_5:.4f}\")\n",
    "print(f\" R² Score: {r2_5:.4f}\")\n",
    "print()"
   ]
  },
  {
   "cell_type": "code",
   "execution_count": null,
   "id": "b09dd538-8530-48f4-aea7-b31dcfc13934",
   "metadata": {},
   "outputs": [],
   "source": [
    "# 조건에 따라 출력\n",
    "results = [\n",
    "    (\"✅Line1 Dropout = 0.25\", rmse_1, r2_1),\n",
    "    (\"✅Line1 Dropout = 0.30\", rmse_2, r2_2),\n",
    "    (\"✅Line1 Dropout = 0.35\", rmse_3, r2_3),\n",
    "    (\"✅Line1 Dropout = 0.40\", rmse_4, r2_4),\n",
    "    (\"✅Line1 Dropout = 0.45\", rmse_5, r2_5),\n",
    "]\n",
    "\n",
    "for label, rmse, r2 in results:\n",
    "    if (rmse < org_rmse) and (r2 > org_r2):\n",
    "        print(label)\n",
    "        print(f\" 검증 RMSE: {rmse:.4f}\")\n",
    "        print(f\" R² Score: {r2:.4f}\")\n",
    "        print()"
   ]
  },
  {
   "cell_type": "markdown",
   "id": "2b00018b-3ce2-4430-b07d-62a9e6235288",
   "metadata": {
    "jp-MarkdownHeadingCollapsed": true
   },
   "source": [
    "# 뭐야"
   ]
  },
  {
   "cell_type": "code",
   "execution_count": 20,
   "id": "qHbX-olwYre9",
   "metadata": {
    "colab": {
     "base_uri": "https://localhost:8080/"
    },
    "executionInfo": {
     "elapsed": 25594,
     "status": "ok",
     "timestamp": 1749090603870,
     "user": {
      "displayName": "전은진",
      "userId": "09881883516805701170"
     },
     "user_tz": -540
    },
    "id": "qHbX-olwYre9",
    "outputId": "fe312649-fd77-4b7d-e93f-81abe7c87b44"
   },
   "outputs": [
    {
     "name": "stdout",
     "output_type": "stream",
     "text": [
      "<class 'pandas.core.frame.DataFrame'>\n",
      "Index: 2067984 entries, 2268840 to 13397452\n",
      "Data columns (total 27 columns):\n",
      " #   Column    Dtype         \n",
      "---  ------    -----         \n",
      " 0   시간        datetime64[ns]\n",
      " 1   호선        category      \n",
      " 2   역번호       int32         \n",
      " 3   역명        category      \n",
      " 4   상하구분      category      \n",
      " 5   AWS지점코드   category      \n",
      " 6   기온        float32       \n",
      " 7   풍향        float32       \n",
      " 8   풍속        float32       \n",
      " 9   일강수량      float32       \n",
      " 10  시간강수량     float32       \n",
      " 11  상대습도      float32       \n",
      " 12  체감온도      float32       \n",
      " 13  혼잡도       float32       \n",
      " 14  승차총승객수    float32       \n",
      " 15  하차총승객수    float32       \n",
      " 16  미세먼지      float32       \n",
      " 17  연도        category      \n",
      " 18  월         int32         \n",
      " 19  일         int32         \n",
      " 20  주말        int32         \n",
      " 21  공휴일       int32         \n",
      " 22  일사량_측정여부  int32         \n",
      " 23  시_sin     float32       \n",
      " 24  시_cos     float32       \n",
      " 25  요일_sin    float32       \n",
      " 26  요일_cos    float32       \n",
      "dtypes: category(5), datetime64[ns](1), float32(15), int32(6)\n",
      "memory usage: 209.1 MB\n"
     ]
    }
   ],
   "source": [
    "df1 = df[df['호선'] == 4].copy()\n",
    "cols = ['연도', '호선','상하구분','AWS지점코드']\n",
    "for col in cols:\n",
    "    df1[col] = df1[col].astype('category')\n",
    "\n",
    "# 시 (0~23 기준)\n",
    "df1['시_sin'] = np.sin(2 * np.pi * df1['시'] / 24)\n",
    "df1['시_cos'] = np.cos(2 * np.pi * df1['시'] / 24)\n",
    "\n",
    "# 요일 (0~6 기준, 월~일)\n",
    "df1['요일_sin'] = np.sin(2 * np.pi * df1['요일'] / 7)\n",
    "df1['요일_cos'] = np.cos(2 * np.pi * df1['요일'] / 7)\n",
    "\n",
    "# 월, 일 (1~12, 1~31 기준)\n",
    "le = LabelEncoder()\n",
    "df1['월'] = le.fit_transform(df1['월'])\n",
    "df1['일'] = le.fit_transform(df1['일'])\n",
    "\n",
    "# 1. float64 → float32\n",
    "float_cols = df1.select_dtypes(include=['float64']).columns\n",
    "df1[float_cols] = df1[float_cols].astype('float32')\n",
    "\n",
    "# 2. int64 → int32\n",
    "int_cols = df1.select_dtypes(include=['int64']).columns\n",
    "df1[int_cols] = df1[int_cols].astype('int32')\n",
    "\n",
    "# 3. object(문자열) → category\n",
    "obj_cols = df1.select_dtypes(include=['object']).columns\n",
    "df1[obj_cols] = df1[obj_cols].astype('category')\n",
    "\n",
    "df1 = df1.drop(['시', '요일'], axis=1)\n",
    "df1.info()\n",
    "\n",
    "# ✅ [1] 피처 구성 및 전처리 --------------------------------------------------------\n",
    "\n",
    "# 🎯 타겟 변수 '혼잡도' 제거하여 X 생성\n",
    "X = df1.drop(['혼잡도', '시간'], axis=1)\n",
    "\n",
    "# 🔤 범주형 변수 원-핫 인코딩 (첫 번째 카테고리는 drop)\n",
    "o_h_e_x = pd.get_dummies(X, columns=['연도', '역명', '호선', '상하구분', 'AWS지점코드'], drop_first=True)\n",
    "\n",
    "# 🔢 X 정규화 (0~1 범위로 스케일링)\n",
    "mm = MinMaxScaler()\n",
    "mm_x = mm.fit_transform(o_h_e_x)\n",
    "\n",
    "# 🎯 y 정규화 (표준화: 평균 0, 표준편차 1)\n",
    "y = df1[['혼잡도']]  # 2D로 유지\n",
    "ss = StandardScaler()\n",
    "ss_y = ss.fit_transform(y)\n",
    "\n",
    "# ✅ [2] 시계열 학습/검증 데이터 분할 --------------------------------------------------\n",
    "\n",
    "# 전체의 80%를 학습용, 나머지 20%를 검증용으로 사용\n",
    "split_index = int(len(mm_x) * 0.8)\n",
    "\n",
    "train_x = mm_x[:split_index]\n",
    "train_y = ss_y[:split_index]\n",
    "\n",
    "val_x = mm_x[split_index:]\n",
    "val_y = ss_y[split_index:]"
   ]
  },
  {
   "cell_type": "code",
   "execution_count": 21,
   "id": "g_koADZdYre9",
   "metadata": {
    "colab": {
     "base_uri": "https://localhost:8080/"
    },
    "executionInfo": {
     "elapsed": 2906158,
     "status": "ok",
     "timestamp": 1749093510033,
     "user": {
      "displayName": "전은진",
      "userId": "09881883516805701170"
     },
     "user_tz": -540
    },
    "id": "g_koADZdYre9",
    "outputId": "3be4a4b5-e655-490a-f35b-f7bd047c0c4c"
   },
   "outputs": [
    {
     "name": "stdout",
     "output_type": "stream",
     "text": [
      "Epoch 1/50\n"
     ]
    },
    {
     "name": "stderr",
     "output_type": "stream",
     "text": [
      "/usr/local/lib/python3.11/dist-packages/keras/src/trainers/data_adapters/py_dataset_adapter.py:121: UserWarning: Your `PyDataset` class should call `super().__init__(**kwargs)` in its constructor. `**kwargs` can include `workers`, `use_multiprocessing`, `max_queue_size`. Do not pass these arguments to `fit()`, as they will be ignored.\n",
      "  self._warn_if_super_not_called()\n"
     ]
    },
    {
     "name": "stdout",
     "output_type": "stream",
     "text": [
      "\u001b[1m51697/51699\u001b[0m \u001b[32m━━━━━━━━━━━━━━━━━━━\u001b[0m\u001b[37m━\u001b[0m \u001b[1m0s\u001b[0m 7ms/step - loss: 0.1902\n",
      "Epoch 1: val_loss improved from inf to 0.20155, saving model to /content/drive/MyDrive/models/Line4_batch32.h5\n"
     ]
    },
    {
     "name": "stderr",
     "output_type": "stream",
     "text": [
      "WARNING:absl:You are saving your model as an HDF5 file via `model.save()` or `keras.saving.save_model(model)`. This file format is considered legacy. We recommend using instead the native Keras format, e.g. `model.save('my_model.keras')` or `keras.saving.save_model(model, 'my_model.keras')`. \n"
     ]
    },
    {
     "name": "stdout",
     "output_type": "stream",
     "text": [
      "\b\b\b\b\b\b\b\b\b\b\b\b\b\b\b\b\b\b\b\b\b\b\b\b\b\b\b\b\b\b\b\b\b\b\b\b\b\b\b\b\b\b\b\b\b\b\b\b\b\b\b\b\b\b\b\b\b\b\b\r",
      "\u001b[1m51699/51699\u001b[0m \u001b[32m━━━━━━━━━━━━━━━━━━━━\u001b[0m\u001b[37m\u001b[0m \u001b[1m416s\u001b[0m 8ms/step - loss: 0.1902 - val_loss: 0.2016 - learning_rate: 0.0010\n",
      "Epoch 2/50\n",
      "\u001b[1m51695/51699\u001b[0m \u001b[32m━━━━━━━━━━━━━━━━━━━\u001b[0m\u001b[37m━\u001b[0m \u001b[1m0s\u001b[0m 7ms/step - loss: 0.0585\n",
      "Epoch 2: val_loss improved from 0.20155 to 0.13226, saving model to /content/drive/MyDrive/models/Line4_batch32.h5\n"
     ]
    },
    {
     "name": "stderr",
     "output_type": "stream",
     "text": [
      "WARNING:absl:You are saving your model as an HDF5 file via `model.save()` or `keras.saving.save_model(model)`. This file format is considered legacy. We recommend using instead the native Keras format, e.g. `model.save('my_model.keras')` or `keras.saving.save_model(model, 'my_model.keras')`. \n"
     ]
    },
    {
     "name": "stdout",
     "output_type": "stream",
     "text": [
      "\b\b\b\b\b\b\b\b\b\b\b\b\b\b\b\b\b\b\b\b\b\b\b\b\b\b\b\b\b\b\b\b\b\b\b\b\b\b\b\b\b\b\b\b\b\b\b\b\b\b\b\b\b\b\b\b\b\b\b\r",
      "\u001b[1m51699/51699\u001b[0m \u001b[32m━━━━━━━━━━━━━━━━━━━━\u001b[0m\u001b[37m\u001b[0m \u001b[1m411s\u001b[0m 8ms/step - loss: 0.0585 - val_loss: 0.1323 - learning_rate: 0.0010\n",
      "Epoch 3/50\n",
      "\u001b[1m51697/51699\u001b[0m \u001b[32m━━━━━━━━━━━━━━━━━━━\u001b[0m\u001b[37m━\u001b[0m \u001b[1m0s\u001b[0m 7ms/step - loss: 0.0486\n",
      "Epoch 3: val_loss did not improve from 0.13226\n",
      "\u001b[1m51699/51699\u001b[0m \u001b[32m━━━━━━━━━━━━━━━━━━━━\u001b[0m\u001b[37m\u001b[0m \u001b[1m414s\u001b[0m 8ms/step - loss: 0.0486 - val_loss: 0.1438 - learning_rate: 0.0010\n",
      "Epoch 4/50\n",
      "\u001b[1m51698/51699\u001b[0m \u001b[32m━━━━━━━━━━━━━━━━━━━\u001b[0m\u001b[37m━\u001b[0m \u001b[1m0s\u001b[0m 7ms/step - loss: 0.0446\n",
      "Epoch 4: val_loss improved from 0.13226 to 0.12195, saving model to /content/drive/MyDrive/models/Line4_batch32.h5\n"
     ]
    },
    {
     "name": "stderr",
     "output_type": "stream",
     "text": [
      "WARNING:absl:You are saving your model as an HDF5 file via `model.save()` or `keras.saving.save_model(model)`. This file format is considered legacy. We recommend using instead the native Keras format, e.g. `model.save('my_model.keras')` or `keras.saving.save_model(model, 'my_model.keras')`. \n"
     ]
    },
    {
     "name": "stdout",
     "output_type": "stream",
     "text": [
      "\b\b\b\b\b\b\b\b\b\b\b\b\b\b\b\b\b\b\b\b\b\b\b\b\b\b\b\b\b\b\b\b\b\b\b\b\b\b\b\b\b\b\b\b\b\b\b\b\b\b\b\b\b\b\b\b\b\b\b\r",
      "\u001b[1m51699/51699\u001b[0m \u001b[32m━━━━━━━━━━━━━━━━━━━━\u001b[0m\u001b[37m\u001b[0m \u001b[1m418s\u001b[0m 8ms/step - loss: 0.0446 - val_loss: 0.1219 - learning_rate: 0.0010\n",
      "Epoch 5/50\n",
      "\u001b[1m51694/51699\u001b[0m \u001b[32m━━━━━━━━━━━━━━━━━━━\u001b[0m\u001b[37m━\u001b[0m \u001b[1m0s\u001b[0m 7ms/step - loss: 0.0403\n",
      "Epoch 5: val_loss did not improve from 0.12195\n",
      "\u001b[1m51699/51699\u001b[0m \u001b[32m━━━━━━━━━━━━━━━━━━━━\u001b[0m\u001b[37m\u001b[0m \u001b[1m415s\u001b[0m 8ms/step - loss: 0.0403 - val_loss: 0.1272 - learning_rate: 0.0010\n",
      "Epoch 6/50\n",
      "\u001b[1m51694/51699\u001b[0m \u001b[32m━━━━━━━━━━━━━━━━━━━\u001b[0m\u001b[37m━\u001b[0m \u001b[1m0s\u001b[0m 7ms/step - loss: 0.0393\n",
      "Epoch 6: val_loss did not improve from 0.12195\n",
      "\u001b[1m51699/51699\u001b[0m \u001b[32m━━━━━━━━━━━━━━━━━━━━\u001b[0m\u001b[37m\u001b[0m \u001b[1m415s\u001b[0m 8ms/step - loss: 0.0393 - val_loss: 0.1333 - learning_rate: 0.0010\n",
      "Epoch 7/50\n",
      "\u001b[1m51697/51699\u001b[0m \u001b[32m━━━━━━━━━━━━━━━━━━━\u001b[0m\u001b[37m━\u001b[0m \u001b[1m0s\u001b[0m 7ms/step - loss: 0.0329\n",
      "Epoch 7: val_loss did not improve from 0.12195\n",
      "\u001b[1m51699/51699\u001b[0m \u001b[32m━━━━━━━━━━━━━━━━━━━━\u001b[0m\u001b[37m\u001b[0m \u001b[1m417s\u001b[0m 8ms/step - loss: 0.0329 - val_loss: 0.1295 - learning_rate: 5.0000e-04\n"
     ]
    }
   ],
   "source": [
    "# ✅ [3] 시계열 데이터 생성 -----------------------------------------------------------\n",
    "from tensorflow.keras.callbacks import ModelCheckpoint\n",
    "\n",
    "line = 4\n",
    "batch_size = 32\n",
    "save_path = '/content/drive/MyDrive/models/Line{}_batch{}.h5'.format(line, batch_size)\n",
    "\n",
    "# ✅ ModelCheckpoint 콜백 추가 ---------------------------------------\n",
    "checkpoint = ModelCheckpoint(\n",
    "    filepath=save_path,         # 저장할 모델 파일명\n",
    "    monitor='val_loss',               # 검증 손실 기준\n",
    "    save_best_only=True,              # 가장 성능 좋은 모델만 저장\n",
    "    save_weights_only=False,          # 전체 모델 저장 (구조 + 가중치)\n",
    "    verbose=1                         # 저장될 때마다 메시지 출력\n",
    ")\n",
    "\n",
    "\n",
    "# 과거 21시간 데이터를 기반으로 예측\n",
    "sequence_length = 21\n",
    "\n",
    "\n",
    "# TimeseriesGenerator를 통해 시계열 학습/검증셋 생성\n",
    "train_gen = TimeseriesGenerator(train_x, train_y, length=sequence_length, batch_size=batch_size)\n",
    "val_gen   = TimeseriesGenerator(val_x, val_y, length=sequence_length, batch_size=batch_size)\n",
    "\n",
    "# ✅ [4] LSTM 모델 정의 및 학습 --------------------------------------------------------\n",
    "\n",
    "# 딥러닝 모델 구조 정의\n",
    "Line4_model_batch32 = Sequential([\n",
    "    Input(shape=(sequence_length, train_x.shape[1])),  # (timesteps, features)\n",
    "    LSTM(64, return_sequences=True),   # 첫 번째 LSTM: 시퀀스 출력 유지\n",
    "    Dropout(0.2),\n",
    "    LSTM(32),                          # 두 번째 LSTM: 최종 출력만 반환\n",
    "    Dropout(0.2),\n",
    "    Dense(1)                           # 예측값 하나 출력 (혼잡도)\n",
    "])\n",
    "\n",
    "# 모델 컴파일\n",
    "Line4_model_batch32.compile(loss='mse', optimizer=Adam(0.001))\n",
    "\n",
    "# 콜백 설정\n",
    "early_stop = EarlyStopping(monitor='val_loss', patience=3, restore_best_weights=True)\n",
    "reduce_lr = ReduceLROnPlateau(monitor='val_loss', patience=2, factor=0.5)\n",
    "\n",
    "# 모델 학습\n",
    "history_Line4_batch32 = Line4_model_batch32.fit(train_gen, validation_data=val_gen, epochs=50, callbacks=[\n",
    "                                                                              early_stop\n",
    "                                                                              ,reduce_lr\n",
    "                                                                            ,checkpoint])"
   ]
  },
  {
   "cell_type": "code",
   "execution_count": 22,
   "id": "QFG-E_ORYre-",
   "metadata": {
    "colab": {
     "base_uri": "https://localhost:8080/",
     "height": 487
    },
    "executionInfo": {
     "elapsed": 149,
     "status": "ok",
     "timestamp": 1749093510188,
     "user": {
      "displayName": "전은진",
      "userId": "09881883516805701170"
     },
     "user_tz": -540
    },
    "id": "QFG-E_ORYre-",
    "outputId": "30abb1b0-544b-4644-cf3f-33aa6926af88"
   },
   "outputs": [
    {
     "data": {
      "image/png": "[encoded data removed]",
      "text/plain": [
       "<Figure size 1000x500 with 1 Axes>"
      ]
     },
     "metadata": {},
     "output_type": "display_data"
    }
   ],
   "source": [
    "# 📊 학습 및 검증 손실 시각화\n",
    "plt.figure(figsize=(10, 5))\n",
    "plt.plot(history_Line4_batch32.history['loss'], label='Train Loss')\n",
    "plt.plot(history_Line4_batch32.history['val_loss'], label='Validation Loss')\n",
    "plt.title('Line4 / Batch 32 - Training & Validation Loss')\n",
    "plt.xlabel('Epoch')\n",
    "plt.ylabel('Loss (MSE)')\n",
    "plt.legend()\n",
    "plt.grid(True)\n",
    "plt.show()"
   ]
  },
  {
   "cell_type": "code",
   "execution_count": 23,
   "id": "xBbJ4uHtYre-",
   "metadata": {
    "colab": {
     "base_uri": "https://localhost:8080/"
    },
    "executionInfo": {
     "elapsed": 1811366,
     "status": "ok",
     "timestamp": 1749095321560,
     "user": {
      "displayName": "전은진",
      "userId": "09881883516805701170"
     },
     "user_tz": -540
    },
    "id": "xBbJ4uHtYre-",
    "outputId": "fa6adde3-3b3c-4bcb-a751-05cb217ad91c",
    "scrolled": true
   },
   "outputs": [
    {
     "name": "stdout",
     "output_type": "stream",
     "text": [
      "Epoch 1/50\n",
      "\u001b[1m25845/25850\u001b[0m \u001b[32m━━━━━━━━━━━━━━━━━━━\u001b[0m\u001b[37m━\u001b[0m \u001b[1m0s\u001b[0m 8ms/step - loss: 0.2251\n",
      "Epoch 1: val_loss improved from inf to 0.23577, saving model to /content/drive/MyDrive/models/Line4_batch64.h5\n"
     ]
    },
    {
     "name": "stderr",
     "output_type": "stream",
     "text": [
      "WARNING:absl:You are saving your model as an HDF5 file via `model.save()` or `keras.saving.save_model(model)`. This file format is considered legacy. We recommend using instead the native Keras format, e.g. `model.save('my_model.keras')` or `keras.saving.save_model(model, 'my_model.keras')`. \n"
     ]
    },
    {
     "name": "stdout",
     "output_type": "stream",
     "text": [
      "\b\b\b\b\b\b\b\b\b\b\b\b\b\b\b\b\b\b\b\b\b\b\b\b\b\b\b\b\b\b\b\b\b\b\b\b\b\b\b\b\b\b\b\b\b\b\b\b\b\b\b\b\b\b\b\b\b\b\b\r",
      "\u001b[1m25850/25850\u001b[0m \u001b[32m━━━━━━━━━━━━━━━━━━━━\u001b[0m\u001b[37m\u001b[0m \u001b[1m227s\u001b[0m 9ms/step - loss: 0.2251 - val_loss: 0.2358 - learning_rate: 0.0010\n",
      "Epoch 2/50\n",
      "\u001b[1m25848/25850\u001b[0m \u001b[32m━━━━━━━━━━━━━━━━━━━\u001b[0m\u001b[37m━\u001b[0m \u001b[1m0s\u001b[0m 8ms/step - loss: 0.0688\n",
      "Epoch 2: val_loss improved from 0.23577 to 0.18351, saving model to /content/drive/MyDrive/models/Line4_batch64.h5\n"
     ]
    },
    {
     "name": "stderr",
     "output_type": "stream",
     "text": [
      "WARNING:absl:You are saving your model as an HDF5 file via `model.save()` or `keras.saving.save_model(model)`. This file format is considered legacy. We recommend using instead the native Keras format, e.g. `model.save('my_model.keras')` or `keras.saving.save_model(model, 'my_model.keras')`. \n"
     ]
    },
    {
     "name": "stdout",
     "output_type": "stream",
     "text": [
      "\b\b\b\b\b\b\b\b\b\b\b\b\b\b\b\b\b\b\b\b\b\b\b\b\b\b\b\b\b\b\b\b\b\b\b\b\b\b\b\b\b\b\b\b\b\b\b\b\b\b\b\b\b\b\b\b\b\b\b\r",
      "\u001b[1m25850/25850\u001b[0m \u001b[32m━━━━━━━━━━━━━━━━━━━━\u001b[0m\u001b[37m\u001b[0m \u001b[1m224s\u001b[0m 9ms/step - loss: 0.0688 - val_loss: 0.1835 - learning_rate: 0.0010\n",
      "Epoch 3/50\n",
      "\u001b[1m25844/25850\u001b[0m \u001b[32m━━━━━━━━━━━━━━━━━━━\u001b[0m\u001b[37m━\u001b[0m \u001b[1m0s\u001b[0m 8ms/step - loss: 0.0540\n",
      "Epoch 3: val_loss improved from 0.18351 to 0.15612, saving model to /content/drive/MyDrive/models/Line4_batch64.h5\n"
     ]
    },
    {
     "name": "stderr",
     "output_type": "stream",
     "text": [
      "WARNING:absl:You are saving your model as an HDF5 file via `model.save()` or `keras.saving.save_model(model)`. This file format is considered legacy. We recommend using instead the native Keras format, e.g. `model.save('my_model.keras')` or `keras.saving.save_model(model, 'my_model.keras')`. \n"
     ]
    },
    {
     "name": "stdout",
     "output_type": "stream",
     "text": [
      "\b\b\b\b\b\b\b\b\b\b\b\b\b\b\b\b\b\b\b\b\b\b\b\b\b\b\b\b\b\b\b\b\b\b\b\b\b\b\b\b\b\b\b\b\b\b\b\b\b\b\b\b\b\b\b\b\b\b\b\r",
      "\u001b[1m25850/25850\u001b[0m \u001b[32m━━━━━━━━━━━━━━━━━━━━\u001b[0m\u001b[37m\u001b[0m \u001b[1m227s\u001b[0m 9ms/step - loss: 0.0540 - val_loss: 0.1561 - learning_rate: 0.0010\n",
      "Epoch 4/50\n",
      "\u001b[1m25844/25850\u001b[0m \u001b[32m━━━━━━━━━━━━━━━━━━━\u001b[0m\u001b[37m━\u001b[0m \u001b[1m0s\u001b[0m 8ms/step - loss: 0.0486\n",
      "Epoch 4: val_loss improved from 0.15612 to 0.15218, saving model to /content/drive/MyDrive/models/Line4_batch64.h5\n"
     ]
    },
    {
     "name": "stderr",
     "output_type": "stream",
     "text": [
      "WARNING:absl:You are saving your model as an HDF5 file via `model.save()` or `keras.saving.save_model(model)`. This file format is considered legacy. We recommend using instead the native Keras format, e.g. `model.save('my_model.keras')` or `keras.saving.save_model(model, 'my_model.keras')`. \n"
     ]
    },
    {
     "name": "stdout",
     "output_type": "stream",
     "text": [
      "\b\b\b\b\b\b\b\b\b\b\b\b\b\b\b\b\b\b\b\b\b\b\b\b\b\b\b\b\b\b\b\b\b\b\b\b\b\b\b\b\b\b\b\b\b\b\b\b\b\b\b\b\b\b\b\b\b\b\b\r",
      "\u001b[1m25850/25850\u001b[0m \u001b[32m━━━━━━━━━━━━━━━━━━━━\u001b[0m\u001b[37m\u001b[0m \u001b[1m226s\u001b[0m 9ms/step - loss: 0.0486 - val_loss: 0.1522 - learning_rate: 0.0010\n",
      "Epoch 5/50\n",
      "\u001b[1m25850/25850\u001b[0m \u001b[32m━━━━━━━━━━━━━━━━━━━━\u001b[0m\u001b[37m\u001b[0m \u001b[1m0s\u001b[0m 8ms/step - loss: 0.0442\n",
      "Epoch 5: val_loss improved from 0.15218 to 0.14537, saving model to /content/drive/MyDrive/models/Line4_batch64.h5\n"
     ]
    },
    {
     "name": "stderr",
     "output_type": "stream",
     "text": [
      "WARNING:absl:You are saving your model as an HDF5 file via `model.save()` or `keras.saving.save_model(model)`. This file format is considered legacy. We recommend using instead the native Keras format, e.g. `model.save('my_model.keras')` or `keras.saving.save_model(model, 'my_model.keras')`. \n"
     ]
    },
    {
     "name": "stdout",
     "output_type": "stream",
     "text": [
      "\b\b\b\b\b\b\b\b\b\b\b\b\b\b\b\b\b\b\b\b\b\b\b\b\b\b\b\b\b\b\b\b\b\b\b\b\b\b\b\b\b\b\b\b\b\b\b\b\b\b\b\b\b\b\b\b\b\b\b\r",
      "\u001b[1m25850/25850\u001b[0m \u001b[32m━━━━━━━━━━━━━━━━━━━━\u001b[0m\u001b[37m\u001b[0m \u001b[1m227s\u001b[0m 9ms/step - loss: 0.0442 - val_loss: 0.1454 - learning_rate: 0.0010\n",
      "Epoch 6/50\n",
      "\u001b[1m25850/25850\u001b[0m \u001b[32m━━━━━━━━━━━━━━━━━━━━\u001b[0m\u001b[37m\u001b[0m \u001b[1m0s\u001b[0m 8ms/step - loss: 0.0424\n",
      "Epoch 6: val_loss did not improve from 0.14537\n",
      "\u001b[1m25850/25850\u001b[0m \u001b[32m━━━━━━━━━━━━━━━━━━━━\u001b[0m\u001b[37m\u001b[0m \u001b[1m226s\u001b[0m 9ms/step - loss: 0.0424 - val_loss: 0.1555 - learning_rate: 0.0010\n",
      "Epoch 7/50\n",
      "\u001b[1m25846/25850\u001b[0m \u001b[32m━━━━━━━━━━━━━━━━━━━\u001b[0m\u001b[37m━\u001b[0m \u001b[1m0s\u001b[0m 8ms/step - loss: 0.0403\n",
      "Epoch 7: val_loss did not improve from 0.14537\n",
      "\u001b[1m25850/25850\u001b[0m \u001b[32m━━━━━━━━━━━━━━━━━━━━\u001b[0m\u001b[37m\u001b[0m \u001b[1m227s\u001b[0m 9ms/step - loss: 0.0403 - val_loss: 0.1552 - learning_rate: 0.0010\n",
      "Epoch 8/50\n",
      "\u001b[1m25848/25850\u001b[0m \u001b[32m━━━━━━━━━━━━━━━━━━━\u001b[0m\u001b[37m━\u001b[0m \u001b[1m0s\u001b[0m 8ms/step - loss: 0.0357\n",
      "Epoch 8: val_loss did not improve from 0.14537\n",
      "\u001b[1m25850/25850\u001b[0m \u001b[32m━━━━━━━━━━━━━━━━━━━━\u001b[0m\u001b[37m\u001b[0m \u001b[1m227s\u001b[0m 9ms/step - loss: 0.0357 - val_loss: 0.1587 - learning_rate: 5.0000e-04\n"
     ]
    }
   ],
   "source": [
    "# ✅ [3] 시계열 데이터 생성 -----------------------------------------------------------\n",
    "from tensorflow.keras.callbacks import ModelCheckpoint\n",
    "\n",
    "line = 4\n",
    "batch_size = 64\n",
    "save_path = '/content/drive/MyDrive/models/Line{}_batch{}.h5'.format(line, batch_size)\n",
    "\n",
    "# ✅ ModelCheckpoint 콜백 추가 ---------------------------------------\n",
    "checkpoint = ModelCheckpoint(\n",
    "    filepath=save_path,         # 저장할 모델 파일명\n",
    "    monitor='val_loss',               # 검증 손실 기준\n",
    "    save_best_only=True,              # 가장 성능 좋은 모델만 저장\n",
    "    save_weights_only=False,          # 전체 모델 저장 (구조 + 가중치)\n",
    "    verbose=1                         # 저장될 때마다 메시지 출력\n",
    ")\n",
    "\n",
    "\n",
    "# 과거 21시간 데이터를 기반으로 예측\n",
    "sequence_length = 21\n",
    "\n",
    "# TimeseriesGenerator를 통해 시계열 학습/검증셋 생성\n",
    "train_gen = TimeseriesGenerator(train_x, train_y, length=sequence_length, batch_size=batch_size)\n",
    "val_gen   = TimeseriesGenerator(val_x, val_y, length=sequence_length, batch_size=batch_size)\n",
    "\n",
    "# ✅ [4] LSTM 모델 정의 및 학습 --------------------------------------------------------\n",
    "\n",
    "# 딥러닝 모델 구조 정의\n",
    "Line4_model_batch64 = Sequential([\n",
    "    Input(shape=(sequence_length, train_x.shape[1])),  # (timesteps, features)\n",
    "    LSTM(64, return_sequences=True),   # 첫 번째 LSTM: 시퀀스 출력 유지\n",
    "    Dropout(0.2),\n",
    "    LSTM(32),                          # 두 번째 LSTM: 최종 출력만 반환\n",
    "    Dropout(0.2),\n",
    "    Dense(1)                           # 예측값 하나 출력 (혼잡도)\n",
    "])\n",
    "\n",
    "# 모델 컴파일\n",
    "Line4_model_batch64.compile(loss='mse', optimizer=Adam(0.001))\n",
    "\n",
    "# 콜백 설정\n",
    "early_stop = EarlyStopping(monitor='val_loss', patience=3, restore_best_weights=True)\n",
    "reduce_lr = ReduceLROnPlateau(monitor='val_loss', patience=2, factor=0.5)\n",
    "\n",
    "# 모델 학습\n",
    "history_Line4_batch64 = Line4_model_batch64.fit(train_gen, validation_data=val_gen, epochs=50, callbacks=[\n",
    "                                                                              early_stop,\n",
    "                                                                              reduce_lr\n",
    "                                                                            ,checkpoint])"
   ]
  },
  {
   "cell_type": "code",
   "execution_count": 24,
   "id": "47nBFZk1Yre-",
   "metadata": {
    "colab": {
     "base_uri": "https://localhost:8080/",
     "height": 487
    },
    "executionInfo": {
     "elapsed": 275,
     "status": "ok",
     "timestamp": 1749095321847,
     "user": {
      "displayName": "전은진",
      "userId": "09881883516805701170"
     },
     "user_tz": -540
    },
    "id": "47nBFZk1Yre-",
    "outputId": "1bc0bea5-720f-48b3-d5eb-b608fc11cd33"
   },
   "outputs": [
    {
     "data": {
      "image/png": "[encoded data removed]",
      "text/plain": [
       "<Figure size 1000x500 with 1 Axes>"
      ]
     },
     "metadata": {},
     "output_type": "display_data"
    }
   ],
   "source": [
    "# 📊 학습 및 검증 손실 시각화\n",
    "plt.figure(figsize=(10, 5))\n",
    "plt.plot(history_Line4_batch64.history['loss'], label='Train Loss')\n",
    "plt.plot(history_Line4_batch64.history['val_loss'], label='Validation Loss')\n",
    "plt.title('Line4 / Batch 64 - Training & Validation Loss')\n",
    "plt.xlabel('Epoch')\n",
    "plt.ylabel('Loss (MSE)')\n",
    "plt.legend()\n",
    "plt.grid(True)\n",
    "plt.show()"
   ]
  },
  {
   "cell_type": "code",
   "execution_count": 25,
   "id": "8cHNaImLYre-",
   "metadata": {
    "colab": {
     "base_uri": "https://localhost:8080/"
    },
    "executionInfo": {
     "elapsed": 1469737,
     "status": "ok",
     "timestamp": 1749096791591,
     "user": {
      "displayName": "전은진",
      "userId": "09881883516805701170"
     },
     "user_tz": -540
    },
    "id": "8cHNaImLYre-",
    "outputId": "ac7e6d8b-a262-4184-8278-63ed642e368f",
    "scrolled": true
   },
   "outputs": [
    {
     "name": "stdout",
     "output_type": "stream",
     "text": [
      "Epoch 1/50\n",
      "\u001b[1m12925/12925\u001b[0m \u001b[32m━━━━━━━━━━━━━━━━━━━━\u001b[0m\u001b[37m\u001b[0m \u001b[1m0s\u001b[0m 9ms/step - loss: 0.3034\n",
      "Epoch 1: val_loss improved from inf to 0.21927, saving model to /content/drive/MyDrive/models/Line4_batch128.h5\n"
     ]
    },
    {
     "name": "stderr",
     "output_type": "stream",
     "text": [
      "WARNING:absl:You are saving your model as an HDF5 file via `model.save()` or `keras.saving.save_model(model)`. This file format is considered legacy. We recommend using instead the native Keras format, e.g. `model.save('my_model.keras')` or `keras.saving.save_model(model, 'my_model.keras')`. \n"
     ]
    },
    {
     "name": "stdout",
     "output_type": "stream",
     "text": [
      "\b\b\b\b\b\b\b\b\b\b\b\b\b\b\b\b\b\b\b\b\b\b\b\b\b\b\b\b\b\b\b\b\b\b\b\b\b\b\b\b\b\b\b\b\b\b\b\b\b\b\b\b\b\b\b\b\b\b\b\r",
      "\u001b[1m12925/12925\u001b[0m \u001b[32m━━━━━━━━━━━━━━━━━━━━\u001b[0m\u001b[37m\u001b[0m \u001b[1m134s\u001b[0m 10ms/step - loss: 0.3034 - val_loss: 0.2193 - learning_rate: 0.0010\n",
      "Epoch 2/50\n",
      "\u001b[1m12920/12925\u001b[0m \u001b[32m━━━━━━━━━━━━━━━━━━━\u001b[0m\u001b[37m━\u001b[0m \u001b[1m0s\u001b[0m 9ms/step - loss: 0.0829\n",
      "Epoch 2: val_loss improved from 0.21927 to 0.20539, saving model to /content/drive/MyDrive/models/Line4_batch128.h5\n"
     ]
    },
    {
     "name": "stderr",
     "output_type": "stream",
     "text": [
      "WARNING:absl:You are saving your model as an HDF5 file via `model.save()` or `keras.saving.save_model(model)`. This file format is considered legacy. We recommend using instead the native Keras format, e.g. `model.save('my_model.keras')` or `keras.saving.save_model(model, 'my_model.keras')`. \n"
     ]
    },
    {
     "name": "stdout",
     "output_type": "stream",
     "text": [
      "\b\b\b\b\b\b\b\b\b\b\b\b\b\b\b\b\b\b\b\b\b\b\b\b\b\b\b\b\b\b\b\b\b\b\b\b\b\b\b\b\b\b\b\b\b\b\b\b\b\b\b\b\b\b\b\b\b\b\b\r",
      "\u001b[1m12925/12925\u001b[0m \u001b[32m━━━━━━━━━━━━━━━━━━━━\u001b[0m\u001b[37m\u001b[0m \u001b[1m133s\u001b[0m 10ms/step - loss: 0.0829 - val_loss: 0.2054 - learning_rate: 0.0010\n",
      "Epoch 3/50\n",
      "\u001b[1m12924/12925\u001b[0m \u001b[32m━━━━━━━━━━━━━━━━━━━\u001b[0m\u001b[37m━\u001b[0m \u001b[1m0s\u001b[0m 9ms/step - loss: 0.0678\n",
      "Epoch 3: val_loss improved from 0.20539 to 0.13993, saving model to /content/drive/MyDrive/models/Line4_batch128.h5\n"
     ]
    },
    {
     "name": "stderr",
     "output_type": "stream",
     "text": [
      "WARNING:absl:You are saving your model as an HDF5 file via `model.save()` or `keras.saving.save_model(model)`. This file format is considered legacy. We recommend using instead the native Keras format, e.g. `model.save('my_model.keras')` or `keras.saving.save_model(model, 'my_model.keras')`. \n"
     ]
    },
    {
     "name": "stdout",
     "output_type": "stream",
     "text": [
      "\b\b\b\b\b\b\b\b\b\b\b\b\b\b\b\b\b\b\b\b\b\b\b\b\b\b\b\b\b\b\b\b\b\b\b\b\b\b\b\b\b\b\b\b\b\b\b\b\b\b\b\b\b\b\b\b\b\b\b\r",
      "\u001b[1m12925/12925\u001b[0m \u001b[32m━━━━━━━━━━━━━━━━━━━━\u001b[0m\u001b[37m\u001b[0m \u001b[1m134s\u001b[0m 10ms/step - loss: 0.0678 - val_loss: 0.1399 - learning_rate: 0.0010\n",
      "Epoch 4/50\n",
      "\u001b[1m12923/12925\u001b[0m \u001b[32m━━━━━━━━━━━━━━━━━━━\u001b[0m\u001b[37m━\u001b[0m \u001b[1m0s\u001b[0m 9ms/step - loss: 0.0576\n",
      "Epoch 4: val_loss improved from 0.13993 to 0.12696, saving model to /content/drive/MyDrive/models/Line4_batch128.h5\n"
     ]
    },
    {
     "name": "stderr",
     "output_type": "stream",
     "text": [
      "WARNING:absl:You are saving your model as an HDF5 file via `model.save()` or `keras.saving.save_model(model)`. This file format is considered legacy. We recommend using instead the native Keras format, e.g. `model.save('my_model.keras')` or `keras.saving.save_model(model, 'my_model.keras')`. \n"
     ]
    },
    {
     "name": "stdout",
     "output_type": "stream",
     "text": [
      "\b\b\b\b\b\b\b\b\b\b\b\b\b\b\b\b\b\b\b\b\b\b\b\b\b\b\b\b\b\b\b\b\b\b\b\b\b\b\b\b\b\b\b\b\b\b\b\b\b\b\b\b\b\b\b\b\b\b\b\r",
      "\u001b[1m12925/12925\u001b[0m \u001b[32m━━━━━━━━━━━━━━━━━━━━\u001b[0m\u001b[37m\u001b[0m \u001b[1m134s\u001b[0m 10ms/step - loss: 0.0576 - val_loss: 0.1270 - learning_rate: 0.0010\n",
      "Epoch 5/50\n",
      "\u001b[1m12924/12925\u001b[0m \u001b[32m━━━━━━━━━━━━━━━━━━━\u001b[0m\u001b[37m━\u001b[0m \u001b[1m0s\u001b[0m 9ms/step - loss: 0.0515\n",
      "Epoch 5: val_loss did not improve from 0.12696\n",
      "\u001b[1m12925/12925\u001b[0m \u001b[32m━━━━━━━━━━━━━━━━━━━━\u001b[0m\u001b[37m\u001b[0m \u001b[1m133s\u001b[0m 10ms/step - loss: 0.0515 - val_loss: 0.1452 - learning_rate: 0.0010\n",
      "Epoch 6/50\n",
      "\u001b[1m12921/12925\u001b[0m \u001b[32m━━━━━━━━━━━━━━━━━━━\u001b[0m\u001b[37m━\u001b[0m \u001b[1m0s\u001b[0m 9ms/step - loss: 0.0475\n",
      "Epoch 6: val_loss improved from 0.12696 to 0.12433, saving model to /content/drive/MyDrive/models/Line4_batch128.h5\n"
     ]
    },
    {
     "name": "stderr",
     "output_type": "stream",
     "text": [
      "WARNING:absl:You are saving your model as an HDF5 file via `model.save()` or `keras.saving.save_model(model)`. This file format is considered legacy. We recommend using instead the native Keras format, e.g. `model.save('my_model.keras')` or `keras.saving.save_model(model, 'my_model.keras')`. \n"
     ]
    },
    {
     "name": "stdout",
     "output_type": "stream",
     "text": [
      "\b\b\b\b\b\b\b\b\b\b\b\b\b\b\b\b\b\b\b\b\b\b\b\b\b\b\b\b\b\b\b\b\b\b\b\b\b\b\b\b\b\b\b\b\b\b\b\b\b\b\b\b\b\b\b\b\b\b\b\r",
      "\u001b[1m12925/12925\u001b[0m \u001b[32m━━━━━━━━━━━━━━━━━━━━\u001b[0m\u001b[37m\u001b[0m \u001b[1m135s\u001b[0m 10ms/step - loss: 0.0475 - val_loss: 0.1243 - learning_rate: 0.0010\n",
      "Epoch 7/50\n",
      "\u001b[1m12922/12925\u001b[0m \u001b[32m━━━━━━━━━━━━━━━━━━━\u001b[0m\u001b[37m━\u001b[0m \u001b[1m0s\u001b[0m 9ms/step - loss: 0.0450\n",
      "Epoch 7: val_loss did not improve from 0.12433\n",
      "\u001b[1m12925/12925\u001b[0m \u001b[32m━━━━━━━━━━━━━━━━━━━━\u001b[0m\u001b[37m\u001b[0m \u001b[1m133s\u001b[0m 10ms/step - loss: 0.0450 - val_loss: 0.1344 - learning_rate: 0.0010\n",
      "Epoch 8/50\n",
      "\u001b[1m12921/12925\u001b[0m \u001b[32m━━━━━━━━━━━━━━━━━━━\u001b[0m\u001b[37m━\u001b[0m \u001b[1m0s\u001b[0m 9ms/step - loss: 0.0435\n",
      "Epoch 8: val_loss improved from 0.12433 to 0.10581, saving model to /content/drive/MyDrive/models/Line4_batch128.h5\n"
     ]
    },
    {
     "name": "stderr",
     "output_type": "stream",
     "text": [
      "WARNING:absl:You are saving your model as an HDF5 file via `model.save()` or `keras.saving.save_model(model)`. This file format is considered legacy. We recommend using instead the native Keras format, e.g. `model.save('my_model.keras')` or `keras.saving.save_model(model, 'my_model.keras')`. \n"
     ]
    },
    {
     "name": "stdout",
     "output_type": "stream",
     "text": [
      "\b\b\b\b\b\b\b\b\b\b\b\b\b\b\b\b\b\b\b\b\b\b\b\b\b\b\b\b\b\b\b\b\b\b\b\b\b\b\b\b\b\b\b\b\b\b\b\b\b\b\b\b\b\b\b\b\b\b\b\r",
      "\u001b[1m12925/12925\u001b[0m \u001b[32m━━━━━━━━━━━━━━━━━━━━\u001b[0m\u001b[37m\u001b[0m \u001b[1m135s\u001b[0m 10ms/step - loss: 0.0435 - val_loss: 0.1058 - learning_rate: 0.0010\n",
      "Epoch 9/50\n",
      "\u001b[1m12920/12925\u001b[0m \u001b[32m━━━━━━━━━━━━━━━━━━━\u001b[0m\u001b[37m━\u001b[0m \u001b[1m0s\u001b[0m 9ms/step - loss: 0.0396\n",
      "Epoch 9: val_loss did not improve from 0.10581\n",
      "\u001b[1m12925/12925\u001b[0m \u001b[32m━━━━━━━━━━━━━━━━━━━━\u001b[0m\u001b[37m\u001b[0m \u001b[1m133s\u001b[0m 10ms/step - loss: 0.0396 - val_loss: 0.1242 - learning_rate: 0.0010\n",
      "Epoch 10/50\n",
      "\u001b[1m12925/12925\u001b[0m \u001b[32m━━━━━━━━━━━━━━━━━━━━\u001b[0m\u001b[37m\u001b[0m \u001b[1m0s\u001b[0m 9ms/step - loss: 0.0391\n",
      "Epoch 10: val_loss did not improve from 0.10581\n",
      "\u001b[1m12925/12925\u001b[0m \u001b[32m━━━━━━━━━━━━━━━━━━━━\u001b[0m\u001b[37m\u001b[0m \u001b[1m134s\u001b[0m 10ms/step - loss: 0.0391 - val_loss: 0.1201 - learning_rate: 0.0010\n",
      "Epoch 11/50\n",
      "\u001b[1m12925/12925\u001b[0m \u001b[32m━━━━━━━━━━━━━━━━━━━━\u001b[0m\u001b[37m\u001b[0m \u001b[1m0s\u001b[0m 9ms/step - loss: 0.0350\n",
      "Epoch 11: val_loss did not improve from 0.10581\n",
      "\u001b[1m12925/12925\u001b[0m \u001b[32m━━━━━━━━━━━━━━━━━━━━\u001b[0m\u001b[37m\u001b[0m \u001b[1m133s\u001b[0m 10ms/step - loss: 0.0350 - val_loss: 0.1220 - learning_rate: 5.0000e-04\n"
     ]
    }
   ],
   "source": [
    "# ✅ [3] 시계열 데이터 생성 -----------------------------------------------------------\n",
    "from tensorflow.keras.callbacks import ModelCheckpoint\n",
    "\n",
    "line = 4\n",
    "batch_size = 128\n",
    "save_path = '/content/drive/MyDrive/models/Line{}_batch{}.h5'.format(line, batch_size)\n",
    "\n",
    "# ✅ ModelCheckpoint 콜백 추가 ---------------------------------------\n",
    "checkpoint = ModelCheckpoint(\n",
    "    filepath=save_path,         # 저장할 모델 파일명\n",
    "    monitor='val_loss',               # 검증 손실 기준\n",
    "    save_best_only=True,              # 가장 성능 좋은 모델만 저장\n",
    "    save_weights_only=False,          # 전체 모델 저장 (구조 + 가중치)\n",
    "    verbose=1                         # 저장될 때마다 메시지 출력\n",
    ")\n",
    "\n",
    "\n",
    "# 과거 21시간 데이터를 기반으로 예측\n",
    "sequence_length = 21\n",
    "\n",
    "# TimeseriesGenerator를 통해 시계열 학습/검증셋 생성\n",
    "train_gen = TimeseriesGenerator(train_x, train_y, length=sequence_length, batch_size=batch_size)\n",
    "val_gen   = TimeseriesGenerator(val_x, val_y, length=sequence_length, batch_size=batch_size)\n",
    "\n",
    "# ✅ [4] LSTM 모델 정의 및 학습 --------------------------------------------------------\n",
    "\n",
    "# 딥러닝 모델 구조 정의\n",
    "Line4_model_batch128 = Sequential([\n",
    "    Input(shape=(sequence_length, train_x.shape[1])),  # (timesteps, features)\n",
    "    LSTM(64, return_sequences=True),   # 첫 번째 LSTM: 시퀀스 출력 유지\n",
    "    Dropout(0.2),\n",
    "    LSTM(32),                          # 두 번째 LSTM: 최종 출력만 반환\n",
    "    Dropout(0.2),\n",
    "    Dense(1)                           # 예측값 하나 출력 (혼잡도)\n",
    "])\n",
    "\n",
    "# 모델 컴파일\n",
    "Line4_model_batch128.compile(loss='mse', optimizer=Adam(0.001))\n",
    "\n",
    "# 콜백 설정\n",
    "early_stop = EarlyStopping(monitor='val_loss', patience=3, restore_best_weights=True)\n",
    "reduce_lr = ReduceLROnPlateau(monitor='val_loss', patience=2, factor=0.5)\n",
    "\n",
    "# 모델 학습\n",
    "history_Line4_batch128 = Line4_model_batch128.fit(train_gen, validation_data=val_gen, epochs=50, callbacks=[\n",
    "                                                                              early_stop,\n",
    "                                                                              reduce_lr\n",
    "                                                                            ,checkpoint])"
   ]
  },
  {
   "cell_type": "code",
   "execution_count": 26,
   "id": "pvb_1lBXYre-",
   "metadata": {
    "colab": {
     "base_uri": "https://localhost:8080/",
     "height": 487
    },
    "executionInfo": {
     "elapsed": 277,
     "status": "ok",
     "timestamp": 1749096791916,
     "user": {
      "displayName": "전은진",
      "userId": "09881883516805701170"
     },
     "user_tz": -540
    },
    "id": "pvb_1lBXYre-",
    "outputId": "e17423c8-8e38-4c28-8777-b6ef03ded82b",
    "scrolled": true
   },
   "outputs": [
    {
     "data": {
      "image/png": "[encoded data removed]",
      "text/plain": [
       "<Figure size 1000x500 with 1 Axes>"
      ]
     },
     "metadata": {},
     "output_type": "display_data"
    }
   ],
   "source": [
    "# 📊 학습 및 검증 손실 시각화\n",
    "plt.figure(figsize=(10, 5))\n",
    "plt.plot(history_Line4_batch128.history['loss'], label='Train Loss')\n",
    "plt.plot(history_Line4_batch128.history['val_loss'], label='Validation Loss')\n",
    "plt.title('Line4 / Batch 128 - Training & Validation Loss')\n",
    "plt.xlabel('Epoch')\n",
    "plt.ylabel('Loss (MSE)')\n",
    "plt.legend()\n",
    "plt.grid(True)\n",
    "plt.show()"
   ]
  },
  {
   "cell_type": "code",
   "execution_count": 27,
   "id": "TCOZHXRFYre-",
   "metadata": {
    "colab": {
     "base_uri": "https://localhost:8080/"
    },
    "executionInfo": {
     "elapsed": 730147,
     "status": "ok",
     "timestamp": 1749097522069,
     "user": {
      "displayName": "전은진",
      "userId": "09881883516805701170"
     },
     "user_tz": -540
    },
    "id": "TCOZHXRFYre-",
    "outputId": "8873e9ec-bff5-48f4-cd30-1c839622a055"
   },
   "outputs": [
    {
     "name": "stdout",
     "output_type": "stream",
     "text": [
      "Epoch 1/50\n",
      "\u001b[1m6461/6463\u001b[0m \u001b[32m━━━━━━━━━━━━━━━━━━━\u001b[0m\u001b[37m━\u001b[0m \u001b[1m0s\u001b[0m 12ms/step - loss: 0.3862\n",
      "Epoch 1: val_loss improved from inf to 0.25168, saving model to /content/drive/MyDrive/models/Line4_batch256.h5\n"
     ]
    },
    {
     "name": "stderr",
     "output_type": "stream",
     "text": [
      "WARNING:absl:You are saving your model as an HDF5 file via `model.save()` or `keras.saving.save_model(model)`. This file format is considered legacy. We recommend using instead the native Keras format, e.g. `model.save('my_model.keras')` or `keras.saving.save_model(model, 'my_model.keras')`. \n"
     ]
    },
    {
     "name": "stdout",
     "output_type": "stream",
     "text": [
      "\b\b\b\b\b\b\b\b\b\b\b\b\b\b\b\b\b\b\b\b\b\b\b\b\b\b\b\b\b\b\b\b\b\b\b\b\b\b\b\b\b\b\b\b\b\b\b\b\b\b\b\b\b\b\b\b\b\b\r",
      "\u001b[1m6463/6463\u001b[0m \u001b[32m━━━━━━━━━━━━━━━━━━━━\u001b[0m\u001b[37m\u001b[0m \u001b[1m93s\u001b[0m 14ms/step - loss: 0.3861 - val_loss: 0.2517 - learning_rate: 0.0010\n",
      "Epoch 2/50\n",
      "\u001b[1m6459/6463\u001b[0m \u001b[32m━━━━━━━━━━━━━━━━━━━\u001b[0m\u001b[37m━\u001b[0m \u001b[1m0s\u001b[0m 12ms/step - loss: 0.1139\n",
      "Epoch 2: val_loss did not improve from 0.25168\n",
      "\u001b[1m6463/6463\u001b[0m \u001b[32m━━━━━━━━━━━━━━━━━━━━\u001b[0m\u001b[37m\u001b[0m \u001b[1m92s\u001b[0m 14ms/step - loss: 0.1139 - val_loss: 0.2519 - learning_rate: 0.0010\n",
      "Epoch 3/50\n",
      "\u001b[1m6463/6463\u001b[0m \u001b[32m━━━━━━━━━━━━━━━━━━━━\u001b[0m\u001b[37m\u001b[0m \u001b[1m0s\u001b[0m 12ms/step - loss: 0.0872\n",
      "Epoch 3: val_loss improved from 0.25168 to 0.23313, saving model to /content/drive/MyDrive/models/Line4_batch256.h5\n"
     ]
    },
    {
     "name": "stderr",
     "output_type": "stream",
     "text": [
      "WARNING:absl:You are saving your model as an HDF5 file via `model.save()` or `keras.saving.save_model(model)`. This file format is considered legacy. We recommend using instead the native Keras format, e.g. `model.save('my_model.keras')` or `keras.saving.save_model(model, 'my_model.keras')`. \n"
     ]
    },
    {
     "name": "stdout",
     "output_type": "stream",
     "text": [
      "\b\b\b\b\b\b\b\b\b\b\b\b\b\b\b\b\b\b\b\b\b\b\b\b\b\b\b\b\b\b\b\b\b\b\b\b\b\b\b\b\b\b\b\b\b\b\b\b\b\b\b\b\b\b\b\b\b\b\r",
      "\u001b[1m6463/6463\u001b[0m \u001b[32m━━━━━━━━━━━━━━━━━━━━\u001b[0m\u001b[37m\u001b[0m \u001b[1m93s\u001b[0m 14ms/step - loss: 0.0872 - val_loss: 0.2331 - learning_rate: 0.0010\n",
      "Epoch 4/50\n",
      "\u001b[1m6461/6463\u001b[0m \u001b[32m━━━━━━━━━━━━━━━━━━━\u001b[0m\u001b[37m━\u001b[0m \u001b[1m0s\u001b[0m 11ms/step - loss: 0.0719\n",
      "Epoch 4: val_loss improved from 0.23313 to 0.22085, saving model to /content/drive/MyDrive/models/Line4_batch256.h5\n"
     ]
    },
    {
     "name": "stderr",
     "output_type": "stream",
     "text": [
      "WARNING:absl:You are saving your model as an HDF5 file via `model.save()` or `keras.saving.save_model(model)`. This file format is considered legacy. We recommend using instead the native Keras format, e.g. `model.save('my_model.keras')` or `keras.saving.save_model(model, 'my_model.keras')`. \n"
     ]
    },
    {
     "name": "stdout",
     "output_type": "stream",
     "text": [
      "\b\b\b\b\b\b\b\b\b\b\b\b\b\b\b\b\b\b\b\b\b\b\b\b\b\b\b\b\b\b\b\b\b\b\b\b\b\b\b\b\b\b\b\b\b\b\b\b\b\b\b\b\b\b\b\b\b\b\r",
      "\u001b[1m6463/6463\u001b[0m \u001b[32m━━━━━━━━━━━━━━━━━━━━\u001b[0m\u001b[37m\u001b[0m \u001b[1m90s\u001b[0m 14ms/step - loss: 0.0719 - val_loss: 0.2209 - learning_rate: 0.0010\n",
      "Epoch 5/50\n",
      "\u001b[1m6461/6463\u001b[0m \u001b[32m━━━━━━━━━━━━━━━━━━━\u001b[0m\u001b[37m━\u001b[0m \u001b[1m0s\u001b[0m 12ms/step - loss: 0.0638\n",
      "Epoch 5: val_loss improved from 0.22085 to 0.17139, saving model to /content/drive/MyDrive/models/Line4_batch256.h5\n"
     ]
    },
    {
     "name": "stderr",
     "output_type": "stream",
     "text": [
      "WARNING:absl:You are saving your model as an HDF5 file via `model.save()` or `keras.saving.save_model(model)`. This file format is considered legacy. We recommend using instead the native Keras format, e.g. `model.save('my_model.keras')` or `keras.saving.save_model(model, 'my_model.keras')`. \n"
     ]
    },
    {
     "name": "stdout",
     "output_type": "stream",
     "text": [
      "\b\b\b\b\b\b\b\b\b\b\b\b\b\b\b\b\b\b\b\b\b\b\b\b\b\b\b\b\b\b\b\b\b\b\b\b\b\b\b\b\b\b\b\b\b\b\b\b\b\b\b\b\b\b\b\b\b\b\r",
      "\u001b[1m6463/6463\u001b[0m \u001b[32m━━━━━━━━━━━━━━━━━━━━\u001b[0m\u001b[37m\u001b[0m \u001b[1m91s\u001b[0m 14ms/step - loss: 0.0638 - val_loss: 0.1714 - learning_rate: 0.0010\n",
      "Epoch 6/50\n",
      "\u001b[1m6461/6463\u001b[0m \u001b[32m━━━━━━━━━━━━━━━━━━━\u001b[0m\u001b[37m━\u001b[0m \u001b[1m0s\u001b[0m 12ms/step - loss: 0.0580\n",
      "Epoch 6: val_loss did not improve from 0.17139\n",
      "\u001b[1m6463/6463\u001b[0m \u001b[32m━━━━━━━━━━━━━━━━━━━━\u001b[0m\u001b[37m\u001b[0m \u001b[1m90s\u001b[0m 14ms/step - loss: 0.0580 - val_loss: 0.2139 - learning_rate: 0.0010\n",
      "Epoch 7/50\n",
      "\u001b[1m6461/6463\u001b[0m \u001b[32m━━━━━━━━━━━━━━━━━━━\u001b[0m\u001b[37m━\u001b[0m \u001b[1m0s\u001b[0m 12ms/step - loss: 0.0549\n",
      "Epoch 7: val_loss did not improve from 0.17139\n",
      "\u001b[1m6463/6463\u001b[0m \u001b[32m━━━━━━━━━━━━━━━━━━━━\u001b[0m\u001b[37m\u001b[0m \u001b[1m91s\u001b[0m 14ms/step - loss: 0.0549 - val_loss: 0.1940 - learning_rate: 0.0010\n",
      "Epoch 8/50\n",
      "\u001b[1m6459/6463\u001b[0m \u001b[32m━━━━━━━━━━━━━━━━━━━\u001b[0m\u001b[37m━\u001b[0m \u001b[1m0s\u001b[0m 12ms/step - loss: 0.0463\n",
      "Epoch 8: val_loss did not improve from 0.17139\n",
      "\u001b[1m6463/6463\u001b[0m \u001b[32m━━━━━━━━━━━━━━━━━━━━\u001b[0m\u001b[37m\u001b[0m \u001b[1m90s\u001b[0m 14ms/step - loss: 0.0463 - val_loss: 0.1842 - learning_rate: 5.0000e-04\n"
     ]
    }
   ],
   "source": [
    "# ✅ [3] 시계열 데이터 생성 -----------------------------------------------------------\n",
    "from tensorflow.keras.callbacks import ModelCheckpoint\n",
    "\n",
    "line = 4\n",
    "batch_size = 256\n",
    "save_path = '/content/drive/MyDrive/models/Line{}_batch{}.h5'.format(line, batch_size)\n",
    "\n",
    "# ✅ ModelCheckpoint 콜백 추가 ---------------------------------------\n",
    "checkpoint = ModelCheckpoint(\n",
    "    filepath=save_path,         # 저장할 모델 파일명\n",
    "    monitor='val_loss',               # 검증 손실 기준\n",
    "    save_best_only=True,              # 가장 성능 좋은 모델만 저장\n",
    "    save_weights_only=False,          # 전체 모델 저장 (구조 + 가중치)\n",
    "    verbose=1                         # 저장될 때마다 메시지 출력\n",
    ")\n",
    "\n",
    "\n",
    "# 과거 21시간 데이터를 기반으로 예측\n",
    "sequence_length = 21\n",
    "\n",
    "# TimeseriesGenerator를 통해 시계열 학습/검증셋 생성\n",
    "train_gen = TimeseriesGenerator(train_x, train_y, length=sequence_length, batch_size=batch_size)\n",
    "val_gen   = TimeseriesGenerator(val_x, val_y, length=sequence_length, batch_size=batch_size)\n",
    "\n",
    "# ✅ [4] LSTM 모델 정의 및 학습 --------------------------------------------------------\n",
    "\n",
    "# 딥러닝 모델 구조 정의\n",
    "Line4_model_batch256 = Sequential([\n",
    "    Input(shape=(sequence_length, train_x.shape[1])),  # (timesteps, features)\n",
    "    LSTM(64, return_sequences=True),   # 첫 번째 LSTM: 시퀀스 출력 유지\n",
    "    Dropout(0.2),\n",
    "    LSTM(32),                          # 두 번째 LSTM: 최종 출력만 반환\n",
    "    Dropout(0.2),\n",
    "    Dense(1)                           # 예측값 하나 출력 (혼잡도)\n",
    "])\n",
    "\n",
    "# 모델 컴파일\n",
    "Line4_model_batch256.compile(loss='mse', optimizer=Adam(0.001))\n",
    "\n",
    "# 콜백 설정\n",
    "early_stop = EarlyStopping(monitor='val_loss', patience=3, restore_best_weights=True)\n",
    "reduce_lr = ReduceLROnPlateau(monitor='val_loss', patience=2, factor=0.5)\n",
    "\n",
    "# 모델 학습\n",
    "history_Line4_batch256 = Line4_model_batch256.fit(train_gen, validation_data=val_gen, epochs=50, callbacks=[\n",
    "                                                                              early_stop,\n",
    "                                                                              reduce_lr\n",
    "                                                                            ,checkpoint])"
   ]
  },
  {
   "cell_type": "code",
   "execution_count": 28,
   "id": "nmbbV-qEYre-",
   "metadata": {
    "colab": {
     "base_uri": "https://localhost:8080/",
     "height": 487
    },
    "executionInfo": {
     "elapsed": 275,
     "status": "ok",
     "timestamp": 1749097522353,
     "user": {
      "displayName": "전은진",
      "userId": "09881883516805701170"
     },
     "user_tz": -540
    },
    "id": "nmbbV-qEYre-",
    "outputId": "e7a73caf-0877-4f6e-cc11-3acb74cecc06"
   },
   "outputs": [
    {
     "data": {
      "image/png": "[encoded data removed]",
      "text/plain": [
       "<Figure size 1000x500 with 1 Axes>"
      ]
     },
     "metadata": {},
     "output_type": "display_data"
    }
   ],
   "source": [
    "# 📊 학습 및 검증 손실 시각화\n",
    "plt.figure(figsize=(10, 5))\n",
    "plt.plot(history_Line4_batch256.history['loss'], label='Train Loss')\n",
    "plt.plot(history_Line4_batch256.history['val_loss'], label='Validation Loss')\n",
    "plt.title('Line4 / Batch 256 - Training & Validation Loss')\n",
    "plt.xlabel('Epoch')\n",
    "plt.ylabel('Loss (MSE)')\n",
    "plt.legend()\n",
    "plt.grid(True)\n",
    "plt.show()"
   ]
  },
  {
   "cell_type": "code",
   "execution_count": 29,
   "id": "S2OEhmUAYre_",
   "metadata": {
    "colab": {
     "base_uri": "https://localhost:8080/"
    },
    "executionInfo": {
     "elapsed": 80022,
     "status": "ok",
     "timestamp": 1749097602382,
     "user": {
      "displayName": "전은진",
      "userId": "09881883516805701170"
     },
     "user_tz": -540
    },
    "id": "S2OEhmUAYre_",
    "outputId": "47201e26-1a43-4670-c114-3cc6b9168ddf"
   },
   "outputs": [
    {
     "name": "stdout",
     "output_type": "stream",
     "text": [
      "\u001b[1m1616/1616\u001b[0m \u001b[32m━━━━━━━━━━━━━━━━━━━━\u001b[0m\u001b[37m\u001b[0m \u001b[1m17s\u001b[0m 11ms/step\n",
      "\u001b[1m1616/1616\u001b[0m \u001b[32m━━━━━━━━━━━━━━━━━━━━\u001b[0m\u001b[37m\u001b[0m \u001b[1m16s\u001b[0m 10ms/step\n",
      "\u001b[1m1616/1616\u001b[0m \u001b[32m━━━━━━━━━━━━━━━━━━━━\u001b[0m\u001b[37m\u001b[0m \u001b[1m17s\u001b[0m 10ms/step\n",
      "\u001b[1m1616/1616\u001b[0m \u001b[32m━━━━━━━━━━━━━━━━━━━━\u001b[0m\u001b[37m\u001b[0m \u001b[1m17s\u001b[0m 10ms/step\n"
     ]
    }
   ],
   "source": [
    "# ✅ [5] 예측 및 평가 ---------------------------------------------------------------\n",
    "from tensorflow.keras.models import load_model\n",
    "loaded_model_32 = load_model('/content/drive/MyDrive/models/Line4_batch32.h5', compile=False)\n",
    "loaded_model_32.compile(loss='mse', optimizer=Adam(0.001))\n",
    "\n",
    "loaded_model_64 = load_model('/content/drive/MyDrive/models/Line4_batch64.h5', compile=False)\n",
    "loaded_model_64.compile(loss='mse', optimizer=Adam(0.001))\n",
    "\n",
    "loaded_model_128 = load_model('/content/drive/MyDrive/models/Line4_batch128.h5', compile=False)\n",
    "loaded_model_128.compile(loss='mse', optimizer=Adam(0.001))\n",
    "\n",
    "loaded_model_256 = load_model('/content/drive/MyDrive/models/Line4_batch256.h5', compile=False)\n",
    "loaded_model_256.compile(loss='mse', optimizer=Adam(0.001))\n",
    "\n",
    "# 검증셋에 대해 예측 수행\n",
    "pred_scaled_32 = loaded_model_32.predict(val_gen)\n",
    "pred_scaled_64 = loaded_model_64.predict(val_gen)\n",
    "pred_scaled_128 = loaded_model_128.predict(val_gen)\n",
    "pred_scaled_256 = loaded_model_256.predict(val_gen)\n",
    "\n",
    "# 정규화 해제 (역정규화) → 실제 혼잡도 단위로 복원\n",
    "pred_32 = ss.inverse_transform(pred_scaled_32)\n",
    "pred_64 = ss.inverse_transform(pred_scaled_64)\n",
    "pred_128 = ss.inverse_transform(pred_scaled_128)\n",
    "pred_256 = ss.inverse_transform(pred_scaled_256)\n",
    "\n",
    "# 실제 y도 시계열 슬라이싱 기준에 맞게 자르기\n",
    "true = ss.inverse_transform(val_y[sequence_length:])"
   ]
  },
  {
   "cell_type": "code",
   "execution_count": 30,
   "id": "kZ4fNQr7Yre_",
   "metadata": {
    "colab": {
     "base_uri": "https://localhost:8080/"
    },
    "executionInfo": {
     "elapsed": 11,
     "status": "ok",
     "timestamp": 1749097602398,
     "user": {
      "displayName": "전은진",
      "userId": "09881883516805701170"
     },
     "user_tz": -540
    },
    "id": "kZ4fNQr7Yre_",
    "outputId": "ea1359ed-f9c2-4493-ed71-ceb61385e934"
   },
   "outputs": [
    {
     "name": "stdout",
     "output_type": "stream",
     "text": [
      "✅Line4 batch size = 32\n",
      " 검증 RMSE: 6.9579\n",
      " R² Score: 0.8795\n",
      "\n",
      "✅Line4 batch size = 64\n",
      " 검증 RMSE: 7.5969\n",
      " R² Score: 0.8564\n",
      "\n",
      "✅Line4 batch size = 128\n",
      " 검증 RMSE: 6.4813\n",
      " R² Score: 0.8955\n",
      "\n",
      "✅Line4 batch size = 256\n",
      " 검증 RMSE: 8.2487\n",
      " R² Score: 0.8307\n"
     ]
    }
   ],
   "source": [
    "# 평가 지표 계산\n",
    "from sklearn.metrics import mean_squared_error, r2_score\n",
    "import numpy as np\n",
    "\n",
    "# RMSE 계산 (squared=False는 MSE 계산에서만 유효한 인자임)\n",
    "rmse_32 = np.sqrt(mean_squared_error(true, pred_32))\n",
    "r2_32 = r2_score(true, pred_32)\n",
    "\n",
    "rmse_64 = np.sqrt(mean_squared_error(true, pred_64))\n",
    "r2_64 = r2_score(true, pred_64)\n",
    "\n",
    "rmse_128 = np.sqrt(mean_squared_error(true, pred_128))\n",
    "r2_128 = r2_score(true, pred_128)\n",
    "\n",
    "rmse_256 = np.sqrt(mean_squared_error(true, pred_256))\n",
    "r2_256 = r2_score(true, pred_256)\n",
    "\n",
    "# 결과 출력\n",
    "print('✅Line4 batch size = 32')\n",
    "print(f\" 검증 RMSE: {rmse_32:.4f}\")\n",
    "print(f\" R² Score: {r2_32:.4f}\")\n",
    "print()\n",
    "print('✅Line4 batch size = 64')\n",
    "print(f\" 검증 RMSE: {rmse_64:.4f}\")\n",
    "print(f\" R² Score: {r2_64:.4f}\")\n",
    "print()\n",
    "print('✅Line4 batch size = 128')\n",
    "print(f\" 검증 RMSE: {rmse_128:.4f}\")\n",
    "print(f\" R² Score: {r2_128:.4f}\")\n",
    "print()\n",
    "print('✅Line4 batch size = 256')\n",
    "print(f\" 검증 RMSE: {rmse_256:.4f}\")\n",
    "print(f\" R² Score: {r2_256:.4f}\")"
   ]
  }
 ],
 "metadata": {
  "accelerator": "GPU",
  "colab": {
   "collapsed_sections": [
    "ef2394a7-49dc-48a9-99f8-ea8fa76f770c",
    "1b1f38e7-e5d5-4863-b74f-62f740da9ff7",
    "b0deef6f-b9b3-4cae-ad87-8a11a657d351",
    "06f8eafa-447b-437c-8e72-1919721e40ed",
    "a5d903ca-a384-4f40-8879-7adcf6846b57",
    "50d7e86f-fb2c-4b75-9497-91eaa1a3c6b0",
    "xlKqAoC4Yq10",
    "im7XkqKHYq11",
    "cetTTOqIYre9",
    "rymPI-FIYre-",
    "6QDYsk5LYre-",
    "8i7ylQvtYre-"
   ],
   "gpuType": "L4",
   "machine_shape": "hm",
   "provenance": []
  },
  "kernelspec": {
   "display_name": "Python 3 (ipykernel)",
   "language": "python",
   "name": "python3"
  },
  "language_info": {
   "codemirror_mode": {
    "name": "ipython",
    "version": 3
   },
   "file_extension": ".py",
   "mimetype": "text/x-python",
   "name": "python",
   "nbconvert_exporter": "python",
   "pygments_lexer": "ipython3",
   "version": "3.12.7"
  }
 },
 "nbformat": 4,
 "nbformat_minor": 5
}
