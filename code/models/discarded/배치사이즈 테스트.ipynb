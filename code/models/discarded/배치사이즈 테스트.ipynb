{
 "cells": [
  {
   "cell_type": "code",
   "execution_count": null,
   "id": "e0556a30-7651-4238-b9bb-b331bbba1b40",
   "metadata": {
    "id": "e0556a30-7651-4238-b9bb-b331bbba1b40"
   },
   "outputs": [],
   "source": [
    "# 📦 라이브러리 불러오기\n",
    "import numpy as np\n",
    "import pandas as pd\n",
    "import matplotlib.pyplot as plt\n",
    "import seaborn as sns\n",
    "from sklearn.preprocessing import StandardScaler, MinMaxScaler, LabelEncoder\n",
    "from tensorflow.keras.models import Sequential\n",
    "from tensorflow.keras.layers import LSTM, Dense, Dropout, BatchNormalization, Input\n",
    "from tensorflow.keras.callbacks import ReduceLROnPlateau, EarlyStopping\n",
    "from tensorflow.keras.optimizers import Adam\n",
    "from sklearn.metrics import mean_squared_error, r2_score\n",
    "from tensorflow.keras.preprocessing.sequence import TimeseriesGenerator\n",
    "\n",
    "# 📁 데이터 불러오기\n",
    "df = pd.read_parquet('prepro_data.parquet')"
   ]
  },
  {
   "cell_type": "code",
   "execution_count": null,
   "id": "018857f9-3e9b-4826-b818-48662fcb8f2a",
   "metadata": {
    "id": "018857f9-3e9b-4826-b818-48662fcb8f2a",
    "outputId": "300a20c2-8e0b-47e4-ecfd-14cac603814a",
    "scrolled": true
   },
   "outputs": [
    {
     "name": "stdout",
     "output_type": "stream",
     "text": [
      "Epoch 28/50\n",
      "46718/46718 [==============================] - 698s 15ms/step - loss: 0.0247 - val_loss: 0.0404 - lr: 3.1250e-05\n",
      "Epoch 29/50\n",
      "46718/46718 [==============================] - 749s 16ms/step - loss: 0.0246 - val_loss: 0.0399 - lr: 3.1250e-05\n",
      "Epoch 30/50\n",
      "46718/46718 [==============================] - 726s 16ms/step - loss: 0.0246 - val_loss: 0.0417 - lr: 3.1250e-05\n",
      "Epoch 31/50\n",
      "46718/46718 [==============================] - 703s 15ms/step - loss: 0.0246 - val_loss: 0.0398 - lr: 3.1250e-05\n",
      "Epoch 32/50\n",
      "46718/46718 [==============================] - 705s 15ms/step - loss: 0.0246 - val_loss: 0.0398 - lr: 3.1250e-05\n",
      "Epoch 33/50\n",
      "46718/46718 [==============================] - 649s 14ms/step - loss: 0.0246 - val_loss: 0.0396 - lr: 3.1250e-05\n",
      "Epoch 34/50\n",
      "46718/46718 [==============================] - 649s 14ms/step - loss: 0.0246 - val_loss: 0.0402 - lr: 3.1250e-05\n",
      "Epoch 35/50\n",
      "46718/46718 [==============================] - 664s 14ms/step - loss: 0.0246 - val_loss: 0.0403 - lr: 3.1250e-05\n",
      "Epoch 36/50\n",
      "46718/46718 [==============================] - 665s 14ms/step - loss: 0.0244 - val_loss: 0.0400 - lr: 1.5625e-05\n"
     ]
    }
   ],
   "source": [
    "# 추가 학습 코드\n",
    "# history_additional = model.fit(\n",
    "#     train_gen,\n",
    "#     validation_data=val_gen,\n",
    "#     epochs=50,                 # 총 학습 epoch. 이미 14번 했으므로 여기선 15~30까지 실행됨\n",
    "#     initial_epoch=27,         # 14번째까지 학습했다면 여기서 이어서 시작\n",
    "#     callbacks=[early_stop, reduce_lr]\n",
    "# )"
   ]
  },
  {
   "cell_type": "markdown",
   "id": "ef2394a7-49dc-48a9-99f8-ea8fa76f770c",
   "metadata": {
    "id": "ef2394a7-49dc-48a9-99f8-ea8fa76f770c",
    "jp-MarkdownHeadingCollapsed": true
   },
   "source": [
    "# 1호선"
   ]
  },
  {
   "cell_type": "markdown",
   "id": "eiOCYpscWcYs",
   "metadata": {
    "id": "eiOCYpscWcYs",
    "jp-MarkdownHeadingCollapsed": true
   },
   "source": [
    "## 1호선 데이터 불러오기"
   ]
  },
  {
   "cell_type": "code",
   "execution_count": null,
   "id": "yYQ_6kVNPyVY",
   "metadata": {
    "id": "yYQ_6kVNPyVY"
   },
   "outputs": [],
   "source": [
    "df1 = df[df['호선'] == 1].copy()\n",
    "cols = ['연도', '호선','상하구분','AWS지점코드']\n",
    "for col in cols:\n",
    "    df1[col] = df1[col].astype('category')\n",
    "\n",
    "# 시 (0~23 기준)\n",
    "df1['시_sin'] = np.sin(2 * np.pi * df1['시'] / 24)\n",
    "df1['시_cos'] = np.cos(2 * np.pi * df1['시'] / 24)\n",
    "\n",
    "# 요일 (0~6 기준, 월~일)\n",
    "df1['요일_sin'] = np.sin(2 * np.pi * df1['요일'] / 7)\n",
    "df1['요일_cos'] = np.cos(2 * np.pi * df1['요일'] / 7)\n",
    "\n",
    "# 월, 일 (1~12, 1~31 기준)\n",
    "le = LabelEncoder()\n",
    "df['월'] = le.fit_transform(df['월'])\n",
    "df['일'] = le.fit_transform(df['일'])\n",
    "\n",
    "# 1. float64 → float32\n",
    "float_cols = df1.select_dtypes(include=['float64']).columns\n",
    "df1[float_cols] = df1[float_cols].astype('float32')\n",
    "\n",
    "# 2. int64 → int32\n",
    "int_cols = df1.select_dtypes(include=['int64']).columns\n",
    "df1[int_cols] = df1[int_cols].astype('int32')\n",
    "\n",
    "# 3. object(문자열) → category\n",
    "obj_cols = df1.select_dtypes(include=['object']).columns\n",
    "df1[obj_cols] = df1[obj_cols].astype('category')\n",
    "\n",
    "df1 = df1.drop(['시', '요일'], axis=1)\n",
    "df1.info()\n",
    "\n",
    "# ✅ [1] 피처 구성 및 전처리 --------------------------------------------------------\n",
    "\n",
    "# 🎯 타겟 변수 '혼잡도' 제거하여 X 생성\n",
    "X = df1.drop(['혼잡도', '시간'], axis=1)\n",
    "\n",
    "# 🔤 범주형 변수 원-핫 인코딩 (첫 번째 카테고리는 drop)\n",
    "o_h_e_x = pd.get_dummies(X, columns=['연도', '역명', '호선', '상하구분', 'AWS지점코드'], drop_first=True)\n",
    "\n",
    "# 🔢 X 정규화 (0~1 범위로 스케일링)\n",
    "mm = MinMaxScaler()\n",
    "mm_x = mm.fit_transform(o_h_e_x)\n",
    "\n",
    "# 🎯 y 정규화 (표준화: 평균 0, 표준편차 1)\n",
    "y = df1[['혼잡도']]  # 2D로 유지\n",
    "ss = StandardScaler()\n",
    "ss_y = ss.fit_transform(y)\n",
    "\n",
    "# ✅ [2] 시계열 학습/검증 데이터 분할 --------------------------------------------------\n",
    "\n",
    "# 전체의 80%를 학습용, 나머지 20%를 검증용으로 사용\n",
    "split_index = int(len(mm_x) * 0.8)\n",
    "\n",
    "train_x = mm_x[:split_index]\n",
    "train_y = ss_y[:split_index]\n",
    "\n",
    "val_x = mm_x[split_index:]\n",
    "val_y = ss_y[split_index:]"
   ]
  },
  {
   "cell_type": "markdown",
   "id": "1b1f38e7-e5d5-4863-b74f-62f740da9ff7",
   "metadata": {
    "id": "1b1f38e7-e5d5-4863-b74f-62f740da9ff7"
   },
   "source": [
    "## 배치사이즈 32"
   ]
  },
  {
   "cell_type": "code",
   "execution_count": null,
   "id": "5ba3be17-9ca0-41e7-870a-da3304227738",
   "metadata": {
    "id": "5ba3be17-9ca0-41e7-870a-da3304227738",
    "outputId": "d9606101-e4e2-4e4e-f4ef-1f38a51dbfbc"
   },
   "outputs": [
    {
     "name": "stdout",
     "output_type": "stream",
     "text": [
      "Epoch 1/50\n",
      "54544/68303 [======================>.......] - ETA: 4:07 - loss: 0.1269"
     ]
    },
    {
     "name": "stderr",
     "output_type": "stream",
     "text": [
      "\n",
      "KeyboardInterrupt\n",
      "\n"
     ]
    }
   ],
   "source": [
    "# ✅ [3] 시계열 데이터 생성 -----------------------------------------------------------\n",
    "from tensorflow.keras.callbacks import ModelCheckpoint\n",
    "\n",
    "line = 1\n",
    "batch_size = 32\n",
    "save_path = './models/Line{}_batch{}.h5'.format(line, batch_size)\n",
    "\n",
    "# ✅ ModelCheckpoint 콜백 추가 ---------------------------------------\n",
    "checkpoint = ModelCheckpoint(\n",
    "    filepath=save_path,         # 저장할 모델 파일명\n",
    "    monitor='val_loss',               # 검증 손실 기준\n",
    "    save_best_only=True,              # 가장 성능 좋은 모델만 저장\n",
    "    save_weights_only=False,          # 전체 모델 저장 (구조 + 가중치)\n",
    "    verbose=1                         # 저장될 때마다 메시지 출력\n",
    ")\n",
    "\n",
    "\n",
    "# 과거 21시간 데이터를 기반으로 예측\n",
    "sequence_length = 21\n",
    "\n",
    "\n",
    "# TimeseriesGenerator를 통해 시계열 학습/검증셋 생성\n",
    "train_gen = TimeseriesGenerator(train_x, train_y, length=sequence_length, batch_size=batch_size)\n",
    "val_gen   = TimeseriesGenerator(val_x, val_y, length=sequence_length, batch_size=batch_size)\n",
    "\n",
    "# ✅ [4] LSTM 모델 정의 및 학습 --------------------------------------------------------\n",
    "\n",
    "# 딥러닝 모델 구조 정의\n",
    "Line1_model_batch32 = Sequential([\n",
    "    Input(shape=(sequence_length, train_x.shape[1])),  # (timesteps, features)\n",
    "    LSTM(64, return_sequences=True),   # 첫 번째 LSTM: 시퀀스 출력 유지\n",
    "    Dropout(0.2),\n",
    "    LSTM(32),                          # 두 번째 LSTM: 최종 출력만 반환\n",
    "    Dropout(0.2),\n",
    "    Dense(1)                           # 예측값 하나 출력 (혼잡도)\n",
    "])\n",
    "\n",
    "# 모델 컴파일\n",
    "Line1_model_batch32.compile(loss='mse', optimizer=Adam(0.001))\n",
    "\n",
    "# 콜백 설정\n",
    "early_stop = EarlyStopping(monitor='val_loss', patience=3, restore_best_weights=True)\n",
    "reduce_lr = ReduceLROnPlateau(monitor='val_loss', patience=2, factor=0.5)\n",
    "\n",
    "# 모델 학습\n",
    "history_Line1_batch32 = Line1_model_batch32.fit(train_gen, validation_data=val_gen, epochs=50, callbacks=[\n",
    "                                                                              early_stop\n",
    "                                                                              ,reduce_lr\n",
    "                                                                            ,checkpoint])"
   ]
  },
  {
   "cell_type": "code",
   "execution_count": null,
   "id": "PmhU4qlOXrrh",
   "metadata": {
    "id": "PmhU4qlOXrrh"
   },
   "outputs": [],
   "source": [
    "# 📊 학습 및 검증 손실 시각화\n",
    "plt.figure(figsize=(10, 5))\n",
    "plt.plot(history_Line1_batch32.history['loss'], label='Train Loss')\n",
    "plt.plot(history_Line1_batch32.history['val_loss'], label='Validation Loss')\n",
    "plt.title('Line1 / Batch 32 - Training & Validation Loss')\n",
    "plt.xlabel('Epoch')\n",
    "plt.ylabel('Loss (MSE)')\n",
    "plt.legend()\n",
    "plt.grid(True)\n",
    "plt.show()"
   ]
  },
  {
   "cell_type": "markdown",
   "id": "b0deef6f-b9b3-4cae-ad87-8a11a657d351",
   "metadata": {
    "id": "b0deef6f-b9b3-4cae-ad87-8a11a657d351"
   },
   "source": [
    "## 배치사이즈 64"
   ]
  },
  {
   "cell_type": "code",
   "execution_count": null,
   "id": "0f1826c4-6cc3-4475-97a2-3b7c31e46d59",
   "metadata": {
    "id": "0f1826c4-6cc3-4475-97a2-3b7c31e46d59",
    "outputId": "d5e9bdc8-1bbb-4760-8090-c3e2908a92af",
    "scrolled": true
   },
   "outputs": [
    {
     "name": "stdout",
     "output_type": "stream",
     "text": [
      "Epoch 1/50\n",
      "31575/34152 [==========================>...] - ETA: 1:02 - loss: 0.1445"
     ]
    }
   ],
   "source": [
    "# ✅ [3] 시계열 데이터 생성 -----------------------------------------------------------\n",
    "from tensorflow.keras.callbacks import ModelCheckpoint\n",
    "\n",
    "line = 1\n",
    "batch_size = 64\n",
    "save_path = './models/Line{}_batch{}.h5'.format(line, batch_size)\n",
    "\n",
    "# ✅ ModelCheckpoint 콜백 추가 ---------------------------------------\n",
    "checkpoint = ModelCheckpoint(\n",
    "    filepath=save_path,         # 저장할 모델 파일명\n",
    "    monitor='val_loss',               # 검증 손실 기준\n",
    "    save_best_only=True,              # 가장 성능 좋은 모델만 저장\n",
    "    save_weights_only=False,          # 전체 모델 저장 (구조 + 가중치)\n",
    "    verbose=1                         # 저장될 때마다 메시지 출력\n",
    ")\n",
    "\n",
    "\n",
    "# 과거 21시간 데이터를 기반으로 예측\n",
    "sequence_length = 21\n",
    "\n",
    "# TimeseriesGenerator를 통해 시계열 학습/검증셋 생성\n",
    "train_gen = TimeseriesGenerator(train_x, train_y, length=sequence_length, batch_size=batch_size)\n",
    "val_gen   = TimeseriesGenerator(val_x, val_y, length=sequence_length, batch_size=batch_size)\n",
    "\n",
    "# ✅ [4] LSTM 모델 정의 및 학습 --------------------------------------------------------\n",
    "\n",
    "# 딥러닝 모델 구조 정의\n",
    "Line1_model_batch64 = Sequential([\n",
    "    Input(shape=(sequence_length, train_x.shape[1])),  # (timesteps, features)\n",
    "    LSTM(64, return_sequences=True),   # 첫 번째 LSTM: 시퀀스 출력 유지\n",
    "    Dropout(0.2),\n",
    "    LSTM(32),                          # 두 번째 LSTM: 최종 출력만 반환\n",
    "    Dropout(0.2),\n",
    "    Dense(1)                           # 예측값 하나 출력 (혼잡도)\n",
    "])\n",
    "\n",
    "# 모델 컴파일\n",
    "Line1_model_batch64.compile(loss='mse', optimizer=Adam(0.001))\n",
    "\n",
    "# 콜백 설정\n",
    "early_stop = EarlyStopping(monitor='val_loss', patience=3, restore_best_weights=True)\n",
    "reduce_lr = ReduceLROnPlateau(monitor='val_loss', patience=2, factor=0.5)\n",
    "\n",
    "# 모델 학습\n",
    "history_Line1_batch64 = Line1_model_batch64.fit(train_gen, validation_data=val_gen, epochs=50, callbacks=[\n",
    "                                                                              early_stop,\n",
    "                                                                              reduce_lr\n",
    "                                                                            ,checkpoint])"
   ]
  },
  {
   "cell_type": "code",
   "execution_count": null,
   "id": "6lptUf2YXoMO",
   "metadata": {
    "id": "6lptUf2YXoMO"
   },
   "outputs": [],
   "source": [
    "# 📊 학습 및 검증 손실 시각화\n",
    "plt.figure(figsize=(10, 5))\n",
    "plt.plot(history_Line1_batch64.history['loss'], label='Train Loss')\n",
    "plt.plot(history_Line1_batch64.history['val_loss'], label='Validation Loss')\n",
    "plt.title('Line5 / Batch 64 - Training & Validation Loss')\n",
    "plt.xlabel('Epoch')\n",
    "plt.ylabel('Loss (MSE)')\n",
    "plt.legend()\n",
    "plt.grid(True)\n",
    "plt.show()"
   ]
  },
  {
   "cell_type": "markdown",
   "id": "06f8eafa-447b-437c-8e72-1919721e40ed",
   "metadata": {
    "id": "06f8eafa-447b-437c-8e72-1919721e40ed"
   },
   "source": [
    "## 배치사이즈 128"
   ]
  },
  {
   "cell_type": "code",
   "execution_count": null,
   "id": "2af5dbf4-dcd9-460c-9ef6-1b9be5dad2bf",
   "metadata": {
    "id": "2af5dbf4-dcd9-460c-9ef6-1b9be5dad2bf",
    "scrolled": true
   },
   "outputs": [],
   "source": [
    "# ✅ [3] 시계열 데이터 생성 -----------------------------------------------------------\n",
    "from tensorflow.keras.callbacks import ModelCheckpoint\n",
    "\n",
    "line = 1\n",
    "batch_size = 128\n",
    "save_path = './models/Line{}_batch{}.h5'.format(line, batch_size)\n",
    "\n",
    "# ✅ ModelCheckpoint 콜백 추가 ---------------------------------------\n",
    "checkpoint = ModelCheckpoint(\n",
    "    filepath=save_path,         # 저장할 모델 파일명\n",
    "    monitor='val_loss',               # 검증 손실 기준\n",
    "    save_best_only=True,              # 가장 성능 좋은 모델만 저장\n",
    "    save_weights_only=False,          # 전체 모델 저장 (구조 + 가중치)\n",
    "    verbose=1                         # 저장될 때마다 메시지 출력\n",
    ")\n",
    "\n",
    "\n",
    "# 과거 21시간 데이터를 기반으로 예측\n",
    "sequence_length = 21\n",
    "\n",
    "# TimeseriesGenerator를 통해 시계열 학습/검증셋 생성\n",
    "train_gen = TimeseriesGenerator(train_x, train_y, length=sequence_length, batch_size=batch_size)\n",
    "val_gen   = TimeseriesGenerator(val_x, val_y, length=sequence_length, batch_size=batch_size)\n",
    "\n",
    "# ✅ [4] LSTM 모델 정의 및 학습 --------------------------------------------------------\n",
    "\n",
    "# 딥러닝 모델 구조 정의\n",
    "Line1_model_batch128 = Sequential([\n",
    "    Input(shape=(sequence_length, train_x.shape[1])),  # (timesteps, features)\n",
    "    LSTM(64, return_sequences=True),   # 첫 번째 LSTM: 시퀀스 출력 유지\n",
    "    Dropout(0.2),\n",
    "    LSTM(32),                          # 두 번째 LSTM: 최종 출력만 반환\n",
    "    Dropout(0.2),\n",
    "    Dense(1)                           # 예측값 하나 출력 (혼잡도)\n",
    "])\n",
    "\n",
    "# 모델 컴파일\n",
    "Line1_model_batch128.compile(loss='mse', optimizer=Adam(0.001))\n",
    "\n",
    "# 콜백 설정\n",
    "early_stop = EarlyStopping(monitor='val_loss', patience=3, restore_best_weights=True)\n",
    "reduce_lr = ReduceLROnPlateau(monitor='val_loss', patience=2, factor=0.5)\n",
    "\n",
    "# 모델 학습\n",
    "history_line5_batch128 = Line1_model_batch128.fit(train_gen, validation_data=val_gen, epochs=50, callbacks=[\n",
    "                                                                              early_stop,\n",
    "                                                                              reduce_lr\n",
    "                                                                            ,checkpoint])"
   ]
  },
  {
   "cell_type": "code",
   "execution_count": null,
   "id": "c76b3684-c66f-4a89-96a7-6e9eb64f4da4",
   "metadata": {
    "id": "c76b3684-c66f-4a89-96a7-6e9eb64f4da4",
    "outputId": "9f074081-580d-41f1-dcdf-fb023c56ae2f",
    "scrolled": true
   },
   "outputs": [
    {
     "data": {
      "image/png": "[encoded data removed]",
      "text/plain": [
       "<Figure size 1000x500 with 1 Axes>"
      ]
     },
     "metadata": {},
     "output_type": "display_data"
    }
   ],
   "source": [
    "# 📊 학습 및 검증 손실 시각화\n",
    "plt.figure(figsize=(10, 5))\n",
    "plt.plot(history_Line1_batch128.history['loss'], label='Train Loss')\n",
    "plt.plot(history_Line1_batch128.history['val_loss'], label='Validation Loss')\n",
    "plt.title('Line1 / Batch 128 - Training & Validation Loss')\n",
    "plt.xlabel('Epoch')\n",
    "plt.ylabel('Loss (MSE)')\n",
    "plt.legend()\n",
    "plt.grid(True)\n",
    "plt.show()"
   ]
  },
  {
   "cell_type": "markdown",
   "id": "a5d903ca-a384-4f40-8879-7adcf6846b57",
   "metadata": {
    "id": "a5d903ca-a384-4f40-8879-7adcf6846b57",
    "jp-MarkdownHeadingCollapsed": true
   },
   "source": [
    "## 배치사이즈 256"
   ]
  },
  {
   "cell_type": "code",
   "execution_count": null,
   "id": "ea73bcf2-b8ca-4e0b-9289-76fb88963025",
   "metadata": {
    "id": "ea73bcf2-b8ca-4e0b-9289-76fb88963025"
   },
   "outputs": [],
   "source": [
    "# ✅ [3] 시계열 데이터 생성 -----------------------------------------------------------\n",
    "from tensorflow.keras.callbacks import ModelCheckpoint\n",
    "\n",
    "line = 1\n",
    "batch_size = 256\n",
    "save_path = './models/Line{}_batch{}.h5'.format(line, batch_size)\n",
    "\n",
    "# ✅ ModelCheckpoint 콜백 추가 ---------------------------------------\n",
    "checkpoint = ModelCheckpoint(\n",
    "    filepath=save_path,         # 저장할 모델 파일명\n",
    "    monitor='val_loss',               # 검증 손실 기준\n",
    "    save_best_only=True,              # 가장 성능 좋은 모델만 저장\n",
    "    save_weights_only=False,          # 전체 모델 저장 (구조 + 가중치)\n",
    "    verbose=1                         # 저장될 때마다 메시지 출력\n",
    ")\n",
    "\n",
    "\n",
    "# 과거 21시간 데이터를 기반으로 예측\n",
    "sequence_length = 21\n",
    "\n",
    "# TimeseriesGenerator를 통해 시계열 학습/검증셋 생성\n",
    "train_gen = TimeseriesGenerator(train_x, train_y, length=sequence_length, batch_size=batch_size)\n",
    "val_gen   = TimeseriesGenerator(val_x, val_y, length=sequence_length, batch_size=batch_size)\n",
    "\n",
    "# ✅ [4] LSTM 모델 정의 및 학습 --------------------------------------------------------\n",
    "\n",
    "# 딥러닝 모델 구조 정의\n",
    "Line1_model_batch256 = Sequential([\n",
    "    Input(shape=(sequence_length, train_x.shape[1])),  # (timesteps, features)\n",
    "    LSTM(64, return_sequences=True),   # 첫 번째 LSTM: 시퀀스 출력 유지\n",
    "    Dropout(0.2),\n",
    "    LSTM(32),                          # 두 번째 LSTM: 최종 출력만 반환\n",
    "    Dropout(0.2),\n",
    "    Dense(1)                           # 예측값 하나 출력 (혼잡도)\n",
    "])\n",
    "\n",
    "# 모델 컴파일\n",
    "Line1_model_batch256.compile(loss='mse', optimizer=Adam(0.001))\n",
    "\n",
    "# 콜백 설정\n",
    "early_stop = EarlyStopping(monitor='val_loss', patience=3, restore_best_weights=True)\n",
    "reduce_lr = ReduceLROnPlateau(monitor='val_loss', patience=2, factor=0.5)\n",
    "\n",
    "# 모델 학습\n",
    "history_Line1_batch256 = Line1_model_batch256.fit(train_gen, validation_data=val_gen, epochs=50, callbacks=[\n",
    "                                                                              early_stop,\n",
    "                                                                              reduce_lr\n",
    "                                                                            ,checkpoint])"
   ]
  },
  {
   "cell_type": "code",
   "execution_count": null,
   "id": "wHQj23BFXapN",
   "metadata": {
    "id": "wHQj23BFXapN"
   },
   "outputs": [],
   "source": [
    "# 📊 학습 및 검증 손실 시각화\n",
    "plt.figure(figsize=(10, 5))\n",
    "plt.plot(history_Line1_batch256.history['loss'], label='Train Loss')\n",
    "plt.plot(history_Line1_batch256.history['val_loss'], label='Validation Loss')\n",
    "plt.title('Line1 / Batch 256 - Training & Validation Loss')\n",
    "plt.xlabel('Epoch')\n",
    "plt.ylabel('Loss (MSE)')\n",
    "plt.legend()\n",
    "plt.grid(True)\n",
    "plt.show()"
   ]
  },
  {
   "cell_type": "markdown",
   "id": "50d7e86f-fb2c-4b75-9497-91eaa1a3c6b0",
   "metadata": {
    "id": "50d7e86f-fb2c-4b75-9497-91eaa1a3c6b0",
    "jp-MarkdownHeadingCollapsed": true
   },
   "source": [
    "## 1호선 모델 성능 테스트"
   ]
  },
  {
   "cell_type": "code",
   "execution_count": null,
   "id": "eab08b25-e953-45b3-ae0c-db69f30e63ba",
   "metadata": {
    "id": "eab08b25-e953-45b3-ae0c-db69f30e63ba"
   },
   "outputs": [],
   "source": [
    "plt.rcParams['font.family']='Malgun Gothic'"
   ]
  },
  {
   "cell_type": "code",
   "execution_count": null,
   "id": "3486fc3b-02b3-49ca-ae97-d0c850d7ad96",
   "metadata": {
    "id": "3486fc3b-02b3-49ca-ae97-d0c850d7ad96"
   },
   "outputs": [],
   "source": [
    "# ✅ [5] 예측 및 평가 ---------------------------------------------------------------\n",
    "from tensorflow.keras.models import load_model\n",
    "loaded_model_32 = load_model('./models/Line1_batch32.h5')\n",
    "loaded_model_64 = load_model('./models/Line1_batch64.h5')\n",
    "loaded_model_128 = load_model('./models/Line1_batch128.h5')\n",
    "loaded_model_256 = load_model('./models/Line1_batch256.h5')\n",
    "\n",
    "# 검증셋에 대해 예측 수행\n",
    "pred_scaled_32 = loaded_model_32.predict(val_gen)\n",
    "pred_scaled_64 = loaded_model_64.predict(val_gen)\n",
    "pred_scaled_128 = loaded_model_128.predict(val_gen)\n",
    "pred_scaled_256 = loaded_model_256.predict(val_gen)\n",
    "\n",
    "# 정규화 해제 (역정규화) → 실제 혼잡도 단위로 복원\n",
    "pred_32 = ss.inverse_transform(pred_scaled_32)\n",
    "pred_64 = ss.inverse_transform(pred_scaled_64)\n",
    "pred_128 = ss.inverse_transform(pred_scaled_128)\n",
    "pred_256 = ss.inverse_transform(pred_scaled_256)\n",
    "\n",
    "# 실제 y도 시계열 슬라이싱 기준에 맞게 자르기\n",
    "true = ss.inverse_transform(val_y[sequence_length:])"
   ]
  },
  {
   "cell_type": "code",
   "execution_count": null,
   "id": "4358d400-c1a5-40a3-98fc-26842c5a636d",
   "metadata": {
    "id": "4358d400-c1a5-40a3-98fc-26842c5a636d",
    "outputId": "a788503d-e9e6-41d0-ae69-2616f2d0ca09"
   },
   "outputs": [
    {
     "name": "stdout",
     "output_type": "stream",
     "text": [
      "✅batch size = 32\n",
      " 검증 RMSE: 4.0428\n",
      " R² Score: 0.9709\n",
      "\n",
      "✅batch size = 64\n",
      " 검증 RMSE: 4.6141\n",
      " R² Score: 0.9620\n",
      "\n",
      "✅batch size = 128\n",
      " 검증 RMSE: 4.8596\n",
      " R² Score: 0.9579\n",
      "\n",
      "✅batch size = 256\n",
      " 검증 RMSE: 4.6932\n",
      " R² Score: 0.9607\n"
     ]
    }
   ],
   "source": [
    "# 평가 지표 계산\n",
    "rmse_32 = mean_squared_error(true, pred_32, squared=False)  # RMSE\n",
    "r2_32 = r2_score(true, pred_32)                             # R² Score\n",
    "rmse_64 = mean_squared_error(true, pred_64, squared=False)  # RMSE\n",
    "r2_64 = r2_score(true, pred_64)                             # R² Score\n",
    "rmse_128 = mean_squared_error(true, pred_128, squared=False)  # RMSE\n",
    "r2_128 = r2_score(true, pred_128)                             # R² Score\n",
    "rmse_256 = mean_squared_error(true, pred_256, squared=False)  # RMSE\n",
    "r2_256 = r2_score(true, pred_256)                             # R² Score\n",
    "\n",
    "# 결과 출력\n",
    "print('✅Line1 batch size = 32')\n",
    "print(f\" 검증 RMSE: {rmse_32:.4f}\")\n",
    "print(f\" R² Score: {r2_32:.4f}\")\n",
    "print()\n",
    "print('✅Line1 batch size = 64')\n",
    "print(f\" 검증 RMSE: {rmse_64:.4f}\")\n",
    "print(f\" R² Score: {r2_64:.4f}\")\n",
    "print()\n",
    "print('✅Line1 batch size = 128')\n",
    "print(f\" 검증 RMSE: {rmse_128:.4f}\")\n",
    "print(f\" R² Score: {r2_128:.4f}\")\n",
    "print()\n",
    "print('✅Line1 batch size = 256')\n",
    "print(f\" 검증 RMSE: {rmse_256:.4f}\")\n",
    "print(f\" R² Score: {r2_256:.4f}\")"
   ]
  },
  {
   "cell_type": "markdown",
   "id": "01KyM_IpYSae",
   "metadata": {
    "id": "01KyM_IpYSae"
   },
   "source": [
    "# 2호선"
   ]
  },
  {
   "cell_type": "markdown",
   "id": "NHqgWA-OYnNB",
   "metadata": {
    "id": "NHqgWA-OYnNB",
    "jp-MarkdownHeadingCollapsed": true
   },
   "source": [
    "## 2호선 데이터 불러오기"
   ]
  },
  {
   "cell_type": "code",
   "execution_count": null,
   "id": "2aTrzVUOYnNB",
   "metadata": {
    "id": "2aTrzVUOYnNB"
   },
   "outputs": [],
   "source": [
    "df1 = df[df['호선'] == 2].copy()\n",
    "cols = ['연도', '호선','상하구분','AWS지점코드']\n",
    "for col in cols:\n",
    "    df1[col] = df1[col].astype('category')\n",
    "\n",
    "# 시 (0~23 기준)\n",
    "df1['시_sin'] = np.sin(2 * np.pi * df1['시'] / 24)\n",
    "df1['시_cos'] = np.cos(2 * np.pi * df1['시'] / 24)\n",
    "\n",
    "# 요일 (0~6 기준, 월~일)\n",
    "df1['요일_sin'] = np.sin(2 * np.pi * df1['요일'] / 7)\n",
    "df1['요일_cos'] = np.cos(2 * np.pi * df1['요일'] / 7)\n",
    "\n",
    "# 월, 일 (1~12, 1~31 기준)\n",
    "le = LabelEncoder()\n",
    "df['월'] = le.fit_transform(df['월'])\n",
    "df['일'] = le.fit_transform(df['일'])\n",
    "\n",
    "# 1. float64 → float32\n",
    "float_cols = df1.select_dtypes(include=['float64']).columns\n",
    "df1[float_cols] = df1[float_cols].astype('float32')\n",
    "\n",
    "# 2. int64 → int32\n",
    "int_cols = df1.select_dtypes(include=['int64']).columns\n",
    "df1[int_cols] = df1[int_cols].astype('int32')\n",
    "\n",
    "# 3. object(문자열) → category\n",
    "obj_cols = df1.select_dtypes(include=['object']).columns\n",
    "df1[obj_cols] = df1[obj_cols].astype('category')\n",
    "\n",
    "df1 = df1.drop(['시', '요일'], axis=1)\n",
    "df1.info()\n",
    "\n",
    "# ✅ [1] 피처 구성 및 전처리 --------------------------------------------------------\n",
    "\n",
    "# 🎯 타겟 변수 '혼잡도' 제거하여 X 생성\n",
    "X = df1.drop(['혼잡도', '시간'], axis=1)\n",
    "\n",
    "# 🔤 범주형 변수 원-핫 인코딩 (첫 번째 카테고리는 drop)\n",
    "o_h_e_x = pd.get_dummies(X, columns=['연도', '역명', '호선', '상하구분', 'AWS지점코드'], drop_first=True)\n",
    "\n",
    "# 🔢 X 정규화 (0~1 범위로 스케일링)\n",
    "mm = MinMaxScaler()\n",
    "mm_x = mm.fit_transform(o_h_e_x)\n",
    "\n",
    "# 🎯 y 정규화 (표준화: 평균 0, 표준편차 1)\n",
    "y = df1[['혼잡도']]  # 2D로 유지\n",
    "ss = StandardScaler()\n",
    "ss_y = ss.fit_transform(y)\n",
    "\n",
    "# ✅ [2] 시계열 학습/검증 데이터 분할 --------------------------------------------------\n",
    "\n",
    "# 전체의 80%를 학습용, 나머지 20%를 검증용으로 사용\n",
    "split_index = int(len(mm_x) * 0.8)\n",
    "\n",
    "train_x = mm_x[:split_index]\n",
    "train_y = ss_y[:split_index]\n",
    "\n",
    "val_x = mm_x[split_index:]\n",
    "val_y = ss_y[split_index:]"
   ]
  },
  {
   "cell_type": "markdown",
   "id": "aOIIf1SwYnNC",
   "metadata": {
    "id": "aOIIf1SwYnNC",
    "jp-MarkdownHeadingCollapsed": true
   },
   "source": [
    "## 배치사이즈 32"
   ]
  },
  {
   "cell_type": "code",
   "execution_count": null,
   "id": "IddKrz3IYnNC",
   "metadata": {
    "id": "IddKrz3IYnNC",
    "outputId": "d9606101-e4e2-4e4e-f4ef-1f38a51dbfbc"
   },
   "outputs": [
    {
     "name": "stdout",
     "output_type": "stream",
     "text": [
      "Epoch 1/50\n",
      "54544/68303 [======================>.......] - ETA: 4:07 - loss: 0.1269"
     ]
    },
    {
     "name": "stderr",
     "output_type": "stream",
     "text": [
      "\n",
      "KeyboardInterrupt\n",
      "\n"
     ]
    }
   ],
   "source": [
    "# ✅ [3] 시계열 데이터 생성 -----------------------------------------------------------\n",
    "from tensorflow.keras.callbacks import ModelCheckpoint\n",
    "\n",
    "line = 2\n",
    "batch_size = 32\n",
    "save_path = './models/Line{}_batch{}.h5'.format(line, batch_size)\n",
    "\n",
    "# ✅ ModelCheckpoint 콜백 추가 ---------------------------------------\n",
    "checkpoint = ModelCheckpoint(\n",
    "    filepath=save_path,         # 저장할 모델 파일명\n",
    "    monitor='val_loss',               # 검증 손실 기준\n",
    "    save_best_only=True,              # 가장 성능 좋은 모델만 저장\n",
    "    save_weights_only=False,          # 전체 모델 저장 (구조 + 가중치)\n",
    "    verbose=1                         # 저장될 때마다 메시지 출력\n",
    ")\n",
    "\n",
    "\n",
    "# 과거 21시간 데이터를 기반으로 예측\n",
    "sequence_length = 21\n",
    "\n",
    "\n",
    "# TimeseriesGenerator를 통해 시계열 학습/검증셋 생성\n",
    "train_gen = TimeseriesGenerator(train_x, train_y, length=sequence_length, batch_size=batch_size)\n",
    "val_gen   = TimeseriesGenerator(val_x, val_y, length=sequence_length, batch_size=batch_size)\n",
    "\n",
    "# ✅ [4] LSTM 모델 정의 및 학습 --------------------------------------------------------\n",
    "\n",
    "# 딥러닝 모델 구조 정의\n",
    "Line2_model_batch32 = Sequential([\n",
    "    Input(shape=(sequence_length, train_x.shape[1])),  # (timesteps, features)\n",
    "    LSTM(64, return_sequences=True),   # 첫 번째 LSTM: 시퀀스 출력 유지\n",
    "    Dropout(0.2),\n",
    "    LSTM(32),                          # 두 번째 LSTM: 최종 출력만 반환\n",
    "    Dropout(0.2),\n",
    "    Dense(1)                           # 예측값 하나 출력 (혼잡도)\n",
    "])\n",
    "\n",
    "# 모델 컴파일\n",
    "Line2_model_batch32.compile(loss='mse', optimizer=Adam(0.001))\n",
    "\n",
    "# 콜백 설정\n",
    "early_stop = EarlyStopping(monitor='val_loss', patience=3, restore_best_weights=True)\n",
    "reduce_lr = ReduceLROnPlateau(monitor='val_loss', patience=2, factor=0.5)\n",
    "\n",
    "# 모델 학습\n",
    "history_Line2_batch32 = Line2_model_batch32.fit(train_gen, validation_data=val_gen, epochs=50, callbacks=[\n",
    "                                                                              early_stop\n",
    "                                                                              ,reduce_lr\n",
    "                                                                            ,checkpoint])"
   ]
  },
  {
   "cell_type": "code",
   "execution_count": null,
   "id": "PUk8Hx6TYnNC",
   "metadata": {
    "id": "PUk8Hx6TYnNC"
   },
   "outputs": [],
   "source": [
    "# 📊 학습 및 검증 손실 시각화\n",
    "plt.figure(figsize=(10, 5))\n",
    "plt.plot(history_Line2_batch32.history['loss'], label='Train Loss')\n",
    "plt.plot(history_Line2_batch32.history['val_loss'], label='Validation Loss')\n",
    "plt.title('Line2 / Batch 32 - Training & Validation Loss')\n",
    "plt.xlabel('Epoch')\n",
    "plt.ylabel('Loss (MSE)')\n",
    "plt.legend()\n",
    "plt.grid(True)\n",
    "plt.show()"
   ]
  },
  {
   "cell_type": "markdown",
   "id": "Ex5lJNliYnND",
   "metadata": {
    "id": "Ex5lJNliYnND",
    "jp-MarkdownHeadingCollapsed": true
   },
   "source": [
    "## 배치사이즈 64"
   ]
  },
  {
   "cell_type": "code",
   "execution_count": null,
   "id": "H_RxvZkXYnND",
   "metadata": {
    "id": "H_RxvZkXYnND",
    "outputId": "d5e9bdc8-1bbb-4760-8090-c3e2908a92af",
    "scrolled": true
   },
   "outputs": [
    {
     "name": "stdout",
     "output_type": "stream",
     "text": [
      "Epoch 1/50\n",
      "31575/34152 [==========================>...] - ETA: 1:02 - loss: 0.1445"
     ]
    }
   ],
   "source": [
    "# ✅ [3] 시계열 데이터 생성 -----------------------------------------------------------\n",
    "from tensorflow.keras.callbacks import ModelCheckpoint\n",
    "\n",
    "line = 2\n",
    "batch_size = 64\n",
    "save_path = './models/Line{}_batch{}.h5'.format(line, batch_size)\n",
    "\n",
    "# ✅ ModelCheckpoint 콜백 추가 ---------------------------------------\n",
    "checkpoint = ModelCheckpoint(\n",
    "    filepath=save_path,         # 저장할 모델 파일명\n",
    "    monitor='val_loss',               # 검증 손실 기준\n",
    "    save_best_only=True,              # 가장 성능 좋은 모델만 저장\n",
    "    save_weights_only=False,          # 전체 모델 저장 (구조 + 가중치)\n",
    "    verbose=1                         # 저장될 때마다 메시지 출력\n",
    ")\n",
    "\n",
    "\n",
    "# 과거 21시간 데이터를 기반으로 예측\n",
    "sequence_length = 21\n",
    "\n",
    "# TimeseriesGenerator를 통해 시계열 학습/검증셋 생성\n",
    "train_gen = TimeseriesGenerator(train_x, train_y, length=sequence_length, batch_size=batch_size)\n",
    "val_gen   = TimeseriesGenerator(val_x, val_y, length=sequence_length, batch_size=batch_size)\n",
    "\n",
    "# ✅ [4] LSTM 모델 정의 및 학습 --------------------------------------------------------\n",
    "\n",
    "# 딥러닝 모델 구조 정의\n",
    "Line2_model_batch64 = Sequential([\n",
    "    Input(shape=(sequence_length, train_x.shape[1])),  # (timesteps, features)\n",
    "    LSTM(64, return_sequences=True),   # 첫 번째 LSTM: 시퀀스 출력 유지\n",
    "    Dropout(0.2),\n",
    "    LSTM(32),                          # 두 번째 LSTM: 최종 출력만 반환\n",
    "    Dropout(0.2),\n",
    "    Dense(1)                           # 예측값 하나 출력 (혼잡도)\n",
    "])\n",
    "\n",
    "# 모델 컴파일\n",
    "Line2_model_batch64.compile(loss='mse', optimizer=Adam(0.001))\n",
    "\n",
    "# 콜백 설정\n",
    "early_stop = EarlyStopping(monitor='val_loss', patience=3, restore_best_weights=True)\n",
    "reduce_lr = ReduceLROnPlateau(monitor='val_loss', patience=2, factor=0.5)\n",
    "\n",
    "# 모델 학습\n",
    "history_Line2_batch64 = Line2_model_batch64.fit(train_gen, validation_data=val_gen, epochs=50, callbacks=[\n",
    "                                                                              early_stop,\n",
    "                                                                              reduce_lr\n",
    "                                                                            ,checkpoint])"
   ]
  },
  {
   "cell_type": "code",
   "execution_count": null,
   "id": "zLQQplJBYnNE",
   "metadata": {
    "id": "zLQQplJBYnNE"
   },
   "outputs": [],
   "source": [
    "# 📊 학습 및 검증 손실 시각화\n",
    "plt.figure(figsize=(10, 5))\n",
    "plt.plot(history_Line2_batch64.history['loss'], label='Train Loss')\n",
    "plt.plot(history_Line2_batch64.history['val_loss'], label='Validation Loss')\n",
    "plt.title('Line2 / Batch 64 - Training & Validation Loss')\n",
    "plt.xlabel('Epoch')\n",
    "plt.ylabel('Loss (MSE)')\n",
    "plt.legend()\n",
    "plt.grid(True)\n",
    "plt.show()"
   ]
  },
  {
   "cell_type": "markdown",
   "id": "G1L8KaZsYnNE",
   "metadata": {
    "id": "G1L8KaZsYnNE",
    "jp-MarkdownHeadingCollapsed": true
   },
   "source": [
    "## 배치사이즈 128"
   ]
  },
  {
   "cell_type": "code",
   "execution_count": null,
   "id": "1NbUmcmPYnNE",
   "metadata": {
    "id": "1NbUmcmPYnNE",
    "scrolled": true
   },
   "outputs": [],
   "source": [
    "# ✅ [3] 시계열 데이터 생성 -----------------------------------------------------------\n",
    "from tensorflow.keras.callbacks import ModelCheckpoint\n",
    "\n",
    "line = 2\n",
    "batch_size = 128\n",
    "save_path = './models/Line{}_batch{}.h5'.format(line, batch_size)\n",
    "\n",
    "# ✅ ModelCheckpoint 콜백 추가 ---------------------------------------\n",
    "checkpoint = ModelCheckpoint(\n",
    "    filepath=save_path,         # 저장할 모델 파일명\n",
    "    monitor='val_loss',               # 검증 손실 기준\n",
    "    save_best_only=True,              # 가장 성능 좋은 모델만 저장\n",
    "    save_weights_only=False,          # 전체 모델 저장 (구조 + 가중치)\n",
    "    verbose=1                         # 저장될 때마다 메시지 출력\n",
    ")\n",
    "\n",
    "\n",
    "# 과거 21시간 데이터를 기반으로 예측\n",
    "sequence_length = 21\n",
    "\n",
    "# TimeseriesGenerator를 통해 시계열 학습/검증셋 생성\n",
    "train_gen = TimeseriesGenerator(train_x, train_y, length=sequence_length, batch_size=batch_size)\n",
    "val_gen   = TimeseriesGenerator(val_x, val_y, length=sequence_length, batch_size=batch_size)\n",
    "\n",
    "# ✅ [4] LSTM 모델 정의 및 학습 --------------------------------------------------------\n",
    "\n",
    "# 딥러닝 모델 구조 정의\n",
    "Line2_model_batch128 = Sequential([\n",
    "    Input(shape=(sequence_length, train_x.shape[1])),  # (timesteps, features)\n",
    "    LSTM(64, return_sequences=True),   # 첫 번째 LSTM: 시퀀스 출력 유지\n",
    "    Dropout(0.2),\n",
    "    LSTM(32),                          # 두 번째 LSTM: 최종 출력만 반환\n",
    "    Dropout(0.2),\n",
    "    Dense(1)                           # 예측값 하나 출력 (혼잡도)\n",
    "])\n",
    "\n",
    "# 모델 컴파일\n",
    "Line2_model_batch128.compile(loss='mse', optimizer=Adam(0.001))\n",
    "\n",
    "# 콜백 설정\n",
    "early_stop = EarlyStopping(monitor='val_loss', patience=3, restore_best_weights=True)\n",
    "reduce_lr = ReduceLROnPlateau(monitor='val_loss', patience=2, factor=0.5)\n",
    "\n",
    "# 모델 학습\n",
    "history_Line2_batch128 = Line2_model_batch128.fit(train_gen, validation_data=val_gen, epochs=50, callbacks=[\n",
    "                                                                              early_stop,\n",
    "                                                                              reduce_lr\n",
    "                                                                            ,checkpoint])"
   ]
  },
  {
   "cell_type": "code",
   "execution_count": null,
   "id": "IkuP1lcfYnNF",
   "metadata": {
    "id": "IkuP1lcfYnNF",
    "outputId": "9f074081-580d-41f1-dcdf-fb023c56ae2f",
    "scrolled": true
   },
   "outputs": [
    {
     "data": {
      "image/png": "[encoded data removed]",
      "text/plain": [
       "<Figure size 1000x500 with 1 Axes>"
      ]
     },
     "metadata": {},
     "output_type": "display_data"
    }
   ],
   "source": [
    "# 📊 학습 및 검증 손실 시각화\n",
    "plt.figure(figsize=(10, 5))\n",
    "plt.plot(history_Line2_batch128.history['loss'], label='Train Loss')\n",
    "plt.plot(history_Line2_batch128.history['val_loss'], label='Validation Loss')\n",
    "plt.title('Line2 / Batch 128 - Training & Validation Loss')\n",
    "plt.xlabel('Epoch')\n",
    "plt.ylabel('Loss (MSE)')\n",
    "plt.legend()\n",
    "plt.grid(True)\n",
    "plt.show()"
   ]
  },
  {
   "cell_type": "markdown",
   "id": "akS2SJ0DYnNF",
   "metadata": {
    "id": "akS2SJ0DYnNF",
    "jp-MarkdownHeadingCollapsed": true
   },
   "source": [
    "## 배치사이즈 256"
   ]
  },
  {
   "cell_type": "code",
   "execution_count": null,
   "id": "AfH-tDw1YnNF",
   "metadata": {
    "id": "AfH-tDw1YnNF"
   },
   "outputs": [],
   "source": [
    "# ✅ [3] 시계열 데이터 생성 -----------------------------------------------------------\n",
    "from tensorflow.keras.callbacks import ModelCheckpoint\n",
    "\n",
    "line = 2\n",
    "batch_size = 256\n",
    "save_path = './models/Line{}_batch{}.h5'.format(line, batch_size)\n",
    "\n",
    "# ✅ ModelCheckpoint 콜백 추가 ---------------------------------------\n",
    "checkpoint = ModelCheckpoint(\n",
    "    filepath=save_path,         # 저장할 모델 파일명\n",
    "    monitor='val_loss',               # 검증 손실 기준\n",
    "    save_best_only=True,              # 가장 성능 좋은 모델만 저장\n",
    "    save_weights_only=False,          # 전체 모델 저장 (구조 + 가중치)\n",
    "    verbose=1                         # 저장될 때마다 메시지 출력\n",
    ")\n",
    "\n",
    "\n",
    "# 과거 21시간 데이터를 기반으로 예측\n",
    "sequence_length = 21\n",
    "\n",
    "# TimeseriesGenerator를 통해 시계열 학습/검증셋 생성\n",
    "train_gen = TimeseriesGenerator(train_x, train_y, length=sequence_length, batch_size=batch_size)\n",
    "val_gen   = TimeseriesGenerator(val_x, val_y, length=sequence_length, batch_size=batch_size)\n",
    "\n",
    "# ✅ [4] LSTM 모델 정의 및 학습 --------------------------------------------------------\n",
    "\n",
    "# 딥러닝 모델 구조 정의\n",
    "Line2_model_batch256 = Sequential([\n",
    "    Input(shape=(sequence_length, train_x.shape[1])),  # (timesteps, features)\n",
    "    LSTM(64, return_sequences=True),   # 첫 번째 LSTM: 시퀀스 출력 유지\n",
    "    Dropout(0.2),\n",
    "    LSTM(32),                          # 두 번째 LSTM: 최종 출력만 반환\n",
    "    Dropout(0.2),\n",
    "    Dense(1)                           # 예측값 하나 출력 (혼잡도)\n",
    "])\n",
    "\n",
    "# 모델 컴파일\n",
    "Line2_model_batch256.compile(loss='mse', optimizer=Adam(0.001))\n",
    "\n",
    "# 콜백 설정\n",
    "early_stop = EarlyStopping(monitor='val_loss', patience=3, restore_best_weights=True)\n",
    "reduce_lr = ReduceLROnPlateau(monitor='val_loss', patience=2, factor=0.5)\n",
    "\n",
    "# 모델 학습\n",
    "history_Line2_batch256 = Line2_model_batch256.fit(train_gen, validation_data=val_gen, epochs=50, callbacks=[\n",
    "                                                                              early_stop,\n",
    "                                                                              reduce_lr\n",
    "                                                                            ,checkpoint])"
   ]
  },
  {
   "cell_type": "code",
   "execution_count": null,
   "id": "5MOOekfHYnNG",
   "metadata": {
    "id": "5MOOekfHYnNG"
   },
   "outputs": [],
   "source": [
    "# 📊 학습 및 검증 손실 시각화\n",
    "plt.figure(figsize=(10, 5))\n",
    "plt.plot(history_Line2_batch256.history['loss'], label='Train Loss')\n",
    "plt.plot(history_Line2_batch256.history['val_loss'], label='Validation Loss')\n",
    "plt.title('Line2 / Batch 256 - Training & Validation Loss')\n",
    "plt.xlabel('Epoch')\n",
    "plt.ylabel('Loss (MSE)')\n",
    "plt.legend()\n",
    "plt.grid(True)\n",
    "plt.show()"
   ]
  },
  {
   "cell_type": "markdown",
   "id": "_-dMWYNcYnNG",
   "metadata": {
    "id": "_-dMWYNcYnNG",
    "jp-MarkdownHeadingCollapsed": true
   },
   "source": [
    "## 2호선 모델 성능 테스트"
   ]
  },
  {
   "cell_type": "code",
   "execution_count": null,
   "id": "-GZ4JytoYnNG",
   "metadata": {
    "id": "-GZ4JytoYnNG"
   },
   "outputs": [],
   "source": [
    "plt.rcParams['font.family']='Malgun Gothic'"
   ]
  },
  {
   "cell_type": "code",
   "execution_count": null,
   "id": "oj_sfg2rYnNG",
   "metadata": {
    "id": "oj_sfg2rYnNG"
   },
   "outputs": [],
   "source": [
    "# ✅ [5] 예측 및 평가 ---------------------------------------------------------------\n",
    "from tensorflow.keras.models import load_model\n",
    "loaded_model_32 = load_model('./models/Line2_batch32.h5')\n",
    "loaded_model_64 = load_model('./models/Line2_batch64.h5')\n",
    "loaded_model_128 = load_model('./models/Line2_batch128.h5')\n",
    "loaded_model_256 = load_model('./models/Line2_batch256.h5')\n",
    "\n",
    "# 검증셋에 대해 예측 수행\n",
    "pred_scaled_32 = loaded_model_32.predict(val_gen)\n",
    "pred_scaled_64 = loaded_model_64.predict(val_gen)\n",
    "pred_scaled_128 = loaded_model_128.predict(val_gen)\n",
    "pred_scaled_256 = loaded_model_256.predict(val_gen)\n",
    "\n",
    "# 정규화 해제 (역정규화) → 실제 혼잡도 단위로 복원\n",
    "pred_32 = ss.inverse_transform(pred_scaled_32)\n",
    "pred_64 = ss.inverse_transform(pred_scaled_64)\n",
    "pred_128 = ss.inverse_transform(pred_scaled_128)\n",
    "pred_256 = ss.inverse_transform(pred_scaled_256)\n",
    "\n",
    "# 실제 y도 시계열 슬라이싱 기준에 맞게 자르기\n",
    "true = ss.inverse_transform(val_y[sequence_length:])"
   ]
  },
  {
   "cell_type": "code",
   "execution_count": null,
   "id": "B5n7cQDhYnNH",
   "metadata": {
    "id": "B5n7cQDhYnNH",
    "outputId": "a788503d-e9e6-41d0-ae69-2616f2d0ca09"
   },
   "outputs": [
    {
     "name": "stdout",
     "output_type": "stream",
     "text": [
      "✅batch size = 32\n",
      " 검증 RMSE: 4.0428\n",
      " R² Score: 0.9709\n",
      "\n",
      "✅batch size = 64\n",
      " 검증 RMSE: 4.6141\n",
      " R² Score: 0.9620\n",
      "\n",
      "✅batch size = 128\n",
      " 검증 RMSE: 4.8596\n",
      " R² Score: 0.9579\n",
      "\n",
      "✅batch size = 256\n",
      " 검증 RMSE: 4.6932\n",
      " R² Score: 0.9607\n"
     ]
    }
   ],
   "source": [
    "# 평가 지표 계산\n",
    "rmse_32 = mean_squared_error(true, pred_32, squared=False)  # RMSE\n",
    "r2_32 = r2_score(true, pred_32)                             # R² Score\n",
    "rmse_64 = mean_squared_error(true, pred_64, squared=False)  # RMSE\n",
    "r2_64 = r2_score(true, pred_64)                             # R² Score\n",
    "rmse_128 = mean_squared_error(true, pred_128, squared=False)  # RMSE\n",
    "r2_128 = r2_score(true, pred_128)                             # R² Score\n",
    "rmse_256 = mean_squared_error(true, pred_256, squared=False)  # RMSE\n",
    "r2_256 = r2_score(true, pred_256)                             # R² Score\n",
    "\n",
    "# 결과 출력\n",
    "print('✅Line2 batch size = 32')\n",
    "print(f\" 검증 RMSE: {rmse_32:.4f}\")\n",
    "print(f\" R² Score: {r2_32:.4f}\")\n",
    "print()\n",
    "print('✅Line2 batch size = 64')\n",
    "print(f\" 검증 RMSE: {rmse_64:.4f}\")\n",
    "print(f\" R² Score: {r2_64:.4f}\")\n",
    "print()\n",
    "print('✅Line2 batch size = 128')\n",
    "print(f\" 검증 RMSE: {rmse_128:.4f}\")\n",
    "print(f\" R² Score: {r2_128:.4f}\")\n",
    "print()\n",
    "print('✅Line2 batch size = 256')\n",
    "print(f\" 검증 RMSE: {rmse_256:.4f}\")\n",
    "print(f\" R² Score: {r2_256:.4f}\")"
   ]
  },
  {
   "cell_type": "markdown",
   "id": "qIR1DBDXYT73",
   "metadata": {
    "id": "qIR1DBDXYT73"
   },
   "source": [
    "# 3호선"
   ]
  },
  {
   "cell_type": "markdown",
   "id": "l3dO_WXNYq1z",
   "metadata": {
    "id": "l3dO_WXNYq1z",
    "jp-MarkdownHeadingCollapsed": true
   },
   "source": [
    "## 3호선 데이터 불러오기"
   ]
  },
  {
   "cell_type": "code",
   "execution_count": null,
   "id": "O_Mb-4i8Yq1z",
   "metadata": {
    "id": "O_Mb-4i8Yq1z"
   },
   "outputs": [],
   "source": [
    "df1 = df[df['호선'] == 3].copy()\n",
    "cols = ['연도', '호선','상하구분','AWS지점코드']\n",
    "for col in cols:\n",
    "    df1[col] = df1[col].astype('category')\n",
    "\n",
    "# 시 (0~23 기준)\n",
    "df1['시_sin'] = np.sin(2 * np.pi * df1['시'] / 24)\n",
    "df1['시_cos'] = np.cos(2 * np.pi * df1['시'] / 24)\n",
    "\n",
    "# 요일 (0~6 기준, 월~일)\n",
    "df1['요일_sin'] = np.sin(2 * np.pi * df1['요일'] / 7)\n",
    "df1['요일_cos'] = np.cos(2 * np.pi * df1['요일'] / 7)\n",
    "\n",
    "# 월, 일 (1~12, 1~31 기준)\n",
    "le = LabelEncoder()\n",
    "df['월'] = le.fit_transform(df['월'])\n",
    "df['일'] = le.fit_transform(df['일'])\n",
    "\n",
    "# 1. float64 → float32\n",
    "float_cols = df1.select_dtypes(include=['float64']).columns\n",
    "df1[float_cols] = df1[float_cols].astype('float32')\n",
    "\n",
    "# 2. int64 → int32\n",
    "int_cols = df1.select_dtypes(include=['int64']).columns\n",
    "df1[int_cols] = df1[int_cols].astype('int32')\n",
    "\n",
    "# 3. object(문자열) → category\n",
    "obj_cols = df1.select_dtypes(include=['object']).columns\n",
    "df1[obj_cols] = df1[obj_cols].astype('category')\n",
    "\n",
    "df1 = df1.drop(['시', '요일'], axis=1)\n",
    "df1.info()\n",
    "\n",
    "# ✅ [1] 피처 구성 및 전처리 --------------------------------------------------------\n",
    "\n",
    "# 🎯 타겟 변수 '혼잡도' 제거하여 X 생성\n",
    "X = df1.drop(['혼잡도', '시간'], axis=1)\n",
    "\n",
    "# 🔤 범주형 변수 원-핫 인코딩 (첫 번째 카테고리는 drop)\n",
    "o_h_e_x = pd.get_dummies(X, columns=['연도', '역명', '호선', '상하구분', 'AWS지점코드'], drop_first=True)\n",
    "\n",
    "# 🔢 X 정규화 (0~1 범위로 스케일링)\n",
    "mm = MinMaxScaler()\n",
    "mm_x = mm.fit_transform(o_h_e_x)\n",
    "\n",
    "# 🎯 y 정규화 (표준화: 평균 0, 표준편차 1)\n",
    "y = df1[['혼잡도']]  # 2D로 유지\n",
    "ss = StandardScaler()\n",
    "ss_y = ss.fit_transform(y)\n",
    "\n",
    "# ✅ [2] 시계열 학습/검증 데이터 분할 --------------------------------------------------\n",
    "\n",
    "# 전체의 80%를 학습용, 나머지 20%를 검증용으로 사용\n",
    "split_index = int(len(mm_x) * 0.8)\n",
    "\n",
    "train_x = mm_x[:split_index]\n",
    "train_y = ss_y[:split_index]\n",
    "\n",
    "val_x = mm_x[split_index:]\n",
    "val_y = ss_y[split_index:]"
   ]
  },
  {
   "cell_type": "markdown",
   "id": "j5TWqGfwYq10",
   "metadata": {
    "id": "j5TWqGfwYq10",
    "jp-MarkdownHeadingCollapsed": true
   },
   "source": [
    "## 배치사이즈 32"
   ]
  },
  {
   "cell_type": "code",
   "execution_count": null,
   "id": "_8504YTKYq10",
   "metadata": {
    "id": "_8504YTKYq10",
    "outputId": "d9606101-e4e2-4e4e-f4ef-1f38a51dbfbc"
   },
   "outputs": [
    {
     "name": "stdout",
     "output_type": "stream",
     "text": [
      "Epoch 1/50\n",
      "54544/68303 [======================>.......] - ETA: 4:07 - loss: 0.1269"
     ]
    },
    {
     "name": "stderr",
     "output_type": "stream",
     "text": [
      "\n",
      "KeyboardInterrupt\n",
      "\n"
     ]
    }
   ],
   "source": [
    "# ✅ [3] 시계열 데이터 생성 -----------------------------------------------------------\n",
    "from tensorflow.keras.callbacks import ModelCheckpoint\n",
    "\n",
    "line = 3\n",
    "batch_size = 32\n",
    "save_path = './models/Line{}_batch{}.h5'.format(line, batch_size)\n",
    "\n",
    "# ✅ ModelCheckpoint 콜백 추가 ---------------------------------------\n",
    "checkpoint = ModelCheckpoint(\n",
    "    filepath=save_path,         # 저장할 모델 파일명\n",
    "    monitor='val_loss',               # 검증 손실 기준\n",
    "    save_best_only=True,              # 가장 성능 좋은 모델만 저장\n",
    "    save_weights_only=False,          # 전체 모델 저장 (구조 + 가중치)\n",
    "    verbose=1                         # 저장될 때마다 메시지 출력\n",
    ")\n",
    "\n",
    "\n",
    "# 과거 21시간 데이터를 기반으로 예측\n",
    "sequence_length = 21\n",
    "\n",
    "\n",
    "# TimeseriesGenerator를 통해 시계열 학습/검증셋 생성\n",
    "train_gen = TimeseriesGenerator(train_x, train_y, length=sequence_length, batch_size=batch_size)\n",
    "val_gen   = TimeseriesGenerator(val_x, val_y, length=sequence_length, batch_size=batch_size)\n",
    "\n",
    "# ✅ [4] LSTM 모델 정의 및 학습 --------------------------------------------------------\n",
    "\n",
    "# 딥러닝 모델 구조 정의\n",
    "Line3_model_batch32 = Sequential([\n",
    "    Input(shape=(sequence_length, train_x.shape[1])),  # (timesteps, features)\n",
    "    LSTM(64, return_sequences=True),   # 첫 번째 LSTM: 시퀀스 출력 유지\n",
    "    Dropout(0.2),\n",
    "    LSTM(32),                          # 두 번째 LSTM: 최종 출력만 반환\n",
    "    Dropout(0.2),\n",
    "    Dense(1)                           # 예측값 하나 출력 (혼잡도)\n",
    "])\n",
    "\n",
    "# 모델 컴파일\n",
    "Line3_model_batch32.compile(loss='mse', optimizer=Adam(0.001))\n",
    "\n",
    "# 콜백 설정\n",
    "early_stop = EarlyStopping(monitor='val_loss', patience=3, restore_best_weights=True)\n",
    "reduce_lr = ReduceLROnPlateau(monitor='val_loss', patience=2, factor=0.5)\n",
    "\n",
    "# 모델 학습\n",
    "history_Line3_batch32 = Line3_model_batch32.fit(train_gen, validation_data=val_gen, epochs=50, callbacks=[\n",
    "                                                                              early_stop\n",
    "                                                                              ,reduce_lr\n",
    "                                                                            ,checkpoint])"
   ]
  },
  {
   "cell_type": "code",
   "execution_count": null,
   "id": "TrtVnb4jYq10",
   "metadata": {
    "id": "TrtVnb4jYq10"
   },
   "outputs": [],
   "source": [
    "# 📊 학습 및 검증 손실 시각화\n",
    "plt.figure(figsize=(10, 5))\n",
    "plt.plot(history_Line3_batch32.history['loss'], label='Train Loss')\n",
    "plt.plot(history_Line3_batch32.history['val_loss'], label='Validation Loss')\n",
    "plt.title('Line3 / Batch 32 - Training & Validation Loss')\n",
    "plt.xlabel('Epoch')\n",
    "plt.ylabel('Loss (MSE)')\n",
    "plt.legend()\n",
    "plt.grid(True)\n",
    "plt.show()"
   ]
  },
  {
   "cell_type": "markdown",
   "id": "Rb-oXrZZYq10",
   "metadata": {
    "id": "Rb-oXrZZYq10",
    "jp-MarkdownHeadingCollapsed": true
   },
   "source": [
    "## 배치사이즈 64"
   ]
  },
  {
   "cell_type": "code",
   "execution_count": null,
   "id": "QfH7ZxJKYq10",
   "metadata": {
    "id": "QfH7ZxJKYq10",
    "outputId": "d5e9bdc8-1bbb-4760-8090-c3e2908a92af",
    "scrolled": true
   },
   "outputs": [
    {
     "name": "stdout",
     "output_type": "stream",
     "text": [
      "Epoch 1/50\n",
      "31575/34152 [==========================>...] - ETA: 1:02 - loss: 0.1445"
     ]
    }
   ],
   "source": [
    "# ✅ [3] 시계열 데이터 생성 -----------------------------------------------------------\n",
    "from tensorflow.keras.callbacks import ModelCheckpoint\n",
    "\n",
    "line = 3\n",
    "batch_size = 64\n",
    "save_path = './models/Line{}_batch{}.h5'.format(line, batch_size)\n",
    "\n",
    "# ✅ ModelCheckpoint 콜백 추가 ---------------------------------------\n",
    "checkpoint = ModelCheckpoint(\n",
    "    filepath=save_path,         # 저장할 모델 파일명\n",
    "    monitor='val_loss',               # 검증 손실 기준\n",
    "    save_best_only=True,              # 가장 성능 좋은 모델만 저장\n",
    "    save_weights_only=False,          # 전체 모델 저장 (구조 + 가중치)\n",
    "    verbose=1                         # 저장될 때마다 메시지 출력\n",
    ")\n",
    "\n",
    "\n",
    "# 과거 21시간 데이터를 기반으로 예측\n",
    "sequence_length = 21\n",
    "\n",
    "# TimeseriesGenerator를 통해 시계열 학습/검증셋 생성\n",
    "train_gen = TimeseriesGenerator(train_x, train_y, length=sequence_length, batch_size=batch_size)\n",
    "val_gen   = TimeseriesGenerator(val_x, val_y, length=sequence_length, batch_size=batch_size)\n",
    "\n",
    "# ✅ [4] LSTM 모델 정의 및 학습 --------------------------------------------------------\n",
    "\n",
    "# 딥러닝 모델 구조 정의\n",
    "Line3_model_batch64 = Sequential([\n",
    "    Input(shape=(sequence_length, train_x.shape[1])),  # (timesteps, features)\n",
    "    LSTM(64, return_sequences=True),   # 첫 번째 LSTM: 시퀀스 출력 유지\n",
    "    Dropout(0.2),\n",
    "    LSTM(32),                          # 두 번째 LSTM: 최종 출력만 반환\n",
    "    Dropout(0.2),\n",
    "    Dense(1)                           # 예측값 하나 출력 (혼잡도)\n",
    "])\n",
    "\n",
    "# 모델 컴파일\n",
    "Line3_model_batch64.compile(loss='mse', optimizer=Adam(0.001))\n",
    "\n",
    "# 콜백 설정\n",
    "early_stop = EarlyStopping(monitor='val_loss', patience=3, restore_best_weights=True)\n",
    "reduce_lr = ReduceLROnPlateau(monitor='val_loss', patience=2, factor=0.5)\n",
    "\n",
    "# 모델 학습\n",
    "history_Line3_batch64 = Line3_model_batch64.fit(train_gen, validation_data=val_gen, epochs=50, callbacks=[\n",
    "                                                                              early_stop,\n",
    "                                                                              reduce_lr\n",
    "                                                                            ,checkpoint])"
   ]
  },
  {
   "cell_type": "code",
   "execution_count": null,
   "id": "My4IS-F4Yq10",
   "metadata": {
    "id": "My4IS-F4Yq10"
   },
   "outputs": [],
   "source": [
    "# 📊 학습 및 검증 손실 시각화\n",
    "plt.figure(figsize=(10, 5))\n",
    "plt.plot(history_Line3_batch64.history['loss'], label='Train Loss')\n",
    "plt.plot(history_Line3_batch64.history['val_loss'], label='Validation Loss')\n",
    "plt.title('Line3 / Batch 64 - Training & Validation Loss')\n",
    "plt.xlabel('Epoch')\n",
    "plt.ylabel('Loss (MSE)')\n",
    "plt.legend()\n",
    "plt.grid(True)\n",
    "plt.show()"
   ]
  },
  {
   "cell_type": "markdown",
   "id": "xlKqAoC4Yq10",
   "metadata": {
    "id": "xlKqAoC4Yq10",
    "jp-MarkdownHeadingCollapsed": true
   },
   "source": [
    "## 배치사이즈 128"
   ]
  },
  {
   "cell_type": "code",
   "execution_count": null,
   "id": "frCyw6RPYq10",
   "metadata": {
    "id": "frCyw6RPYq10",
    "scrolled": true
   },
   "outputs": [],
   "source": [
    "# ✅ [3] 시계열 데이터 생성 -----------------------------------------------------------\n",
    "from tensorflow.keras.callbacks import ModelCheckpoint\n",
    "\n",
    "line = 3\n",
    "batch_size = 128\n",
    "save_path = './models/Line{}_batch{}.h5'.format(line, batch_size)\n",
    "\n",
    "# ✅ ModelCheckpoint 콜백 추가 ---------------------------------------\n",
    "checkpoint = ModelCheckpoint(\n",
    "    filepath=save_path,         # 저장할 모델 파일명\n",
    "    monitor='val_loss',               # 검증 손실 기준\n",
    "    save_best_only=True,              # 가장 성능 좋은 모델만 저장\n",
    "    save_weights_only=False,          # 전체 모델 저장 (구조 + 가중치)\n",
    "    verbose=1                         # 저장될 때마다 메시지 출력\n",
    ")\n",
    "\n",
    "\n",
    "# 과거 21시간 데이터를 기반으로 예측\n",
    "sequence_length = 21\n",
    "\n",
    "# TimeseriesGenerator를 통해 시계열 학습/검증셋 생성\n",
    "train_gen = TimeseriesGenerator(train_x, train_y, length=sequence_length, batch_size=batch_size)\n",
    "val_gen   = TimeseriesGenerator(val_x, val_y, length=sequence_length, batch_size=batch_size)\n",
    "\n",
    "# ✅ [4] LSTM 모델 정의 및 학습 --------------------------------------------------------\n",
    "\n",
    "# 딥러닝 모델 구조 정의\n",
    "Line3_model_batch128 = Sequential([\n",
    "    Input(shape=(sequence_length, train_x.shape[1])),  # (timesteps, features)\n",
    "    LSTM(64, return_sequences=True),   # 첫 번째 LSTM: 시퀀스 출력 유지\n",
    "    Dropout(0.2),\n",
    "    LSTM(32),                          # 두 번째 LSTM: 최종 출력만 반환\n",
    "    Dropout(0.2),\n",
    "    Dense(1)                           # 예측값 하나 출력 (혼잡도)\n",
    "])\n",
    "\n",
    "# 모델 컴파일\n",
    "Line3_model_batch128.compile(loss='mse', optimizer=Adam(0.001))\n",
    "\n",
    "# 콜백 설정\n",
    "early_stop = EarlyStopping(monitor='val_loss', patience=3, restore_best_weights=True)\n",
    "reduce_lr = ReduceLROnPlateau(monitor='val_loss', patience=2, factor=0.5)\n",
    "\n",
    "# 모델 학습\n",
    "history_Line3_batch128 = Line3_model_batch128.fit(train_gen, validation_data=val_gen, epochs=50, callbacks=[\n",
    "                                                                              early_stop,\n",
    "                                                                              reduce_lr\n",
    "                                                                            ,checkpoint])"
   ]
  },
  {
   "cell_type": "code",
   "execution_count": null,
   "id": "9nkSNtP4Yq10",
   "metadata": {
    "id": "9nkSNtP4Yq10",
    "outputId": "9f074081-580d-41f1-dcdf-fb023c56ae2f",
    "scrolled": true
   },
   "outputs": [
    {
     "data": {
      "image/png": "[encoded data removed]",
      "text/plain": [
       "<Figure size 1000x500 with 1 Axes>"
      ]
     },
     "metadata": {},
     "output_type": "display_data"
    }
   ],
   "source": [
    "# 📊 학습 및 검증 손실 시각화\n",
    "plt.figure(figsize=(10, 5))\n",
    "plt.plot(history_Line3_batch128.history['loss'], label='Train Loss')\n",
    "plt.plot(history_Line3_batch128.history['val_loss'], label='Validation Loss')\n",
    "plt.title('Line3 / Batch 128 - Training & Validation Loss')\n",
    "plt.xlabel('Epoch')\n",
    "plt.ylabel('Loss (MSE)')\n",
    "plt.legend()\n",
    "plt.grid(True)\n",
    "plt.show()"
   ]
  },
  {
   "cell_type": "markdown",
   "id": "im7XkqKHYq11",
   "metadata": {
    "id": "im7XkqKHYq11",
    "jp-MarkdownHeadingCollapsed": true
   },
   "source": [
    "## 배치사이즈 256"
   ]
  },
  {
   "cell_type": "code",
   "execution_count": null,
   "id": "DPmgdTSmYq11",
   "metadata": {
    "id": "DPmgdTSmYq11"
   },
   "outputs": [],
   "source": [
    "# ✅ [3] 시계열 데이터 생성 -----------------------------------------------------------\n",
    "from tensorflow.keras.callbacks import ModelCheckpoint\n",
    "\n",
    "line = 3\n",
    "batch_size = 256\n",
    "save_path = './models/Line{}_batch{}.h5'.format(line, batch_size)\n",
    "\n",
    "# ✅ ModelCheckpoint 콜백 추가 ---------------------------------------\n",
    "checkpoint = ModelCheckpoint(\n",
    "    filepath=save_path,         # 저장할 모델 파일명\n",
    "    monitor='val_loss',               # 검증 손실 기준\n",
    "    save_best_only=True,              # 가장 성능 좋은 모델만 저장\n",
    "    save_weights_only=False,          # 전체 모델 저장 (구조 + 가중치)\n",
    "    verbose=1                         # 저장될 때마다 메시지 출력\n",
    ")\n",
    "\n",
    "\n",
    "# 과거 21시간 데이터를 기반으로 예측\n",
    "sequence_length = 21\n",
    "\n",
    "# TimeseriesGenerator를 통해 시계열 학습/검증셋 생성\n",
    "train_gen = TimeseriesGenerator(train_x, train_y, length=sequence_length, batch_size=batch_size)\n",
    "val_gen   = TimeseriesGenerator(val_x, val_y, length=sequence_length, batch_size=batch_size)\n",
    "\n",
    "# ✅ [4] LSTM 모델 정의 및 학습 --------------------------------------------------------\n",
    "\n",
    "# 딥러닝 모델 구조 정의\n",
    "Line3_model_batch256 = Sequential([\n",
    "    Input(shape=(sequence_length, train_x.shape[1])),  # (timesteps, features)\n",
    "    LSTM(64, return_sequences=True),   # 첫 번째 LSTM: 시퀀스 출력 유지\n",
    "    Dropout(0.2),\n",
    "    LSTM(32),                          # 두 번째 LSTM: 최종 출력만 반환\n",
    "    Dropout(0.2),\n",
    "    Dense(1)                           # 예측값 하나 출력 (혼잡도)\n",
    "])\n",
    "\n",
    "# 모델 컴파일\n",
    "Line3_model_batch256.compile(loss='mse', optimizer=Adam(0.001))\n",
    "\n",
    "# 콜백 설정\n",
    "early_stop = EarlyStopping(monitor='val_loss', patience=3, restore_best_weights=True)\n",
    "reduce_lr = ReduceLROnPlateau(monitor='val_loss', patience=2, factor=0.5)\n",
    "\n",
    "# 모델 학습\n",
    "history_Line3_batch256 = Line3_model_batch256.fit(train_gen, validation_data=val_gen, epochs=50, callbacks=[\n",
    "                                                                              early_stop,\n",
    "                                                                              reduce_lr\n",
    "                                                                            ,checkpoint])"
   ]
  },
  {
   "cell_type": "code",
   "execution_count": null,
   "id": "hAtI0rqYYq11",
   "metadata": {
    "id": "hAtI0rqYYq11"
   },
   "outputs": [],
   "source": [
    "# 📊 학습 및 검증 손실 시각화\n",
    "plt.figure(figsize=(10, 5))\n",
    "plt.plot(history_Line3_batch256.history['loss'], label='Train Loss')\n",
    "plt.plot(history_Line3_batch256.history['val_loss'], label='Validation Loss')\n",
    "plt.title('Line3 / Batch 256 - Training & Validation Loss')\n",
    "plt.xlabel('Epoch')\n",
    "plt.ylabel('Loss (MSE)')\n",
    "plt.legend()\n",
    "plt.grid(True)\n",
    "plt.show()"
   ]
  },
  {
   "cell_type": "markdown",
   "id": "ydadRep1Yq11",
   "metadata": {
    "id": "ydadRep1Yq11",
    "jp-MarkdownHeadingCollapsed": true
   },
   "source": [
    "## 3호선 모델 성능 테스트"
   ]
  },
  {
   "cell_type": "code",
   "execution_count": null,
   "id": "uKTW8nRrYq11",
   "metadata": {
    "id": "uKTW8nRrYq11"
   },
   "outputs": [],
   "source": [
    "plt.rcParams['font.family']='Malgun Gothic'"
   ]
  },
  {
   "cell_type": "code",
   "execution_count": null,
   "id": "bNsKJ12sYq11",
   "metadata": {
    "id": "bNsKJ12sYq11"
   },
   "outputs": [],
   "source": [
    "# ✅ [5] 예측 및 평가 ---------------------------------------------------------------\n",
    "from tensorflow.keras.models import load_model\n",
    "loaded_model_32 = load_model('./models/Line3_batch32.h5')\n",
    "loaded_model_64 = load_model('./models/Line3_batch64.h5')\n",
    "loaded_model_128 = load_model('./models/Line3_batch128.h5')\n",
    "loaded_model_256 = load_model('./models/Line3_batch256.h5')\n",
    "\n",
    "# 검증셋에 대해 예측 수행\n",
    "pred_scaled_32 = loaded_model_32.predict(val_gen)\n",
    "pred_scaled_64 = loaded_model_64.predict(val_gen)\n",
    "pred_scaled_128 = loaded_model_128.predict(val_gen)\n",
    "pred_scaled_256 = loaded_model_256.predict(val_gen)\n",
    "\n",
    "# 정규화 해제 (역정규화) → 실제 혼잡도 단위로 복원\n",
    "pred_32 = ss.inverse_transform(pred_scaled_32)\n",
    "pred_64 = ss.inverse_transform(pred_scaled_64)\n",
    "pred_128 = ss.inverse_transform(pred_scaled_128)\n",
    "pred_256 = ss.inverse_transform(pred_scaled_256)\n",
    "\n",
    "# 실제 y도 시계열 슬라이싱 기준에 맞게 자르기\n",
    "true = ss.inverse_transform(val_y[sequence_length:])"
   ]
  },
  {
   "cell_type": "code",
   "execution_count": null,
   "id": "42p1_QuuYq11",
   "metadata": {
    "id": "42p1_QuuYq11",
    "outputId": "a788503d-e9e6-41d0-ae69-2616f2d0ca09"
   },
   "outputs": [
    {
     "name": "stdout",
     "output_type": "stream",
     "text": [
      "✅batch size = 32\n",
      " 검증 RMSE: 4.0428\n",
      " R² Score: 0.9709\n",
      "\n",
      "✅batch size = 64\n",
      " 검증 RMSE: 4.6141\n",
      " R² Score: 0.9620\n",
      "\n",
      "✅batch size = 128\n",
      " 검증 RMSE: 4.8596\n",
      " R² Score: 0.9579\n",
      "\n",
      "✅batch size = 256\n",
      " 검증 RMSE: 4.6932\n",
      " R² Score: 0.9607\n"
     ]
    }
   ],
   "source": [
    "# 평가 지표 계산\n",
    "rmse_32 = mean_squared_error(true, pred_32, squared=False)  # RMSE\n",
    "r2_32 = r2_score(true, pred_32)                             # R² Score\n",
    "rmse_64 = mean_squared_error(true, pred_64, squared=False)  # RMSE\n",
    "r2_64 = r2_score(true, pred_64)                             # R² Score\n",
    "rmse_128 = mean_squared_error(true, pred_128, squared=False)  # RMSE\n",
    "r2_128 = r2_score(true, pred_128)                             # R² Score\n",
    "rmse_256 = mean_squared_error(true, pred_256, squared=False)  # RMSE\n",
    "r2_256 = r2_score(true, pred_256)                             # R² Score\n",
    "\n",
    "# 결과 출력\n",
    "print('✅Line3 batch size = 32')\n",
    "print(f\" 검증 RMSE: {rmse_32:.4f}\")\n",
    "print(f\" R² Score: {r2_32:.4f}\")\n",
    "print()\n",
    "print('✅Line3 batch size = 64')\n",
    "print(f\" 검증 RMSE: {rmse_64:.4f}\")\n",
    "print(f\" R² Score: {r2_64:.4f}\")\n",
    "print()\n",
    "print('✅Line3 batch size = 128')\n",
    "print(f\" 검증 RMSE: {rmse_128:.4f}\")\n",
    "print(f\" R² Score: {r2_128:.4f}\")\n",
    "print()\n",
    "print('✅Line3 batch size = 256')\n",
    "print(f\" 검증 RMSE: {rmse_256:.4f}\")\n",
    "print(f\" R² Score: {r2_256:.4f}\")"
   ]
  },
  {
   "cell_type": "markdown",
   "id": "wGLER5zhYTzi",
   "metadata": {
    "id": "wGLER5zhYTzi"
   },
   "source": [
    "# 4호선"
   ]
  },
  {
   "cell_type": "markdown",
   "id": "rQm1S2xDYre9",
   "metadata": {
    "id": "rQm1S2xDYre9",
    "jp-MarkdownHeadingCollapsed": true
   },
   "source": [
    "## 4호선 데이터 불러오기"
   ]
  },
  {
   "cell_type": "code",
   "execution_count": null,
   "id": "qHbX-olwYre9",
   "metadata": {
    "id": "qHbX-olwYre9"
   },
   "outputs": [],
   "source": [
    "df1 = df[df['호선'] == 4].copy()\n",
    "cols = ['연도', '호선','상하구분','AWS지점코드']\n",
    "for col in cols:\n",
    "    df1[col] = df1[col].astype('category')\n",
    "\n",
    "# 시 (0~23 기준)\n",
    "df1['시_sin'] = np.sin(2 * np.pi * df1['시'] / 24)\n",
    "df1['시_cos'] = np.cos(2 * np.pi * df1['시'] / 24)\n",
    "\n",
    "# 요일 (0~6 기준, 월~일)\n",
    "df1['요일_sin'] = np.sin(2 * np.pi * df1['요일'] / 7)\n",
    "df1['요일_cos'] = np.cos(2 * np.pi * df1['요일'] / 7)\n",
    "\n",
    "# 월, 일 (1~12, 1~31 기준)\n",
    "le = LabelEncoder()\n",
    "df['월'] = le.fit_transform(df['월'])\n",
    "df['일'] = le.fit_transform(df['일'])\n",
    "\n",
    "# 1. float64 → float32\n",
    "float_cols = df1.select_dtypes(include=['float64']).columns\n",
    "df1[float_cols] = df1[float_cols].astype('float32')\n",
    "\n",
    "# 2. int64 → int32\n",
    "int_cols = df1.select_dtypes(include=['int64']).columns\n",
    "df1[int_cols] = df1[int_cols].astype('int32')\n",
    "\n",
    "# 3. object(문자열) → category\n",
    "obj_cols = df1.select_dtypes(include=['object']).columns\n",
    "df1[obj_cols] = df1[obj_cols].astype('category')\n",
    "\n",
    "df1 = df1.drop(['시', '요일'], axis=1)\n",
    "df1.info()\n",
    "\n",
    "# ✅ [1] 피처 구성 및 전처리 --------------------------------------------------------\n",
    "\n",
    "# 🎯 타겟 변수 '혼잡도' 제거하여 X 생성\n",
    "X = df1.drop(['혼잡도', '시간'], axis=1)\n",
    "\n",
    "# 🔤 범주형 변수 원-핫 인코딩 (첫 번째 카테고리는 drop)\n",
    "o_h_e_x = pd.get_dummies(X, columns=['연도', '역명', '호선', '상하구분', 'AWS지점코드'], drop_first=True)\n",
    "\n",
    "# 🔢 X 정규화 (0~1 범위로 스케일링)\n",
    "mm = MinMaxScaler()\n",
    "mm_x = mm.fit_transform(o_h_e_x)\n",
    "\n",
    "# 🎯 y 정규화 (표준화: 평균 0, 표준편차 1)\n",
    "y = df1[['혼잡도']]  # 2D로 유지\n",
    "ss = StandardScaler()\n",
    "ss_y = ss.fit_transform(y)\n",
    "\n",
    "# ✅ [2] 시계열 학습/검증 데이터 분할 --------------------------------------------------\n",
    "\n",
    "# 전체의 80%를 학습용, 나머지 20%를 검증용으로 사용\n",
    "split_index = int(len(mm_x) * 0.8)\n",
    "\n",
    "train_x = mm_x[:split_index]\n",
    "train_y = ss_y[:split_index]\n",
    "\n",
    "val_x = mm_x[split_index:]\n",
    "val_y = ss_y[split_index:]"
   ]
  },
  {
   "cell_type": "markdown",
   "id": "cetTTOqIYre9",
   "metadata": {
    "id": "cetTTOqIYre9",
    "jp-MarkdownHeadingCollapsed": true
   },
   "source": [
    "## 배치사이즈 32"
   ]
  },
  {
   "cell_type": "code",
   "execution_count": null,
   "id": "g_koADZdYre9",
   "metadata": {
    "id": "g_koADZdYre9",
    "outputId": "d9606101-e4e2-4e4e-f4ef-1f38a51dbfbc"
   },
   "outputs": [
    {
     "name": "stdout",
     "output_type": "stream",
     "text": [
      "Epoch 1/50\n",
      "54544/68303 [======================>.......] - ETA: 4:07 - loss: 0.1269"
     ]
    },
    {
     "name": "stderr",
     "output_type": "stream",
     "text": [
      "\n",
      "KeyboardInterrupt\n",
      "\n"
     ]
    }
   ],
   "source": [
    "# ✅ [3] 시계열 데이터 생성 -----------------------------------------------------------\n",
    "from tensorflow.keras.callbacks import ModelCheckpoint\n",
    "\n",
    "line = 4\n",
    "batch_size = 32\n",
    "save_path = './models/Line{}_batch{}.h5'.format(line, batch_size)\n",
    "\n",
    "# ✅ ModelCheckpoint 콜백 추가 ---------------------------------------\n",
    "checkpoint = ModelCheckpoint(\n",
    "    filepath=save_path,         # 저장할 모델 파일명\n",
    "    monitor='val_loss',               # 검증 손실 기준\n",
    "    save_best_only=True,              # 가장 성능 좋은 모델만 저장\n",
    "    save_weights_only=False,          # 전체 모델 저장 (구조 + 가중치)\n",
    "    verbose=1                         # 저장될 때마다 메시지 출력\n",
    ")\n",
    "\n",
    "\n",
    "# 과거 21시간 데이터를 기반으로 예측\n",
    "sequence_length = 21\n",
    "\n",
    "\n",
    "# TimeseriesGenerator를 통해 시계열 학습/검증셋 생성\n",
    "train_gen = TimeseriesGenerator(train_x, train_y, length=sequence_length, batch_size=batch_size)\n",
    "val_gen   = TimeseriesGenerator(val_x, val_y, length=sequence_length, batch_size=batch_size)\n",
    "\n",
    "# ✅ [4] LSTM 모델 정의 및 학습 --------------------------------------------------------\n",
    "\n",
    "# 딥러닝 모델 구조 정의\n",
    "Line4_model_batch32 = Sequential([\n",
    "    Input(shape=(sequence_length, train_x.shape[1])),  # (timesteps, features)\n",
    "    LSTM(64, return_sequences=True),   # 첫 번째 LSTM: 시퀀스 출력 유지\n",
    "    Dropout(0.2),\n",
    "    LSTM(32),                          # 두 번째 LSTM: 최종 출력만 반환\n",
    "    Dropout(0.2),\n",
    "    Dense(1)                           # 예측값 하나 출력 (혼잡도)\n",
    "])\n",
    "\n",
    "# 모델 컴파일\n",
    "Line4_model_batch32.compile(loss='mse', optimizer=Adam(0.001))\n",
    "\n",
    "# 콜백 설정\n",
    "early_stop = EarlyStopping(monitor='val_loss', patience=3, restore_best_weights=True)\n",
    "reduce_lr = ReduceLROnPlateau(monitor='val_loss', patience=2, factor=0.5)\n",
    "\n",
    "# 모델 학습\n",
    "history_Line4_batch32 = Line4_model_batch32.fit(train_gen, validation_data=val_gen, epochs=50, callbacks=[\n",
    "                                                                              early_stop\n",
    "                                                                              ,reduce_lr\n",
    "                                                                            ,checkpoint])"
   ]
  },
  {
   "cell_type": "code",
   "execution_count": null,
   "id": "QFG-E_ORYre-",
   "metadata": {
    "id": "QFG-E_ORYre-"
   },
   "outputs": [],
   "source": [
    "# 📊 학습 및 검증 손실 시각화\n",
    "plt.figure(figsize=(10, 5))\n",
    "plt.plot(history_Line4_batch32.history['loss'], label='Train Loss')\n",
    "plt.plot(history_Line4_batch32.history['val_loss'], label='Validation Loss')\n",
    "plt.title('Line4 / Batch 32 - Training & Validation Loss')\n",
    "plt.xlabel('Epoch')\n",
    "plt.ylabel('Loss (MSE)')\n",
    "plt.legend()\n",
    "plt.grid(True)\n",
    "plt.show()"
   ]
  },
  {
   "cell_type": "markdown",
   "id": "rymPI-FIYre-",
   "metadata": {
    "id": "rymPI-FIYre-",
    "jp-MarkdownHeadingCollapsed": true
   },
   "source": [
    "## 배치사이즈 64"
   ]
  },
  {
   "cell_type": "code",
   "execution_count": null,
   "id": "xBbJ4uHtYre-",
   "metadata": {
    "id": "xBbJ4uHtYre-",
    "outputId": "d5e9bdc8-1bbb-4760-8090-c3e2908a92af",
    "scrolled": true
   },
   "outputs": [
    {
     "name": "stdout",
     "output_type": "stream",
     "text": [
      "Epoch 1/50\n",
      "31575/34152 [==========================>...] - ETA: 1:02 - loss: 0.1445"
     ]
    }
   ],
   "source": [
    "# ✅ [3] 시계열 데이터 생성 -----------------------------------------------------------\n",
    "from tensorflow.keras.callbacks import ModelCheckpoint\n",
    "\n",
    "line = 4\n",
    "batch_size = 64\n",
    "save_path = './models/Line{}_batch{}.h5'.format(line, batch_size)\n",
    "\n",
    "# ✅ ModelCheckpoint 콜백 추가 ---------------------------------------\n",
    "checkpoint = ModelCheckpoint(\n",
    "    filepath=save_path,         # 저장할 모델 파일명\n",
    "    monitor='val_loss',               # 검증 손실 기준\n",
    "    save_best_only=True,              # 가장 성능 좋은 모델만 저장\n",
    "    save_weights_only=False,          # 전체 모델 저장 (구조 + 가중치)\n",
    "    verbose=1                         # 저장될 때마다 메시지 출력\n",
    ")\n",
    "\n",
    "\n",
    "# 과거 21시간 데이터를 기반으로 예측\n",
    "sequence_length = 21\n",
    "\n",
    "# TimeseriesGenerator를 통해 시계열 학습/검증셋 생성\n",
    "train_gen = TimeseriesGenerator(train_x, train_y, length=sequence_length, batch_size=batch_size)\n",
    "val_gen   = TimeseriesGenerator(val_x, val_y, length=sequence_length, batch_size=batch_size)\n",
    "\n",
    "# ✅ [4] LSTM 모델 정의 및 학습 --------------------------------------------------------\n",
    "\n",
    "# 딥러닝 모델 구조 정의\n",
    "Line4_model_batch64 = Sequential([\n",
    "    Input(shape=(sequence_length, train_x.shape[1])),  # (timesteps, features)\n",
    "    LSTM(64, return_sequences=True),   # 첫 번째 LSTM: 시퀀스 출력 유지\n",
    "    Dropout(0.2),\n",
    "    LSTM(32),                          # 두 번째 LSTM: 최종 출력만 반환\n",
    "    Dropout(0.2),\n",
    "    Dense(1)                           # 예측값 하나 출력 (혼잡도)\n",
    "])\n",
    "\n",
    "# 모델 컴파일\n",
    "Line4_model_batch64.compile(loss='mse', optimizer=Adam(0.001))\n",
    "\n",
    "# 콜백 설정\n",
    "early_stop = EarlyStopping(monitor='val_loss', patience=3, restore_best_weights=True)\n",
    "reduce_lr = ReduceLROnPlateau(monitor='val_loss', patience=2, factor=0.5)\n",
    "\n",
    "# 모델 학습\n",
    "history_Line4_batch64 = Line4_model_batch64.fit(train_gen, validation_data=val_gen, epochs=50, callbacks=[\n",
    "                                                                              early_stop,\n",
    "                                                                              reduce_lr\n",
    "                                                                            ,checkpoint])"
   ]
  },
  {
   "cell_type": "code",
   "execution_count": null,
   "id": "47nBFZk1Yre-",
   "metadata": {
    "id": "47nBFZk1Yre-"
   },
   "outputs": [],
   "source": [
    "# 📊 학습 및 검증 손실 시각화\n",
    "plt.figure(figsize=(10, 5))\n",
    "plt.plot(history_Line4_batch64.history['loss'], label='Train Loss')\n",
    "plt.plot(history_Line4_batch64.history['val_loss'], label='Validation Loss')\n",
    "plt.title('Line4 / Batch 64 - Training & Validation Loss')\n",
    "plt.xlabel('Epoch')\n",
    "plt.ylabel('Loss (MSE)')\n",
    "plt.legend()\n",
    "plt.grid(True)\n",
    "plt.show()"
   ]
  },
  {
   "cell_type": "markdown",
   "id": "6QDYsk5LYre-",
   "metadata": {
    "id": "6QDYsk5LYre-",
    "jp-MarkdownHeadingCollapsed": true
   },
   "source": [
    "## 배치사이즈 128"
   ]
  },
  {
   "cell_type": "code",
   "execution_count": null,
   "id": "8cHNaImLYre-",
   "metadata": {
    "id": "8cHNaImLYre-",
    "scrolled": true
   },
   "outputs": [],
   "source": [
    "# ✅ [3] 시계열 데이터 생성 -----------------------------------------------------------\n",
    "from tensorflow.keras.callbacks import ModelCheckpoint\n",
    "\n",
    "line = 4\n",
    "batch_size = 128\n",
    "save_path = './models/Line{}_batch{}.h5'.format(line, batch_size)\n",
    "\n",
    "# ✅ ModelCheckpoint 콜백 추가 ---------------------------------------\n",
    "checkpoint = ModelCheckpoint(\n",
    "    filepath=save_path,         # 저장할 모델 파일명\n",
    "    monitor='val_loss',               # 검증 손실 기준\n",
    "    save_best_only=True,              # 가장 성능 좋은 모델만 저장\n",
    "    save_weights_only=False,          # 전체 모델 저장 (구조 + 가중치)\n",
    "    verbose=1                         # 저장될 때마다 메시지 출력\n",
    ")\n",
    "\n",
    "\n",
    "# 과거 21시간 데이터를 기반으로 예측\n",
    "sequence_length = 21\n",
    "\n",
    "# TimeseriesGenerator를 통해 시계열 학습/검증셋 생성\n",
    "train_gen = TimeseriesGenerator(train_x, train_y, length=sequence_length, batch_size=batch_size)\n",
    "val_gen   = TimeseriesGenerator(val_x, val_y, length=sequence_length, batch_size=batch_size)\n",
    "\n",
    "# ✅ [4] LSTM 모델 정의 및 학습 --------------------------------------------------------\n",
    "\n",
    "# 딥러닝 모델 구조 정의\n",
    "Line4_model_batch128 = Sequential([\n",
    "    Input(shape=(sequence_length, train_x.shape[1])),  # (timesteps, features)\n",
    "    LSTM(64, return_sequences=True),   # 첫 번째 LSTM: 시퀀스 출력 유지\n",
    "    Dropout(0.2),\n",
    "    LSTM(32),                          # 두 번째 LSTM: 최종 출력만 반환\n",
    "    Dropout(0.2),\n",
    "    Dense(1)                           # 예측값 하나 출력 (혼잡도)\n",
    "])\n",
    "\n",
    "# 모델 컴파일\n",
    "Line4_model_batch128.compile(loss='mse', optimizer=Adam(0.001))\n",
    "\n",
    "# 콜백 설정\n",
    "early_stop = EarlyStopping(monitor='val_loss', patience=3, restore_best_weights=True)\n",
    "reduce_lr = ReduceLROnPlateau(monitor='val_loss', patience=2, factor=0.5)\n",
    "\n",
    "# 모델 학습\n",
    "history_Line4_batch128 = Line4_model_batch128.fit(train_gen, validation_data=val_gen, epochs=50, callbacks=[\n",
    "                                                                              early_stop,\n",
    "                                                                              reduce_lr\n",
    "                                                                            ,checkpoint])"
   ]
  },
  {
   "cell_type": "code",
   "execution_count": null,
   "id": "pvb_1lBXYre-",
   "metadata": {
    "id": "pvb_1lBXYre-",
    "outputId": "9f074081-580d-41f1-dcdf-fb023c56ae2f",
    "scrolled": true
   },
   "outputs": [
    {
     "data": {
      "image/png": "[encoded data removed]",
      "text/plain": [
       "<Figure size 1000x500 with 1 Axes>"
      ]
     },
     "metadata": {},
     "output_type": "display_data"
    }
   ],
   "source": [
    "# 📊 학습 및 검증 손실 시각화\n",
    "plt.figure(figsize=(10, 5))\n",
    "plt.plot(history_Line4_batch128.history['loss'], label='Train Loss')\n",
    "plt.plot(history_Line4_batch128.history['val_loss'], label='Validation Loss')\n",
    "plt.title('Line4 / Batch 128 - Training & Validation Loss')\n",
    "plt.xlabel('Epoch')\n",
    "plt.ylabel('Loss (MSE)')\n",
    "plt.legend()\n",
    "plt.grid(True)\n",
    "plt.show()"
   ]
  },
  {
   "cell_type": "markdown",
   "id": "8i7ylQvtYre-",
   "metadata": {
    "id": "8i7ylQvtYre-",
    "jp-MarkdownHeadingCollapsed": true
   },
   "source": [
    "## 배치사이즈 256"
   ]
  },
  {
   "cell_type": "code",
   "execution_count": null,
   "id": "TCOZHXRFYre-",
   "metadata": {
    "id": "TCOZHXRFYre-"
   },
   "outputs": [],
   "source": [
    "# ✅ [3] 시계열 데이터 생성 -----------------------------------------------------------\n",
    "from tensorflow.keras.callbacks import ModelCheckpoint\n",
    "\n",
    "line = 4\n",
    "batch_size = 256\n",
    "save_path = './models/Line{}_batch{}.h5'.format(line, batch_size)\n",
    "\n",
    "# ✅ ModelCheckpoint 콜백 추가 ---------------------------------------\n",
    "checkpoint = ModelCheckpoint(\n",
    "    filepath=save_path,         # 저장할 모델 파일명\n",
    "    monitor='val_loss',               # 검증 손실 기준\n",
    "    save_best_only=True,              # 가장 성능 좋은 모델만 저장\n",
    "    save_weights_only=False,          # 전체 모델 저장 (구조 + 가중치)\n",
    "    verbose=1                         # 저장될 때마다 메시지 출력\n",
    ")\n",
    "\n",
    "\n",
    "# 과거 21시간 데이터를 기반으로 예측\n",
    "sequence_length = 21\n",
    "\n",
    "# TimeseriesGenerator를 통해 시계열 학습/검증셋 생성\n",
    "train_gen = TimeseriesGenerator(train_x, train_y, length=sequence_length, batch_size=batch_size)\n",
    "val_gen   = TimeseriesGenerator(val_x, val_y, length=sequence_length, batch_size=batch_size)\n",
    "\n",
    "# ✅ [4] LSTM 모델 정의 및 학습 --------------------------------------------------------\n",
    "\n",
    "# 딥러닝 모델 구조 정의\n",
    "Line4_model_batch256 = Sequential([\n",
    "    Input(shape=(sequence_length, train_x.shape[1])),  # (timesteps, features)\n",
    "    LSTM(64, return_sequences=True),   # 첫 번째 LSTM: 시퀀스 출력 유지\n",
    "    Dropout(0.2),\n",
    "    LSTM(32),                          # 두 번째 LSTM: 최종 출력만 반환\n",
    "    Dropout(0.2),\n",
    "    Dense(1)                           # 예측값 하나 출력 (혼잡도)\n",
    "])\n",
    "\n",
    "# 모델 컴파일\n",
    "Line4_model_batch256.compile(loss='mse', optimizer=Adam(0.001))\n",
    "\n",
    "# 콜백 설정\n",
    "early_stop = EarlyStopping(monitor='val_loss', patience=3, restore_best_weights=True)\n",
    "reduce_lr = ReduceLROnPlateau(monitor='val_loss', patience=2, factor=0.5)\n",
    "\n",
    "# 모델 학습\n",
    "history_Line4_batch256 = Line4_model_batch256.fit(train_gen, validation_data=val_gen, epochs=50, callbacks=[\n",
    "                                                                              early_stop,\n",
    "                                                                              reduce_lr\n",
    "                                                                            ,checkpoint])"
   ]
  },
  {
   "cell_type": "code",
   "execution_count": null,
   "id": "nmbbV-qEYre-",
   "metadata": {
    "id": "nmbbV-qEYre-"
   },
   "outputs": [],
   "source": [
    "# 📊 학습 및 검증 손실 시각화\n",
    "plt.figure(figsize=(10, 5))\n",
    "plt.plot(history_Line4_batch256.history['loss'], label='Train Loss')\n",
    "plt.plot(history_Line4_batch256.history['val_loss'], label='Validation Loss')\n",
    "plt.title('Line4 / Batch 256 - Training & Validation Loss')\n",
    "plt.xlabel('Epoch')\n",
    "plt.ylabel('Loss (MSE)')\n",
    "plt.legend()\n",
    "plt.grid(True)\n",
    "plt.show()"
   ]
  },
  {
   "cell_type": "markdown",
   "id": "Jk2d1wwOYre-",
   "metadata": {
    "id": "Jk2d1wwOYre-",
    "jp-MarkdownHeadingCollapsed": true
   },
   "source": [
    "## 4호선 모델 성능 테스트"
   ]
  },
  {
   "cell_type": "code",
   "execution_count": null,
   "id": "qbT3WfOSYre_",
   "metadata": {
    "id": "qbT3WfOSYre_"
   },
   "outputs": [],
   "source": [
    "plt.rcParams['font.family']='Malgun Gothic'"
   ]
  },
  {
   "cell_type": "code",
   "execution_count": null,
   "id": "S2OEhmUAYre_",
   "metadata": {
    "id": "S2OEhmUAYre_"
   },
   "outputs": [],
   "source": [
    "# ✅ [5] 예측 및 평가 ---------------------------------------------------------------\n",
    "from tensorflow.keras.models import load_model\n",
    "loaded_model_32 = load_model('./models/Line4_batch32.h5')\n",
    "loaded_model_64 = load_model('./models/Line4_batch64.h5')\n",
    "loaded_model_128 = load_model('./models/Line4_batch128.h5')\n",
    "loaded_model_256 = load_model('./models/Line4_batch256.h5')\n",
    "\n",
    "# 검증셋에 대해 예측 수행\n",
    "pred_scaled_32 = loaded_model_32.predict(val_gen)\n",
    "pred_scaled_64 = loaded_model_64.predict(val_gen)\n",
    "pred_scaled_128 = loaded_model_128.predict(val_gen)\n",
    "pred_scaled_256 = loaded_model_256.predict(val_gen)\n",
    "\n",
    "# 정규화 해제 (역정규화) → 실제 혼잡도 단위로 복원\n",
    "pred_32 = ss.inverse_transform(pred_scaled_32)\n",
    "pred_64 = ss.inverse_transform(pred_scaled_64)\n",
    "pred_128 = ss.inverse_transform(pred_scaled_128)\n",
    "pred_256 = ss.inverse_transform(pred_scaled_256)\n",
    "\n",
    "# 실제 y도 시계열 슬라이싱 기준에 맞게 자르기\n",
    "true = ss.inverse_transform(val_y[sequence_length:])"
   ]
  },
  {
   "cell_type": "code",
   "execution_count": null,
   "id": "kZ4fNQr7Yre_",
   "metadata": {
    "id": "kZ4fNQr7Yre_",
    "outputId": "a788503d-e9e6-41d0-ae69-2616f2d0ca09"
   },
   "outputs": [
    {
     "name": "stdout",
     "output_type": "stream",
     "text": [
      "✅batch size = 32\n",
      " 검증 RMSE: 4.0428\n",
      " R² Score: 0.9709\n",
      "\n",
      "✅batch size = 64\n",
      " 검증 RMSE: 4.6141\n",
      " R² Score: 0.9620\n",
      "\n",
      "✅batch size = 128\n",
      " 검증 RMSE: 4.8596\n",
      " R² Score: 0.9579\n",
      "\n",
      "✅batch size = 256\n",
      " 검증 RMSE: 4.6932\n",
      " R² Score: 0.9607\n"
     ]
    }
   ],
   "source": [
    "# 평가 지표 계산\n",
    "rmse_32 = mean_squared_error(true, pred_32, squared=False)  # RMSE\n",
    "r2_32 = r2_score(true, pred_32)                             # R² Score\n",
    "rmse_64 = mean_squared_error(true, pred_64, squared=False)  # RMSE\n",
    "r2_64 = r2_score(true, pred_64)                             # R² Score\n",
    "rmse_128 = mean_squared_error(true, pred_128, squared=False)  # RMSE\n",
    "r2_128 = r2_score(true, pred_128)                             # R² Score\n",
    "rmse_256 = mean_squared_error(true, pred_256, squared=False)  # RMSE\n",
    "r2_256 = r2_score(true, pred_256)                             # R² Score\n",
    "\n",
    "# 결과 출력\n",
    "print('✅Line4 batch size = 32')\n",
    "print(f\" 검증 RMSE: {rmse_32:.4f}\")\n",
    "print(f\" R² Score: {r2_32:.4f}\")\n",
    "print()\n",
    "print('✅Line4 batch size = 64')\n",
    "print(f\" 검증 RMSE: {rmse_64:.4f}\")\n",
    "print(f\" R² Score: {r2_64:.4f}\")\n",
    "print()\n",
    "print('✅Line4 batch size = 128')\n",
    "print(f\" 검증 RMSE: {rmse_128:.4f}\")\n",
    "print(f\" R² Score: {r2_128:.4f}\")\n",
    "print()\n",
    "print('✅Line4 batch size = 256')\n",
    "print(f\" 검증 RMSE: {rmse_256:.4f}\")\n",
    "print(f\" R² Score: {r2_256:.4f}\")"
   ]
  }
 ],
 "metadata": {
  "colab": {
   "collapsed_sections": [
    "eiOCYpscWcYs",
    "1b1f38e7-e5d5-4863-b74f-62f740da9ff7",
    "b0deef6f-b9b3-4cae-ad87-8a11a657d351",
    "06f8eafa-447b-437c-8e72-1919721e40ed",
    "a5d903ca-a384-4f40-8879-7adcf6846b57",
    "50d7e86f-fb2c-4b75-9497-91eaa1a3c6b0",
    "NHqgWA-OYnNB",
    "aOIIf1SwYnNC",
    "Ex5lJNliYnND",
    "G1L8KaZsYnNE",
    "akS2SJ0DYnNF",
    "_-dMWYNcYnNG",
    "l3dO_WXNYq1z",
    "j5TWqGfwYq10",
    "Rb-oXrZZYq10",
    "xlKqAoC4Yq10",
    "im7XkqKHYq11",
    "ydadRep1Yq11",
    "rQm1S2xDYre9",
    "cetTTOqIYre9",
    "rymPI-FIYre-",
    "6QDYsk5LYre-",
    "8i7ylQvtYre-",
    "Jk2d1wwOYre-"
   ],
   "provenance": []
  },
  "kernelspec": {
   "display_name": "Python 3 (ipykernel)",
   "language": "python",
   "name": "python3"
  },
  "language_info": {
   "codemirror_mode": {
    "name": "ipython",
    "version": 3
   },
   "file_extension": ".py",
   "mimetype": "text/x-python",
   "name": "python",
   "nbconvert_exporter": "python",
   "pygments_lexer": "ipython3",
   "version": "3.12.7"
  }
 },
 "nbformat": 4,
 "nbformat_minor": 5
}
